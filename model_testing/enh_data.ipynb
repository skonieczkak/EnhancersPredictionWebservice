{
 "cells": [
  {
   "cell_type": "code",
   "execution_count": 1,
   "metadata": {},
   "outputs": [],
   "source": [
    "import pandas as pd\n",
    "import numpy as np"
   ]
  },
  {
   "cell_type": "code",
   "execution_count": 2,
   "metadata": {},
   "outputs": [],
   "source": [
    "neg = pd.read_csv('negative_set.bed', delimiter='\\t', header=None)"
   ]
  },
  {
   "cell_type": "code",
   "execution_count": 3,
   "metadata": {},
   "outputs": [],
   "source": [
    "enh = pd.read_csv('GM12878.bed', delimiter='\\t', header=None)"
   ]
  },
  {
   "cell_type": "code",
   "execution_count": 4,
   "metadata": {},
   "outputs": [],
   "source": [
    "enh.columns = ['chr', 'cor1', 'cor2', 'score']"
   ]
  },
  {
   "cell_type": "code",
   "execution_count": 5,
   "metadata": {},
   "outputs": [],
   "source": [
    "neg.columns = ['chr', 'cor1', 'cor2']"
   ]
  },
  {
   "cell_type": "code",
   "execution_count": 6,
   "metadata": {},
   "outputs": [],
   "source": [
    "enh.drop('score', axis=1, inplace=True)"
   ]
  },
  {
   "cell_type": "code",
   "execution_count": 42,
   "metadata": {},
   "outputs": [
    {
     "data": {
      "text/plain": [
       "array(['chr10', 'chr11', 'chr12', 'chr13', 'chr15', 'chr16', 'chr17',\n",
       "       'chr18', 'chr19', 'chr2', 'chr20', 'chr22', 'chr3', 'chr4', 'chr5',\n",
       "       'chr6', 'chr7', 'chr8', 'chr9'], dtype=object)"
      ]
     },
     "execution_count": 42,
     "metadata": {},
     "output_type": "execute_result"
    }
   ],
   "source": [
    "np.unique(neg.chr)"
   ]
  },
  {
   "cell_type": "code",
   "execution_count": 40,
   "metadata": {},
   "outputs": [
    {
     "data": {
      "text/plain": [
       "array(['chr1', 'chr10', 'chr11', 'chr12', 'chr13', 'chr14', 'chr15',\n",
       "       'chr16', 'chr17', 'chr18', 'chr19', 'chr2', 'chr20', 'chr21',\n",
       "       'chr22', 'chr3', 'chr4', 'chr5', 'chr6', 'chr7', 'chr8', 'chr9'],\n",
       "      dtype=object)"
      ]
     },
     "execution_count": 40,
     "metadata": {},
     "output_type": "execute_result"
    }
   ],
   "source": [
    "np.unique(enh.chr)"
   ]
  },
  {
   "cell_type": "code",
   "execution_count": 39,
   "metadata": {},
   "outputs": [],
   "source": [
    "enh = enh[enh.chr != 'chrX']"
   ]
  },
  {
   "cell_type": "code",
   "execution_count": 41,
   "metadata": {},
   "outputs": [],
   "source": [
    "neg = neg[neg.chr != 'chrX']\n",
    "neg = neg[neg.chr != 'chrY']"
   ]
  },
  {
   "cell_type": "code",
   "execution_count": 52,
   "metadata": {},
   "outputs": [],
   "source": [
    "from Bio import SeqIO\n",
    "import gzip\n",
    "\n",
    "df_fasta = pd.DataFrame(columns=['ID', 'sequence'])\n",
    "with gzip.open(\"GRCh37.primary_assembly.genome.fa.gz\", \"rt\") as handle:\n",
    "    for record in SeqIO.parse(handle, 'fasta'):\n",
    "        identifier = record.id\n",
    "        sequence = record.seq\n",
    "        df_fasta = pd.concat([df_fasta, pd.DataFrame.from_records([{'ID':identifier, 'sequence':sequence}])], ignore_index=True)"
   ]
  },
  {
   "cell_type": "code",
   "execution_count": 115,
   "metadata": {},
   "outputs": [],
   "source": [
    "enhancers = []\n",
    "for i in range(len(enh)):\n",
    "    obs = enh.loc[i]\n",
    "    seq = df_fasta[df_fasta.ID == obs['chr']].reset_index().sequence[0]\n",
    "    enhancers.append(seq[obs['cor1']:obs['cor2']])"
   ]
  },
  {
   "cell_type": "code",
   "execution_count": 119,
   "metadata": {},
   "outputs": [],
   "source": [
    "enh['Sequence'] = enhancers"
   ]
  },
  {
   "cell_type": "code",
   "execution_count": 123,
   "metadata": {},
   "outputs": [],
   "source": [
    "enh['Enhancer'] = np.ones(len(enh))"
   ]
  },
  {
   "cell_type": "code",
   "execution_count": 132,
   "metadata": {},
   "outputs": [],
   "source": [
    "enhancers = []\n",
    "for i in range(len(neg)):\n",
    "    obs = neg.loc[i]\n",
    "    seq = df_fasta[df_fasta.ID == obs['chr']].reset_index().sequence[0]\n",
    "    enhancers.append(seq[obs['cor1']:obs['cor2']])"
   ]
  },
  {
   "cell_type": "code",
   "execution_count": 133,
   "metadata": {},
   "outputs": [
    {
     "data": {
      "text/plain": [
       "78479"
      ]
     },
     "execution_count": 133,
     "metadata": {},
     "output_type": "execute_result"
    }
   ],
   "source": [
    "len(enhancers)"
   ]
  },
  {
   "cell_type": "code",
   "execution_count": 134,
   "metadata": {},
   "outputs": [],
   "source": [
    "neg['Sequence'] = enhancers"
   ]
  },
  {
   "cell_type": "code",
   "execution_count": 135,
   "metadata": {},
   "outputs": [],
   "source": [
    "neg['Enhancer'] = np.zeros(len(neg))"
   ]
  },
  {
   "cell_type": "code",
   "execution_count": 155,
   "metadata": {},
   "outputs": [],
   "source": [
    "set = pd.concat([neg, enh]).reset_index()"
   ]
  },
  {
   "cell_type": "code",
   "execution_count": 170,
   "metadata": {},
   "outputs": [
    {
     "data": {
      "text/html": [
       "<div>\n",
       "<style scoped>\n",
       "    .dataframe tbody tr th:only-of-type {\n",
       "        vertical-align: middle;\n",
       "    }\n",
       "\n",
       "    .dataframe tbody tr th {\n",
       "        vertical-align: top;\n",
       "    }\n",
       "\n",
       "    .dataframe thead th {\n",
       "        text-align: right;\n",
       "    }\n",
       "</style>\n",
       "<table border=\"1\" class=\"dataframe\">\n",
       "  <thead>\n",
       "    <tr style=\"text-align: right;\">\n",
       "      <th></th>\n",
       "      <th>index</th>\n",
       "      <th>chr</th>\n",
       "      <th>cor1</th>\n",
       "      <th>cor2</th>\n",
       "      <th>Sequence</th>\n",
       "      <th>Enhancer</th>\n",
       "    </tr>\n",
       "  </thead>\n",
       "  <tbody>\n",
       "    <tr>\n",
       "      <th>0</th>\n",
       "      <td>2</td>\n",
       "      <td>chr10</td>\n",
       "      <td>72312</td>\n",
       "      <td>74222</td>\n",
       "      <td>(C, T, G, C, C, A, C, C, G, T, G, C, C, T, G, ...</td>\n",
       "      <td>0.0</td>\n",
       "    </tr>\n",
       "    <tr>\n",
       "      <th>1</th>\n",
       "      <td>3</td>\n",
       "      <td>chr10</td>\n",
       "      <td>84717</td>\n",
       "      <td>85177</td>\n",
       "      <td>(A, G, A, A, G, T, T, G, A, A, T, C, T, C, T, ...</td>\n",
       "      <td>0.0</td>\n",
       "    </tr>\n",
       "    <tr>\n",
       "      <th>2</th>\n",
       "      <td>4</td>\n",
       "      <td>chr10</td>\n",
       "      <td>90499</td>\n",
       "      <td>91949</td>\n",
       "      <td>(A, G, G, T, C, A, G, G, T, G, A, T, C, T, G, ...</td>\n",
       "      <td>0.0</td>\n",
       "    </tr>\n",
       "    <tr>\n",
       "      <th>3</th>\n",
       "      <td>5</td>\n",
       "      <td>chr10</td>\n",
       "      <td>104967</td>\n",
       "      <td>107977</td>\n",
       "      <td>(T, T, T, T, C, C, C, C, A, C, T, T, G, G, T, ...</td>\n",
       "      <td>0.0</td>\n",
       "    </tr>\n",
       "    <tr>\n",
       "      <th>4</th>\n",
       "      <td>6</td>\n",
       "      <td>chr10</td>\n",
       "      <td>114029</td>\n",
       "      <td>114779</td>\n",
       "      <td>(G, A, G, A, G, C, T, G, T, T, A, A, A, G, C, ...</td>\n",
       "      <td>0.0</td>\n",
       "    </tr>\n",
       "    <tr>\n",
       "      <th>...</th>\n",
       "      <td>...</td>\n",
       "      <td>...</td>\n",
       "      <td>...</td>\n",
       "      <td>...</td>\n",
       "      <td>...</td>\n",
       "      <td>...</td>\n",
       "    </tr>\n",
       "    <tr>\n",
       "      <th>120887</th>\n",
       "      <td>127034</td>\n",
       "      <td>chr9</td>\n",
       "      <td>140651150</td>\n",
       "      <td>140652330</td>\n",
       "      <td>(T, T, G, G, G, G, T, A, G, A, G, A, T, T, T, ...</td>\n",
       "      <td>1.0</td>\n",
       "    </tr>\n",
       "    <tr>\n",
       "      <th>120888</th>\n",
       "      <td>127035</td>\n",
       "      <td>chr9</td>\n",
       "      <td>140702130</td>\n",
       "      <td>140703100</td>\n",
       "      <td>(T, G, T, A, T, T, T, T, T, A, G, T, A, G, A, ...</td>\n",
       "      <td>1.0</td>\n",
       "    </tr>\n",
       "    <tr>\n",
       "      <th>120889</th>\n",
       "      <td>127036</td>\n",
       "      <td>chr9</td>\n",
       "      <td>140703310</td>\n",
       "      <td>140704120</td>\n",
       "      <td>(G, T, T, G, C, A, G, T, G, A, A, C, C, A, A, ...</td>\n",
       "      <td>1.0</td>\n",
       "    </tr>\n",
       "    <tr>\n",
       "      <th>120890</th>\n",
       "      <td>127037</td>\n",
       "      <td>chr9</td>\n",
       "      <td>140710520</td>\n",
       "      <td>140711890</td>\n",
       "      <td>(G, G, C, A, G, C, T, T, C, C, T, G, C, C, G, ...</td>\n",
       "      <td>1.0</td>\n",
       "    </tr>\n",
       "    <tr>\n",
       "      <th>120891</th>\n",
       "      <td>127038</td>\n",
       "      <td>chr9</td>\n",
       "      <td>140719390</td>\n",
       "      <td>140720520</td>\n",
       "      <td>(C, C, G, T, G, C, A, G, C, T, T, T, G, T, T, ...</td>\n",
       "      <td>1.0</td>\n",
       "    </tr>\n",
       "  </tbody>\n",
       "</table>\n",
       "<p>120892 rows × 6 columns</p>\n",
       "</div>"
      ],
      "text/plain": [
       "         index    chr       cor1       cor2  \\\n",
       "0            2  chr10      72312      74222   \n",
       "1            3  chr10      84717      85177   \n",
       "2            4  chr10      90499      91949   \n",
       "3            5  chr10     104967     107977   \n",
       "4            6  chr10     114029     114779   \n",
       "...        ...    ...        ...        ...   \n",
       "120887  127034   chr9  140651150  140652330   \n",
       "120888  127035   chr9  140702130  140703100   \n",
       "120889  127036   chr9  140703310  140704120   \n",
       "120890  127037   chr9  140710520  140711890   \n",
       "120891  127038   chr9  140719390  140720520   \n",
       "\n",
       "                                                 Sequence  Enhancer  \n",
       "0       (C, T, G, C, C, A, C, C, G, T, G, C, C, T, G, ...       0.0  \n",
       "1       (A, G, A, A, G, T, T, G, A, A, T, C, T, C, T, ...       0.0  \n",
       "2       (A, G, G, T, C, A, G, G, T, G, A, T, C, T, G, ...       0.0  \n",
       "3       (T, T, T, T, C, C, C, C, A, C, T, T, G, G, T, ...       0.0  \n",
       "4       (G, A, G, A, G, C, T, G, T, T, A, A, A, G, C, ...       0.0  \n",
       "...                                                   ...       ...  \n",
       "120887  (T, T, G, G, G, G, T, A, G, A, G, A, T, T, T, ...       1.0  \n",
       "120888  (T, G, T, A, T, T, T, T, T, A, G, T, A, G, A, ...       1.0  \n",
       "120889  (G, T, T, G, C, A, G, T, G, A, A, C, C, A, A, ...       1.0  \n",
       "120890  (G, G, C, A, G, C, T, T, C, C, T, G, C, C, G, ...       1.0  \n",
       "120891  (C, C, G, T, G, C, A, G, C, T, T, T, G, T, T, ...       1.0  \n",
       "\n",
       "[120892 rows x 6 columns]"
      ]
     },
     "execution_count": 170,
     "metadata": {},
     "output_type": "execute_result"
    }
   ],
   "source": [
    "set.reset_index()"
   ]
  },
  {
   "cell_type": "code",
   "execution_count": 158,
   "metadata": {},
   "outputs": [],
   "source": [
    "set = set.drop('index', axis=1)"
   ]
  },
  {
   "cell_type": "code",
   "execution_count": 178,
   "metadata": {},
   "outputs": [],
   "source": [
    "set.to_csv('enahncer_set.csv', index=False)"
   ]
  },
  {
   "cell_type": "code",
   "execution_count": 166,
   "metadata": {},
   "outputs": [
    {
     "data": {
      "text/plain": [
       "(127039, 5)"
      ]
     },
     "execution_count": 166,
     "metadata": {},
     "output_type": "execute_result"
    }
   ],
   "source": [
    "set.shape"
   ]
  },
  {
   "cell_type": "code",
   "execution_count": null,
   "metadata": {},
   "outputs": [],
   "source": [
    "nukl = ['A', 'T', 'C', 'G']"
   ]
  },
  {
   "cell_type": "code",
   "execution_count": 167,
   "metadata": {},
   "outputs": [],
   "source": [
    "for i in range(len(set)):\n",
    "    if 'N' in set.Sequence[i]:\n",
    "        set.drop(i, axis=0, inplace=True)"
   ]
  },
  {
   "cell_type": "code",
   "execution_count": 174,
   "metadata": {},
   "outputs": [],
   "source": [
    "set = set.reset_index()"
   ]
  },
  {
   "cell_type": "code",
   "execution_count": 176,
   "metadata": {},
   "outputs": [],
   "source": [
    "set.drop('index', axis=1, inplace=True)"
   ]
  },
  {
   "cell_type": "code",
   "execution_count": 177,
   "metadata": {},
   "outputs": [
    {
     "data": {
      "text/html": [
       "<div>\n",
       "<style scoped>\n",
       "    .dataframe tbody tr th:only-of-type {\n",
       "        vertical-align: middle;\n",
       "    }\n",
       "\n",
       "    .dataframe tbody tr th {\n",
       "        vertical-align: top;\n",
       "    }\n",
       "\n",
       "    .dataframe thead th {\n",
       "        text-align: right;\n",
       "    }\n",
       "</style>\n",
       "<table border=\"1\" class=\"dataframe\">\n",
       "  <thead>\n",
       "    <tr style=\"text-align: right;\">\n",
       "      <th></th>\n",
       "      <th>chr</th>\n",
       "      <th>cor1</th>\n",
       "      <th>cor2</th>\n",
       "      <th>Sequence</th>\n",
       "      <th>Enhancer</th>\n",
       "    </tr>\n",
       "  </thead>\n",
       "  <tbody>\n",
       "    <tr>\n",
       "      <th>0</th>\n",
       "      <td>chr10</td>\n",
       "      <td>72312</td>\n",
       "      <td>74222</td>\n",
       "      <td>(C, T, G, C, C, A, C, C, G, T, G, C, C, T, G, ...</td>\n",
       "      <td>0.0</td>\n",
       "    </tr>\n",
       "    <tr>\n",
       "      <th>1</th>\n",
       "      <td>chr10</td>\n",
       "      <td>84717</td>\n",
       "      <td>85177</td>\n",
       "      <td>(A, G, A, A, G, T, T, G, A, A, T, C, T, C, T, ...</td>\n",
       "      <td>0.0</td>\n",
       "    </tr>\n",
       "    <tr>\n",
       "      <th>2</th>\n",
       "      <td>chr10</td>\n",
       "      <td>90499</td>\n",
       "      <td>91949</td>\n",
       "      <td>(A, G, G, T, C, A, G, G, T, G, A, T, C, T, G, ...</td>\n",
       "      <td>0.0</td>\n",
       "    </tr>\n",
       "    <tr>\n",
       "      <th>3</th>\n",
       "      <td>chr10</td>\n",
       "      <td>104967</td>\n",
       "      <td>107977</td>\n",
       "      <td>(T, T, T, T, C, C, C, C, A, C, T, T, G, G, T, ...</td>\n",
       "      <td>0.0</td>\n",
       "    </tr>\n",
       "    <tr>\n",
       "      <th>4</th>\n",
       "      <td>chr10</td>\n",
       "      <td>114029</td>\n",
       "      <td>114779</td>\n",
       "      <td>(G, A, G, A, G, C, T, G, T, T, A, A, A, G, C, ...</td>\n",
       "      <td>0.0</td>\n",
       "    </tr>\n",
       "    <tr>\n",
       "      <th>...</th>\n",
       "      <td>...</td>\n",
       "      <td>...</td>\n",
       "      <td>...</td>\n",
       "      <td>...</td>\n",
       "      <td>...</td>\n",
       "    </tr>\n",
       "    <tr>\n",
       "      <th>120887</th>\n",
       "      <td>chr9</td>\n",
       "      <td>140651150</td>\n",
       "      <td>140652330</td>\n",
       "      <td>(T, T, G, G, G, G, T, A, G, A, G, A, T, T, T, ...</td>\n",
       "      <td>1.0</td>\n",
       "    </tr>\n",
       "    <tr>\n",
       "      <th>120888</th>\n",
       "      <td>chr9</td>\n",
       "      <td>140702130</td>\n",
       "      <td>140703100</td>\n",
       "      <td>(T, G, T, A, T, T, T, T, T, A, G, T, A, G, A, ...</td>\n",
       "      <td>1.0</td>\n",
       "    </tr>\n",
       "    <tr>\n",
       "      <th>120889</th>\n",
       "      <td>chr9</td>\n",
       "      <td>140703310</td>\n",
       "      <td>140704120</td>\n",
       "      <td>(G, T, T, G, C, A, G, T, G, A, A, C, C, A, A, ...</td>\n",
       "      <td>1.0</td>\n",
       "    </tr>\n",
       "    <tr>\n",
       "      <th>120890</th>\n",
       "      <td>chr9</td>\n",
       "      <td>140710520</td>\n",
       "      <td>140711890</td>\n",
       "      <td>(G, G, C, A, G, C, T, T, C, C, T, G, C, C, G, ...</td>\n",
       "      <td>1.0</td>\n",
       "    </tr>\n",
       "    <tr>\n",
       "      <th>120891</th>\n",
       "      <td>chr9</td>\n",
       "      <td>140719390</td>\n",
       "      <td>140720520</td>\n",
       "      <td>(C, C, G, T, G, C, A, G, C, T, T, T, G, T, T, ...</td>\n",
       "      <td>1.0</td>\n",
       "    </tr>\n",
       "  </tbody>\n",
       "</table>\n",
       "<p>120892 rows × 5 columns</p>\n",
       "</div>"
      ],
      "text/plain": [
       "          chr       cor1       cor2  \\\n",
       "0       chr10      72312      74222   \n",
       "1       chr10      84717      85177   \n",
       "2       chr10      90499      91949   \n",
       "3       chr10     104967     107977   \n",
       "4       chr10     114029     114779   \n",
       "...       ...        ...        ...   \n",
       "120887   chr9  140651150  140652330   \n",
       "120888   chr9  140702130  140703100   \n",
       "120889   chr9  140703310  140704120   \n",
       "120890   chr9  140710520  140711890   \n",
       "120891   chr9  140719390  140720520   \n",
       "\n",
       "                                                 Sequence  Enhancer  \n",
       "0       (C, T, G, C, C, A, C, C, G, T, G, C, C, T, G, ...       0.0  \n",
       "1       (A, G, A, A, G, T, T, G, A, A, T, C, T, C, T, ...       0.0  \n",
       "2       (A, G, G, T, C, A, G, G, T, G, A, T, C, T, G, ...       0.0  \n",
       "3       (T, T, T, T, C, C, C, C, A, C, T, T, G, G, T, ...       0.0  \n",
       "4       (G, A, G, A, G, C, T, G, T, T, A, A, A, G, C, ...       0.0  \n",
       "...                                                   ...       ...  \n",
       "120887  (T, T, G, G, G, G, T, A, G, A, G, A, T, T, T, ...       1.0  \n",
       "120888  (T, G, T, A, T, T, T, T, T, A, G, T, A, G, A, ...       1.0  \n",
       "120889  (G, T, T, G, C, A, G, T, G, A, A, C, C, A, A, ...       1.0  \n",
       "120890  (G, G, C, A, G, C, T, T, C, C, T, G, C, C, G, ...       1.0  \n",
       "120891  (C, C, G, T, G, C, A, G, C, T, T, T, G, T, T, ...       1.0  \n",
       "\n",
       "[120892 rows x 5 columns]"
      ]
     },
     "execution_count": 177,
     "metadata": {},
     "output_type": "execute_result"
    }
   ],
   "source": [
    "set"
   ]
  },
  {
   "cell_type": "code",
   "execution_count": 164,
   "metadata": {},
   "outputs": [
    {
     "data": {
      "text/plain": [
       "False"
      ]
     },
     "execution_count": 164,
     "metadata": {},
     "output_type": "execute_result"
    }
   ],
   "source": [
    "'N' in set.Sequence[120]"
   ]
  },
  {
   "cell_type": "code",
   "execution_count": null,
   "metadata": {},
   "outputs": [],
   "source": [
    "set.to_csv('enahncer_set.csv', index=False)"
   ]
  },
  {
   "cell_type": "code",
   "execution_count": null,
   "metadata": {},
   "outputs": [],
   "source": []
  }
 ],
 "metadata": {
  "kernelspec": {
   "display_name": "Python 3",
   "language": "python",
   "name": "python3"
  },
  "language_info": {
   "codemirror_mode": {
    "name": "ipython",
    "version": 3
   },
   "file_extension": ".py",
   "mimetype": "text/x-python",
   "name": "python",
   "nbconvert_exporter": "python",
   "pygments_lexer": "ipython3",
   "version": "3.8.3"
  }
 },
 "nbformat": 4,
 "nbformat_minor": 4
}
