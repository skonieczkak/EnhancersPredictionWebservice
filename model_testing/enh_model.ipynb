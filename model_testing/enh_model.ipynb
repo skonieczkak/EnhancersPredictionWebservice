{
 "cells": [
  {
   "cell_type": "code",
   "execution_count": 1,
   "metadata": {},
   "outputs": [],
   "source": [
    "import pandas as pd\n",
    "import numpy as np\n",
    "import itertools\n",
    "from sklearn.model_selection import train_test_split\n",
    "from sklearn.neighbors import KNeighborsClassifier\n",
    "from sklearn.metrics import accuracy_score, recall_score, precision_score, roc_auc_score\n",
    "from sklearn.neural_network import MLPClassifier\n",
    "from sklearn.tree import DecisionTreeClassifier\n",
    "from sklearn.ensemble import RandomForestClassifier, AdaBoostClassifier, VotingClassifier\n",
    "from sklearn.naive_bayes import GaussianNB\n",
    "from xgboost import XGBClassifier\n",
    "from sklearn import model_selection"
   ]
  },
  {
   "cell_type": "code",
   "execution_count": 5,
   "metadata": {},
   "outputs": [],
   "source": [
    "df = pd.read_csv('enhancer_set.csv')"
   ]
  },
  {
   "cell_type": "code",
   "execution_count": 7,
   "metadata": {},
   "outputs": [],
   "source": [
    "def reverse_kmer(mer):\n",
    "    reverse = []\n",
    "    for letter in mer:\n",
    "        if letter == 'A':\n",
    "            reverse.append('T')\n",
    "        elif letter == 'T':\n",
    "            reverse.append('A')\n",
    "        elif letter == 'G':\n",
    "            reverse.append('C')\n",
    "        else:\n",
    "            reverse.append('G')\n",
    "    x = ''.join(reverse)\n",
    "    return x[::-1] "
   ]
  },
  {
   "cell_type": "code",
   "execution_count": 8,
   "metadata": {},
   "outputs": [],
   "source": [
    "def get_kmers(k):\n",
    "    base = ['A', 'T', 'C', 'G']\n",
    "    w = [''.join(p) for p in itertools.product(base, repeat=k)]\n",
    "    kmers = []\n",
    "    for mer in w:\n",
    "        if reverse_kmer(mer) not in kmers:\n",
    "            kmers.append(mer)\n",
    "    return kmers"
   ]
  },
  {
   "cell_type": "code",
   "execution_count": 18,
   "metadata": {},
   "outputs": [],
   "source": [
    "def count_kmers_v2(k, sequence):\n",
    "    number_of_kmer = len(sequence) - k + 1\n",
    "    kes = get_kmers(k)\n",
    "    count = {k:0 for k in kes}\n",
    "    for i in range(number_of_kmer):\n",
    "        kmer = sequence[i:i+k]\n",
    "        if kmer in kes:\n",
    "            count[kmer] += 1/number_of_kmer\n",
    "        elif reverse_kmer(kmer) in kes:\n",
    "            count[reverse_kmer(kmer)] += 1/number_of_kmer\n",
    "    return count.values"
   ]
  },
  {
   "cell_type": "code",
   "execution_count": 9,
   "metadata": {},
   "outputs": [],
   "source": [
    "def count_kmers(k, sequence):\n",
    "    kmers = get_kmers(k)\n",
    "    count = []\n",
    "    for kmer in kmers:\n",
    "        if kmer == reverse_kmer(kmer):\n",
    "            count.append(sequence.count(kmer))\n",
    "        else:\n",
    "            count.append(sequence.count(kmer) + sequence.count(reverse_kmer(kmer)))\n",
    "    return count"
   ]
  },
  {
   "cell_type": "code",
   "execution_count": 10,
   "metadata": {},
   "outputs": [
    {
     "data": {
      "text/plain": [
       "['AA', 'AT', 'AC', 'AG', 'TA', 'TC', 'TG', 'CC', 'CG', 'GC']"
      ]
     },
     "execution_count": 10,
     "metadata": {},
     "output_type": "execute_result"
    }
   ],
   "source": [
    "get_kmers(2)"
   ]
  },
  {
   "cell_type": "markdown",
   "metadata": {},
   "source": [
    "# 2-mery"
   ]
  },
  {
   "cell_type": "code",
   "execution_count": 10,
   "metadata": {},
   "outputs": [
    {
     "name": "stdout",
     "output_type": "stream",
     "text": [
      "0\n",
      "10000\n",
      "20000\n",
      "30000\n",
      "40000\n",
      "50000\n",
      "60000\n",
      "70000\n",
      "80000\n",
      "90000\n",
      "100000\n",
      "110000\n",
      "120000\n"
     ]
    }
   ],
   "source": [
    "count_df = pd.DataFrame(columns=get_kmers(2))\n",
    "for i in range(len(df)):\n",
    "    if i % 10000 == 0:\n",
    "        print(i)\n",
    "    count_df.loc[i] = count_kmers(2, df.Sequence[i])"
   ]
  },
  {
   "cell_type": "code",
   "execution_count": 43,
   "metadata": {},
   "outputs": [],
   "source": [
    "data = pd.concat([df, count_df], axis=1)"
   ]
  },
  {
   "cell_type": "code",
   "execution_count": 44,
   "metadata": {},
   "outputs": [],
   "source": [
    "data['length'] = data.cor2 - data.cor1"
   ]
  },
  {
   "cell_type": "code",
   "execution_count": 45,
   "metadata": {},
   "outputs": [],
   "source": [
    "data['chr'] = [napis[3:] for napis in data.chr]"
   ]
  },
  {
   "cell_type": "code",
   "execution_count": 46,
   "metadata": {},
   "outputs": [],
   "source": [
    "data.drop(['cor1', 'cor2', 'Sequence'], axis=1, inplace=True)"
   ]
  },
  {
   "cell_type": "code",
   "execution_count": 47,
   "metadata": {},
   "outputs": [],
   "source": [
    "data['chr'] = data['chr'].astype(int)"
   ]
  },
  {
   "cell_type": "code",
   "execution_count": 48,
   "metadata": {
    "scrolled": true
   },
   "outputs": [],
   "source": [
    "y = data['Enhancer']"
   ]
  },
  {
   "cell_type": "code",
   "execution_count": 49,
   "metadata": {},
   "outputs": [],
   "source": [
    "data.drop('Enhancer', axis=1, inplace=True)"
   ]
  },
  {
   "cell_type": "code",
   "execution_count": 50,
   "metadata": {},
   "outputs": [],
   "source": [
    "X_train, X_test, y_train, y_test = train_test_split(\n",
    "     data, y, test_size=0.30, random_state=42)"
   ]
  },
  {
   "cell_type": "markdown",
   "metadata": {},
   "source": [
    "***"
   ]
  },
  {
   "cell_type": "code",
   "execution_count": 18,
   "metadata": {},
   "outputs": [
    {
     "data": {
      "text/plain": [
       "KNeighborsClassifier(algorithm='auto', leaf_size=30, metric='minkowski',\n",
       "                     metric_params=None, n_jobs=None, n_neighbors=3, p=2,\n",
       "                     weights='uniform')"
      ]
     },
     "execution_count": 18,
     "metadata": {},
     "output_type": "execute_result"
    }
   ],
   "source": [
    "neigh = KNeighborsClassifier(n_neighbors=3)\n",
    "neigh.fit(X_train, y_train)"
   ]
  },
  {
   "cell_type": "code",
   "execution_count": null,
   "metadata": {},
   "outputs": [],
   "source": [
    "pred = neigh.predict(X_train)\n",
    "pred_t = neigh.predict(X_test)"
   ]
  },
  {
   "cell_type": "code",
   "execution_count": 20,
   "metadata": {},
   "outputs": [
    {
     "name": "stdout",
     "output_type": "stream",
     "text": [
      "0.7997494800529401\n",
      "0.7751363490535772\n",
      "0.708575283007801\n",
      "0.7849273121685086\n"
     ]
    }
   ],
   "source": [
    "print(accuracy_score(y_train, pred))\n",
    "print(precision_score(y_train, pred))\n",
    "print(recall_score(y_train, pred))\n",
    "print(roc_auc_score(y_train, pred))"
   ]
  },
  {
   "cell_type": "code",
   "execution_count": 124,
   "metadata": {},
   "outputs": [
    {
     "name": "stdout",
     "output_type": "stream",
     "text": [
      "0.6249862137421418\n",
      "0.5301847124192822\n",
      "0.49017702186740714\n",
      "0.6019928698963346\n"
     ]
    }
   ],
   "source": [
    "print(accuracy_score(y_test, pred_t))\n",
    "print(precision_score(y_test, pred_t))\n",
    "print(recall_score(y_test, pred_t))\n",
    "print(roc_auc_score(y_test, pred_t))"
   ]
  },
  {
   "cell_type": "markdown",
   "metadata": {},
   "source": [
    "***"
   ]
  },
  {
   "cell_type": "code",
   "execution_count": 135,
   "metadata": {},
   "outputs": [],
   "source": [
    "mlp = MLPClassifier(random_state=1, max_iter=300, learning_rate='adaptive', batch_size=100).fit(X_train, y_train)"
   ]
  },
  {
   "cell_type": "code",
   "execution_count": 136,
   "metadata": {},
   "outputs": [],
   "source": [
    "pred = mlp.predict(X_train)\n",
    "pred_t = mlp.predict(X_test)"
   ]
  },
  {
   "cell_type": "code",
   "execution_count": 137,
   "metadata": {},
   "outputs": [
    {
     "name": "stdout",
     "output_type": "stream",
     "text": [
      "0.6983716203441104\n",
      "0.6879302029900478\n",
      "0.4601736172209514\n",
      "0.6596478267001721\n"
     ]
    }
   ],
   "source": [
    "print(accuracy_score(y_train, pred))\n",
    "print(precision_score(y_train, pred))\n",
    "print(recall_score(y_train, pred))\n",
    "print(roc_auc_score(y_train, pred))"
   ]
  },
  {
   "cell_type": "code",
   "execution_count": 138,
   "metadata": {},
   "outputs": [
    {
     "name": "stdout",
     "output_type": "stream",
     "text": [
      "0.6970883423403551\n",
      "0.6768387296989758\n",
      "0.45421728566469977\n",
      "0.6556637359119821\n"
     ]
    }
   ],
   "source": [
    "print(accuracy_score(y_test, pred_t))\n",
    "print(precision_score(y_test, pred_t))\n",
    "print(recall_score(y_test, pred_t))\n",
    "print(roc_auc_score(y_test, pred_t))"
   ]
  },
  {
   "cell_type": "markdown",
   "metadata": {},
   "source": [
    "***"
   ]
  },
  {
   "cell_type": "code",
   "execution_count": 176,
   "metadata": {},
   "outputs": [
    {
     "data": {
      "text/plain": [
       "DecisionTreeClassifier(ccp_alpha=0.0, class_weight=None, criterion='entropy',\n",
       "                       max_depth=8, max_features=None, max_leaf_nodes=None,\n",
       "                       min_impurity_decrease=0.0, min_impurity_split=None,\n",
       "                       min_samples_leaf=1, min_samples_split=2,\n",
       "                       min_weight_fraction_leaf=0.0, presort='deprecated',\n",
       "                       random_state=0, splitter='best')"
      ]
     },
     "execution_count": 176,
     "metadata": {},
     "output_type": "execute_result"
    }
   ],
   "source": [
    "dt = DecisionTreeClassifier(random_state=0, max_depth=8, criterion=\"entropy\", splitter='best')\n",
    "dt.fit(X_train, y_train)"
   ]
  },
  {
   "cell_type": "code",
   "execution_count": 177,
   "metadata": {},
   "outputs": [],
   "source": [
    "pred = dt.predict(X_train)\n",
    "pred_t = dt.predict(X_test)"
   ]
  },
  {
   "cell_type": "code",
   "execution_count": 178,
   "metadata": {},
   "outputs": [
    {
     "name": "stdout",
     "output_type": "stream",
     "text": [
      "0.6795353564000757\n",
      "0.6902153175252113\n",
      "0.3713414276497155\n",
      "0.6294323415016974\n"
     ]
    }
   ],
   "source": [
    "print(accuracy_score(y_train, pred))\n",
    "print(precision_score(y_train, pred))\n",
    "print(recall_score(y_train, pred))\n",
    "print(roc_auc_score(y_train, pred))"
   ]
  },
  {
   "cell_type": "code",
   "execution_count": 179,
   "metadata": {},
   "outputs": [
    {
     "name": "stdout",
     "output_type": "stream",
     "text": [
      "0.6744237344215286\n",
      "0.6660273622298939\n",
      "0.36161055189170427\n",
      "0.6210696495450837\n"
     ]
    }
   ],
   "source": [
    "print(accuracy_score(y_test, pred_t))\n",
    "print(precision_score(y_test, pred_t))\n",
    "print(recall_score(y_test, pred_t))\n",
    "print(roc_auc_score(y_test, pred_t))"
   ]
  },
  {
   "cell_type": "markdown",
   "metadata": {},
   "source": [
    "***"
   ]
  },
  {
   "cell_type": "code",
   "execution_count": 190,
   "metadata": {},
   "outputs": [
    {
     "data": {
      "text/plain": [
       "RandomForestClassifier(bootstrap=True, ccp_alpha=0.0, class_weight=None,\n",
       "                       criterion='gini', max_depth=10, max_features='auto',\n",
       "                       max_leaf_nodes=None, max_samples=None,\n",
       "                       min_impurity_decrease=0.0, min_impurity_split=None,\n",
       "                       min_samples_leaf=1, min_samples_split=2,\n",
       "                       min_weight_fraction_leaf=0.0, n_estimators=20,\n",
       "                       n_jobs=None, oob_score=False, random_state=0, verbose=0,\n",
       "                       warm_start=False)"
      ]
     },
     "execution_count": 190,
     "metadata": {},
     "output_type": "execute_result"
    }
   ],
   "source": [
    "rf = RandomForestClassifier(max_depth=10, random_state=0, n_estimators=20)\n",
    "rf.fit(X_test, y_test)"
   ]
  },
  {
   "cell_type": "code",
   "execution_count": 191,
   "metadata": {},
   "outputs": [],
   "source": [
    "pred = rf.predict(X_train)\n",
    "pred_t = rf.predict(X_test)"
   ]
  },
  {
   "cell_type": "code",
   "execution_count": 192,
   "metadata": {},
   "outputs": [
    {
     "name": "stdout",
     "output_type": "stream",
     "text": [
      "0.6843094157685763\n",
      "0.6908245024554148\n",
      "0.39192914540442253\n",
      "0.6367772236146128\n"
     ]
    }
   ],
   "source": [
    "print(accuracy_score(y_train, pred))\n",
    "print(precision_score(y_train, pred))\n",
    "print(recall_score(y_train, pred))\n",
    "print(roc_auc_score(y_train, pred))"
   ]
  },
  {
   "cell_type": "code",
   "execution_count": 193,
   "metadata": {},
   "outputs": [
    {
     "name": "stdout",
     "output_type": "stream",
     "text": [
      "0.7324638800044116\n",
      "0.7824363286881307\n",
      "0.45213467545990976\n",
      "0.6846503318295752\n"
     ]
    }
   ],
   "source": [
    "print(accuracy_score(y_test, pred_t))\n",
    "print(precision_score(y_test, pred_t))\n",
    "print(recall_score(y_test, pred_t))\n",
    "print(roc_auc_score(y_test, pred_t))"
   ]
  },
  {
   "cell_type": "markdown",
   "metadata": {},
   "source": [
    "***"
   ]
  },
  {
   "cell_type": "code",
   "execution_count": 51,
   "metadata": {},
   "outputs": [],
   "source": [
    "xgb = XGBClassifier()"
   ]
  },
  {
   "cell_type": "code",
   "execution_count": null,
   "metadata": {},
   "outputs": [],
   "source": [
    "xgb.fit(X_train, y_train)"
   ]
  },
  {
   "cell_type": "code",
   "execution_count": null,
   "metadata": {},
   "outputs": [],
   "source": [
    "pred = xgb.predict(X_train)\n",
    "pred_t = xgb.predict(X_test)"
   ]
  },
  {
   "cell_type": "code",
   "execution_count": 54,
   "metadata": {},
   "outputs": [
    {
     "name": "stdout",
     "output_type": "stream",
     "text": [
      "0.7605171109850634\n",
      "0.7746188055908514\n",
      "0.5721156666080122\n",
      "0.7298887322471245\n"
     ]
    }
   ],
   "source": [
    "print(accuracy_score(y_train, pred))\n",
    "print(precision_score(y_train, pred))\n",
    "print(recall_score(y_train, pred))\n",
    "print(roc_auc_score(y_train, pred))"
   ]
  },
  {
   "cell_type": "code",
   "execution_count": 55,
   "metadata": {},
   "outputs": [
    {
     "name": "stdout",
     "output_type": "stream",
     "text": [
      "0.7083379287526194\n",
      "0.6813916010996303\n",
      "0.49899340506768486\n",
      "0.672631679435457\n"
     ]
    }
   ],
   "source": [
    "print(accuracy_score(y_test, pred_t))\n",
    "print(precision_score(y_test, pred_t))\n",
    "print(recall_score(y_test, pred_t))\n",
    "print(roc_auc_score(y_test, pred_t))"
   ]
  },
  {
   "cell_type": "markdown",
   "metadata": {},
   "source": [
    "# 3-mery"
   ]
  },
  {
   "cell_type": "code",
   "execution_count": 56,
   "metadata": {},
   "outputs": [
    {
     "name": "stdout",
     "output_type": "stream",
     "text": [
      "0\n",
      "10000\n",
      "20000\n",
      "30000\n",
      "40000\n",
      "50000\n",
      "60000\n",
      "70000\n",
      "80000\n",
      "90000\n",
      "100000\n",
      "110000\n",
      "120000\n"
     ]
    }
   ],
   "source": [
    "count_df = pd.DataFrame(columns=get_kmers(3))\n",
    "for i in range(len(df)):\n",
    "    if i % 10000 == 0:\n",
    "        print(i)\n",
    "    count_df.loc[i] = count_kmers(3, df.Sequence[i])"
   ]
  },
  {
   "cell_type": "code",
   "execution_count": 58,
   "metadata": {},
   "outputs": [],
   "source": [
    "data = pd.concat([df, count_df], axis=1)\n",
    "data['length'] = data.cor2 - data.cor1\n",
    "data['chr'] = [napis[3:] for napis in data.chr]\n",
    "data.drop(['cor1', 'cor2', 'Sequence'], axis=1, inplace=True)\n",
    "data['chr'] = data['chr'].astype(int)"
   ]
  },
  {
   "cell_type": "code",
   "execution_count": 59,
   "metadata": {},
   "outputs": [],
   "source": [
    "y = data['Enhancer']\n",
    "data.drop('Enhancer', axis=1, inplace=True)\n",
    "X_train, X_test, y_train, y_test = train_test_split(\n",
    "     data, y, test_size=0.30, random_state=42)"
   ]
  },
  {
   "cell_type": "markdown",
   "metadata": {},
   "source": [
    "***"
   ]
  },
  {
   "cell_type": "code",
   "execution_count": 60,
   "metadata": {},
   "outputs": [
    {
     "data": {
      "text/plain": [
       "KNeighborsClassifier(algorithm='auto', leaf_size=30, metric='minkowski',\n",
       "                     metric_params=None, n_jobs=None, n_neighbors=3, p=2,\n",
       "                     weights='uniform')"
      ]
     },
     "execution_count": 60,
     "metadata": {},
     "output_type": "execute_result"
    }
   ],
   "source": [
    "neigh = KNeighborsClassifier(n_neighbors=3)\n",
    "neigh.fit(X_train, y_train)"
   ]
  },
  {
   "cell_type": "code",
   "execution_count": null,
   "metadata": {},
   "outputs": [],
   "source": [
    "pred = neigh.predict(X_train)\n",
    "pred_t = neigh.predict(X_test)"
   ]
  },
  {
   "cell_type": "code",
   "execution_count": 62,
   "metadata": {},
   "outputs": [
    {
     "name": "stdout",
     "output_type": "stream",
     "text": [
      "0.8013802231045566\n",
      "0.7782247682801235\n",
      "0.7091618276731773\n",
      "0.786388300132753\n"
     ]
    }
   ],
   "source": [
    "print(accuracy_score(y_train, pred))\n",
    "print(precision_score(y_train, pred))\n",
    "print(recall_score(y_train, pred))\n",
    "print(roc_auc_score(y_train, pred))"
   ]
  },
  {
   "cell_type": "code",
   "execution_count": 63,
   "metadata": {},
   "outputs": [
    {
     "name": "stdout",
     "output_type": "stream",
     "text": [
      "0.6233594353148781\n",
      "0.527950776618894\n",
      "0.48844151336341546\n",
      "0.600347546234834\n"
     ]
    }
   ],
   "source": [
    "print(accuracy_score(y_test, pred_t))\n",
    "print(precision_score(y_test, pred_t))\n",
    "print(recall_score(y_test, pred_t))\n",
    "print(roc_auc_score(y_test, pred_t))"
   ]
  },
  {
   "cell_type": "markdown",
   "metadata": {},
   "source": [
    "***"
   ]
  },
  {
   "cell_type": "code",
   "execution_count": 64,
   "metadata": {},
   "outputs": [],
   "source": [
    "mlp = MLPClassifier(random_state=1, max_iter=300, learning_rate='adaptive', batch_size=100).fit(X_train, y_train)"
   ]
  },
  {
   "cell_type": "code",
   "execution_count": 65,
   "metadata": {},
   "outputs": [],
   "source": [
    "pred = mlp.predict(X_train)\n",
    "pred_t = mlp.predict(X_test)"
   ]
  },
  {
   "cell_type": "code",
   "execution_count": 66,
   "metadata": {},
   "outputs": [
    {
     "name": "stdout",
     "output_type": "stream",
     "text": [
      "0.7036656267725468\n",
      "0.6836896762370189\n",
      "0.4923455921168397\n",
      "0.6693113781745581\n"
     ]
    }
   ],
   "source": [
    "print(accuracy_score(y_train, pred))\n",
    "print(precision_score(y_train, pred))\n",
    "print(recall_score(y_train, pred))\n",
    "print(roc_auc_score(y_train, pred))"
   ]
  },
  {
   "cell_type": "code",
   "execution_count": 67,
   "metadata": {},
   "outputs": [
    {
     "name": "stdout",
     "output_type": "stream",
     "text": [
      "0.7027131355464873\n",
      "0.6735984666986105\n",
      "0.4879555709822978\n",
      "0.6660836264095956\n"
     ]
    }
   ],
   "source": [
    "print(accuracy_score(y_test, pred_t))\n",
    "print(precision_score(y_test, pred_t))\n",
    "print(recall_score(y_test, pred_t))\n",
    "print(roc_auc_score(y_test, pred_t))"
   ]
  },
  {
   "cell_type": "markdown",
   "metadata": {},
   "source": [
    "***"
   ]
  },
  {
   "cell_type": "code",
   "execution_count": 68,
   "metadata": {},
   "outputs": [
    {
     "data": {
      "text/plain": [
       "DecisionTreeClassifier(ccp_alpha=0.0, class_weight=None, criterion='entropy',\n",
       "                       max_depth=8, max_features=None, max_leaf_nodes=None,\n",
       "                       min_impurity_decrease=0.0, min_impurity_split=None,\n",
       "                       min_samples_leaf=1, min_samples_split=2,\n",
       "                       min_weight_fraction_leaf=0.0, presort='deprecated',\n",
       "                       random_state=0, splitter='best')"
      ]
     },
     "execution_count": 68,
     "metadata": {},
     "output_type": "execute_result"
    }
   ],
   "source": [
    "dt = DecisionTreeClassifier(random_state=0, max_depth=8, criterion=\"entropy\", splitter='best')\n",
    "dt.fit(X_train, y_train)"
   ]
  },
  {
   "cell_type": "code",
   "execution_count": 69,
   "metadata": {},
   "outputs": [],
   "source": [
    "pred = dt.predict(X_train)\n",
    "pred_t = dt.predict(X_test)"
   ]
  },
  {
   "cell_type": "code",
   "execution_count": 70,
   "metadata": {},
   "outputs": [
    {
     "name": "stdout",
     "output_type": "stream",
     "text": [
      "0.6826668557383249\n",
      "0.7226730603713267\n",
      "0.34474162707490175\n",
      "0.6277304303683894\n"
     ]
    }
   ],
   "source": [
    "print(accuracy_score(y_train, pred))\n",
    "print(precision_score(y_train, pred))\n",
    "print(recall_score(y_train, pred))\n",
    "print(roc_auc_score(y_train, pred))"
   ]
  },
  {
   "cell_type": "code",
   "execution_count": 71,
   "metadata": {},
   "outputs": [
    {
     "name": "stdout",
     "output_type": "stream",
     "text": [
      "0.676105657880225\n",
      "0.69390137146192\n",
      "0.33016313779937523\n",
      "0.6171009623955481\n"
     ]
    }
   ],
   "source": [
    "print(accuracy_score(y_test, pred_t))\n",
    "print(precision_score(y_test, pred_t))\n",
    "print(recall_score(y_test, pred_t))\n",
    "print(roc_auc_score(y_test, pred_t))"
   ]
  },
  {
   "cell_type": "markdown",
   "metadata": {},
   "source": [
    "***"
   ]
  },
  {
   "cell_type": "code",
   "execution_count": 72,
   "metadata": {},
   "outputs": [
    {
     "data": {
      "text/plain": [
       "RandomForestClassifier(bootstrap=True, ccp_alpha=0.0, class_weight=None,\n",
       "                       criterion='gini', max_depth=10, max_features='auto',\n",
       "                       max_leaf_nodes=None, max_samples=None,\n",
       "                       min_impurity_decrease=0.0, min_impurity_split=None,\n",
       "                       min_samples_leaf=1, min_samples_split=2,\n",
       "                       min_weight_fraction_leaf=0.0, n_estimators=20,\n",
       "                       n_jobs=None, oob_score=False, random_state=0, verbose=0,\n",
       "                       warm_start=False)"
      ]
     },
     "execution_count": 72,
     "metadata": {},
     "output_type": "execute_result"
    }
   ],
   "source": [
    "rf = RandomForestClassifier(max_depth=10, random_state=0, n_estimators=20)\n",
    "rf.fit(X_test, y_test)"
   ]
  },
  {
   "cell_type": "code",
   "execution_count": 73,
   "metadata": {},
   "outputs": [],
   "source": [
    "pred = rf.predict(X_train)\n",
    "pred_t = rf.predict(X_test)"
   ]
  },
  {
   "cell_type": "code",
   "execution_count": 74,
   "metadata": {},
   "outputs": [
    {
     "name": "stdout",
     "output_type": "stream",
     "text": [
      "0.6894734354320288\n",
      "0.7099892588614393\n",
      "0.38770602381371344\n",
      "0.6404151779203943\n"
     ]
    }
   ],
   "source": [
    "print(accuracy_score(y_train, pred))\n",
    "print(precision_score(y_train, pred))\n",
    "print(recall_score(y_train, pred))\n",
    "print(roc_auc_score(y_train, pred))"
   ]
  },
  {
   "cell_type": "code",
   "execution_count": 75,
   "metadata": {},
   "outputs": [
    {
     "name": "stdout",
     "output_type": "stream",
     "text": [
      "0.7554869306275505\n",
      "0.842933234237582\n",
      "0.4724054147865325\n",
      "0.707203942356446\n"
     ]
    }
   ],
   "source": [
    "print(accuracy_score(y_test, pred_t))\n",
    "print(precision_score(y_test, pred_t))\n",
    "print(recall_score(y_test, pred_t))\n",
    "print(roc_auc_score(y_test, pred_t))"
   ]
  },
  {
   "cell_type": "markdown",
   "metadata": {},
   "source": [
    "***"
   ]
  },
  {
   "cell_type": "code",
   "execution_count": null,
   "metadata": {},
   "outputs": [],
   "source": [
    "xgb.fit(X_train, y_train)"
   ]
  },
  {
   "cell_type": "code",
   "execution_count": null,
   "metadata": {},
   "outputs": [],
   "source": [
    "pred = xgb.predict(X_train)\n",
    "pred_t = xgb.predict(X_test)"
   ]
  },
  {
   "cell_type": "code",
   "execution_count": 78,
   "metadata": {},
   "outputs": [
    {
     "name": "stdout",
     "output_type": "stream",
     "text": [
      "0.7912767063717149\n",
      "0.8065659391904495\n",
      "0.6340547832717461\n",
      "0.7657171751136864\n"
     ]
    }
   ],
   "source": [
    "print(accuracy_score(y_train, pred))\n",
    "print(precision_score(y_train, pred))\n",
    "print(recall_score(y_train, pred))\n",
    "print(roc_auc_score(y_train, pred))"
   ]
  },
  {
   "cell_type": "code",
   "execution_count": 79,
   "metadata": {},
   "outputs": [
    {
     "name": "stdout",
     "output_type": "stream",
     "text": [
      "0.7220414690636374\n",
      "0.6894497020679986\n",
      "0.5461992363762582\n",
      "0.6920494420915275\n"
     ]
    }
   ],
   "source": [
    "print(accuracy_score(y_test, pred_t))\n",
    "print(precision_score(y_test, pred_t))\n",
    "print(recall_score(y_test, pred_t))\n",
    "print(roc_auc_score(y_test, pred_t))"
   ]
  },
  {
   "cell_type": "markdown",
   "metadata": {},
   "source": [
    "# 4-mery"
   ]
  },
  {
   "cell_type": "code",
   "execution_count": null,
   "metadata": {},
   "outputs": [],
   "source": [
    "count_df = pd.DataFrame(columns=get_kmers(4))\n",
    "for i in range(len(df)):\n",
    "    if i % 10000 == 0:\n",
    "        print(i)\n",
    "    count_df.loc[i] = count_kmers(4, df.Sequence[i])"
   ]
  },
  {
   "cell_type": "code",
   "execution_count": 29,
   "metadata": {},
   "outputs": [
    {
     "data": {
      "text/html": [
       "<div>\n",
       "<style scoped>\n",
       "    .dataframe tbody tr th:only-of-type {\n",
       "        vertical-align: middle;\n",
       "    }\n",
       "\n",
       "    .dataframe tbody tr th {\n",
       "        vertical-align: top;\n",
       "    }\n",
       "\n",
       "    .dataframe thead th {\n",
       "        text-align: right;\n",
       "    }\n",
       "</style>\n",
       "<table border=\"1\" class=\"dataframe\">\n",
       "  <thead>\n",
       "    <tr style=\"text-align: right;\">\n",
       "      <th></th>\n",
       "      <th>AAAA</th>\n",
       "      <th>AAAT</th>\n",
       "      <th>AAAC</th>\n",
       "      <th>AAAG</th>\n",
       "      <th>AATA</th>\n",
       "      <th>AATT</th>\n",
       "      <th>AATC</th>\n",
       "      <th>AATG</th>\n",
       "      <th>AACA</th>\n",
       "      <th>AACT</th>\n",
       "      <th>...</th>\n",
       "      <th>GAAC</th>\n",
       "      <th>GATC</th>\n",
       "      <th>GACC</th>\n",
       "      <th>GAGC</th>\n",
       "      <th>GTAC</th>\n",
       "      <th>GTCC</th>\n",
       "      <th>GTGC</th>\n",
       "      <th>GCCC</th>\n",
       "      <th>GCGC</th>\n",
       "      <th>GGCC</th>\n",
       "    </tr>\n",
       "  </thead>\n",
       "  <tbody>\n",
       "    <tr>\n",
       "      <th>0</th>\n",
       "      <td>35</td>\n",
       "      <td>42</td>\n",
       "      <td>20</td>\n",
       "      <td>22</td>\n",
       "      <td>30</td>\n",
       "      <td>23</td>\n",
       "      <td>11</td>\n",
       "      <td>15</td>\n",
       "      <td>13</td>\n",
       "      <td>14</td>\n",
       "      <td>...</td>\n",
       "      <td>7</td>\n",
       "      <td>6</td>\n",
       "      <td>8</td>\n",
       "      <td>17</td>\n",
       "      <td>2</td>\n",
       "      <td>10</td>\n",
       "      <td>15</td>\n",
       "      <td>19</td>\n",
       "      <td>3</td>\n",
       "      <td>14</td>\n",
       "    </tr>\n",
       "    <tr>\n",
       "      <th>1</th>\n",
       "      <td>11</td>\n",
       "      <td>8</td>\n",
       "      <td>3</td>\n",
       "      <td>6</td>\n",
       "      <td>11</td>\n",
       "      <td>3</td>\n",
       "      <td>11</td>\n",
       "      <td>5</td>\n",
       "      <td>3</td>\n",
       "      <td>4</td>\n",
       "      <td>...</td>\n",
       "      <td>3</td>\n",
       "      <td>2</td>\n",
       "      <td>3</td>\n",
       "      <td>0</td>\n",
       "      <td>1</td>\n",
       "      <td>2</td>\n",
       "      <td>3</td>\n",
       "      <td>1</td>\n",
       "      <td>0</td>\n",
       "      <td>1</td>\n",
       "    </tr>\n",
       "    <tr>\n",
       "      <th>2</th>\n",
       "      <td>4</td>\n",
       "      <td>4</td>\n",
       "      <td>6</td>\n",
       "      <td>9</td>\n",
       "      <td>3</td>\n",
       "      <td>3</td>\n",
       "      <td>1</td>\n",
       "      <td>7</td>\n",
       "      <td>16</td>\n",
       "      <td>7</td>\n",
       "      <td>...</td>\n",
       "      <td>17</td>\n",
       "      <td>3</td>\n",
       "      <td>9</td>\n",
       "      <td>13</td>\n",
       "      <td>2</td>\n",
       "      <td>13</td>\n",
       "      <td>10</td>\n",
       "      <td>25</td>\n",
       "      <td>0</td>\n",
       "      <td>10</td>\n",
       "    </tr>\n",
       "    <tr>\n",
       "      <th>3</th>\n",
       "      <td>81</td>\n",
       "      <td>85</td>\n",
       "      <td>43</td>\n",
       "      <td>50</td>\n",
       "      <td>57</td>\n",
       "      <td>28</td>\n",
       "      <td>24</td>\n",
       "      <td>49</td>\n",
       "      <td>49</td>\n",
       "      <td>26</td>\n",
       "      <td>...</td>\n",
       "      <td>25</td>\n",
       "      <td>7</td>\n",
       "      <td>13</td>\n",
       "      <td>7</td>\n",
       "      <td>3</td>\n",
       "      <td>10</td>\n",
       "      <td>21</td>\n",
       "      <td>5</td>\n",
       "      <td>1</td>\n",
       "      <td>5</td>\n",
       "    </tr>\n",
       "    <tr>\n",
       "      <th>4</th>\n",
       "      <td>4</td>\n",
       "      <td>8</td>\n",
       "      <td>5</td>\n",
       "      <td>6</td>\n",
       "      <td>13</td>\n",
       "      <td>3</td>\n",
       "      <td>6</td>\n",
       "      <td>1</td>\n",
       "      <td>5</td>\n",
       "      <td>5</td>\n",
       "      <td>...</td>\n",
       "      <td>0</td>\n",
       "      <td>0</td>\n",
       "      <td>3</td>\n",
       "      <td>1</td>\n",
       "      <td>1</td>\n",
       "      <td>3</td>\n",
       "      <td>3</td>\n",
       "      <td>3</td>\n",
       "      <td>0</td>\n",
       "      <td>2</td>\n",
       "    </tr>\n",
       "    <tr>\n",
       "      <th>...</th>\n",
       "      <td>...</td>\n",
       "      <td>...</td>\n",
       "      <td>...</td>\n",
       "      <td>...</td>\n",
       "      <td>...</td>\n",
       "      <td>...</td>\n",
       "      <td>...</td>\n",
       "      <td>...</td>\n",
       "      <td>...</td>\n",
       "      <td>...</td>\n",
       "      <td>...</td>\n",
       "      <td>...</td>\n",
       "      <td>...</td>\n",
       "      <td>...</td>\n",
       "      <td>...</td>\n",
       "      <td>...</td>\n",
       "      <td>...</td>\n",
       "      <td>...</td>\n",
       "      <td>...</td>\n",
       "      <td>...</td>\n",
       "      <td>...</td>\n",
       "    </tr>\n",
       "    <tr>\n",
       "      <th>120887</th>\n",
       "      <td>19</td>\n",
       "      <td>24</td>\n",
       "      <td>14</td>\n",
       "      <td>21</td>\n",
       "      <td>12</td>\n",
       "      <td>5</td>\n",
       "      <td>11</td>\n",
       "      <td>13</td>\n",
       "      <td>12</td>\n",
       "      <td>9</td>\n",
       "      <td>...</td>\n",
       "      <td>2</td>\n",
       "      <td>4</td>\n",
       "      <td>4</td>\n",
       "      <td>4</td>\n",
       "      <td>3</td>\n",
       "      <td>7</td>\n",
       "      <td>13</td>\n",
       "      <td>11</td>\n",
       "      <td>0</td>\n",
       "      <td>8</td>\n",
       "    </tr>\n",
       "    <tr>\n",
       "      <th>120888</th>\n",
       "      <td>12</td>\n",
       "      <td>2</td>\n",
       "      <td>14</td>\n",
       "      <td>12</td>\n",
       "      <td>1</td>\n",
       "      <td>0</td>\n",
       "      <td>5</td>\n",
       "      <td>7</td>\n",
       "      <td>14</td>\n",
       "      <td>8</td>\n",
       "      <td>...</td>\n",
       "      <td>11</td>\n",
       "      <td>3</td>\n",
       "      <td>11</td>\n",
       "      <td>10</td>\n",
       "      <td>0</td>\n",
       "      <td>7</td>\n",
       "      <td>9</td>\n",
       "      <td>11</td>\n",
       "      <td>1</td>\n",
       "      <td>5</td>\n",
       "    </tr>\n",
       "    <tr>\n",
       "      <th>120889</th>\n",
       "      <td>11</td>\n",
       "      <td>7</td>\n",
       "      <td>6</td>\n",
       "      <td>9</td>\n",
       "      <td>1</td>\n",
       "      <td>1</td>\n",
       "      <td>3</td>\n",
       "      <td>6</td>\n",
       "      <td>5</td>\n",
       "      <td>4</td>\n",
       "      <td>...</td>\n",
       "      <td>7</td>\n",
       "      <td>2</td>\n",
       "      <td>6</td>\n",
       "      <td>17</td>\n",
       "      <td>0</td>\n",
       "      <td>3</td>\n",
       "      <td>5</td>\n",
       "      <td>11</td>\n",
       "      <td>2</td>\n",
       "      <td>6</td>\n",
       "    </tr>\n",
       "    <tr>\n",
       "      <th>120890</th>\n",
       "      <td>8</td>\n",
       "      <td>12</td>\n",
       "      <td>5</td>\n",
       "      <td>10</td>\n",
       "      <td>9</td>\n",
       "      <td>2</td>\n",
       "      <td>3</td>\n",
       "      <td>9</td>\n",
       "      <td>12</td>\n",
       "      <td>7</td>\n",
       "      <td>...</td>\n",
       "      <td>14</td>\n",
       "      <td>2</td>\n",
       "      <td>12</td>\n",
       "      <td>16</td>\n",
       "      <td>0</td>\n",
       "      <td>14</td>\n",
       "      <td>15</td>\n",
       "      <td>24</td>\n",
       "      <td>1</td>\n",
       "      <td>10</td>\n",
       "    </tr>\n",
       "    <tr>\n",
       "      <th>120891</th>\n",
       "      <td>12</td>\n",
       "      <td>13</td>\n",
       "      <td>9</td>\n",
       "      <td>12</td>\n",
       "      <td>9</td>\n",
       "      <td>5</td>\n",
       "      <td>6</td>\n",
       "      <td>11</td>\n",
       "      <td>14</td>\n",
       "      <td>5</td>\n",
       "      <td>...</td>\n",
       "      <td>4</td>\n",
       "      <td>0</td>\n",
       "      <td>6</td>\n",
       "      <td>9</td>\n",
       "      <td>0</td>\n",
       "      <td>6</td>\n",
       "      <td>10</td>\n",
       "      <td>15</td>\n",
       "      <td>0</td>\n",
       "      <td>10</td>\n",
       "    </tr>\n",
       "  </tbody>\n",
       "</table>\n",
       "<p>120892 rows × 136 columns</p>\n",
       "</div>"
      ],
      "text/plain": [
       "        AAAA  AAAT  AAAC  AAAG  AATA  AATT  AATC  AATG  AACA  AACT  ...  GAAC  \\\n",
       "0         35    42    20    22    30    23    11    15    13    14  ...     7   \n",
       "1         11     8     3     6    11     3    11     5     3     4  ...     3   \n",
       "2          4     4     6     9     3     3     1     7    16     7  ...    17   \n",
       "3         81    85    43    50    57    28    24    49    49    26  ...    25   \n",
       "4          4     8     5     6    13     3     6     1     5     5  ...     0   \n",
       "...      ...   ...   ...   ...   ...   ...   ...   ...   ...   ...  ...   ...   \n",
       "120887    19    24    14    21    12     5    11    13    12     9  ...     2   \n",
       "120888    12     2    14    12     1     0     5     7    14     8  ...    11   \n",
       "120889    11     7     6     9     1     1     3     6     5     4  ...     7   \n",
       "120890     8    12     5    10     9     2     3     9    12     7  ...    14   \n",
       "120891    12    13     9    12     9     5     6    11    14     5  ...     4   \n",
       "\n",
       "        GATC  GACC  GAGC  GTAC  GTCC  GTGC  GCCC  GCGC  GGCC  \n",
       "0          6     8    17     2    10    15    19     3    14  \n",
       "1          2     3     0     1     2     3     1     0     1  \n",
       "2          3     9    13     2    13    10    25     0    10  \n",
       "3          7    13     7     3    10    21     5     1     5  \n",
       "4          0     3     1     1     3     3     3     0     2  \n",
       "...      ...   ...   ...   ...   ...   ...   ...   ...   ...  \n",
       "120887     4     4     4     3     7    13    11     0     8  \n",
       "120888     3    11    10     0     7     9    11     1     5  \n",
       "120889     2     6    17     0     3     5    11     2     6  \n",
       "120890     2    12    16     0    14    15    24     1    10  \n",
       "120891     0     6     9     0     6    10    15     0    10  \n",
       "\n",
       "[120892 rows x 136 columns]"
      ]
     },
     "execution_count": 29,
     "metadata": {},
     "output_type": "execute_result"
    }
   ],
   "source": [
    "count_df"
   ]
  },
  {
   "cell_type": "code",
   "execution_count": 30,
   "metadata": {},
   "outputs": [],
   "source": [
    "# data = pd.concat([df, count_df], axis=1)\n",
    "# data['length'] = data.cor2 - data.cor1\n",
    "# data['chr'] = [napis[3:] for napis in data.chr]\n",
    "# data.drop(['cor1', 'cor2', 'Sequence'], axis=1, inplace=True)\n",
    "# data['chr'] = data['chr'].astype(int)"
   ]
  },
  {
   "cell_type": "markdown",
   "metadata": {},
   "source": [
    "***\n",
    "***\n",
    "***"
   ]
  },
  {
   "cell_type": "code",
   "execution_count": 2,
   "metadata": {},
   "outputs": [],
   "source": [
    "df = pd.read_csv('trimery.csv')"
   ]
  },
  {
   "cell_type": "code",
   "execution_count": 3,
   "metadata": {},
   "outputs": [],
   "source": [
    "df = df[df.chr != 1]\n",
    "df = df[df.chr != 14]\n",
    "df = df[df.chr != 21]"
   ]
  },
  {
   "cell_type": "code",
   "execution_count": 4,
   "metadata": {},
   "outputs": [],
   "source": [
    "df.drop('chr', axis=1, inplace=True)\n",
    "df.drop('length', axis=1, inplace=True)"
   ]
  },
  {
   "cell_type": "code",
   "execution_count": 5,
   "metadata": {},
   "outputs": [],
   "source": [
    "y = df['Enhancer']\n",
    "df.drop('Enhancer', axis=1, inplace=True)\n",
    "X_train, X_test, y_train, y_test = train_test_split(\n",
    "     df, y, test_size=0.3, random_state=42)"
   ]
  },
  {
   "cell_type": "markdown",
   "metadata": {},
   "source": [
    "***"
   ]
  },
  {
   "cell_type": "code",
   "execution_count": 38,
   "metadata": {},
   "outputs": [
    {
     "data": {
      "text/plain": [
       "KNeighborsClassifier(algorithm='auto', leaf_size=30, metric='minkowski',\n",
       "                     metric_params=None, n_jobs=None, n_neighbors=3, p=2,\n",
       "                     weights='uniform')"
      ]
     },
     "execution_count": 38,
     "metadata": {},
     "output_type": "execute_result"
    }
   ],
   "source": [
    "neigh = KNeighborsClassifier(n_neighbors=3)\n",
    "neigh.fit(X_train, y_train)"
   ]
  },
  {
   "cell_type": "code",
   "execution_count": null,
   "metadata": {},
   "outputs": [],
   "source": [
    "pred = neigh.predict(X_train)\n",
    "pred_t = neigh.predict(X_test)"
   ]
  },
  {
   "cell_type": "code",
   "execution_count": 40,
   "metadata": {},
   "outputs": [
    {
     "name": "stdout",
     "output_type": "stream",
     "text": [
      "0.810876572474947\n",
      "0.7751541235314645\n",
      "0.6829734900245968\n",
      "0.7840242507099937\n"
     ]
    }
   ],
   "source": [
    "print(accuracy_score(y_train, pred))\n",
    "print(precision_score(y_train, pred))\n",
    "print(recall_score(y_train, pred))\n",
    "print(roc_auc_score(y_train, pred))"
   ]
  },
  {
   "cell_type": "code",
   "execution_count": 41,
   "metadata": {},
   "outputs": [
    {
     "name": "stdout",
     "output_type": "stream",
     "text": [
      "0.6365631675982558\n",
      "0.4918258633357825\n",
      "0.4374642594559268\n",
      "0.5925807389390897\n"
     ]
    }
   ],
   "source": [
    "print(accuracy_score(y_test, pred_t))\n",
    "print(precision_score(y_test, pred_t))\n",
    "print(recall_score(y_test, pred_t))\n",
    "print(roc_auc_score(y_test, pred_t))"
   ]
  },
  {
   "cell_type": "markdown",
   "metadata": {},
   "source": [
    "***"
   ]
  },
  {
   "cell_type": "code",
   "execution_count": null,
   "metadata": {},
   "outputs": [],
   "source": [
    "mlp = MLPClassifier(random_state=1, max_iter=300, learning_rate='adaptive', batch_size=1000).fit(X_train, y_train)"
   ]
  },
  {
   "cell_type": "code",
   "execution_count": 89,
   "metadata": {},
   "outputs": [],
   "source": [
    "pred = mlp.predict(X_train)\n",
    "pred_t = mlp.predict(X_test)"
   ]
  },
  {
   "cell_type": "code",
   "execution_count": 90,
   "metadata": {},
   "outputs": [
    {
     "name": "stdout",
     "output_type": "stream",
     "text": [
      "0.7145490640952921\n",
      "0.7185247054686126\n",
      "0.47935362777875534\n",
      "0.676313397034689\n"
     ]
    }
   ],
   "source": [
    "print(accuracy_score(y_train, pred))\n",
    "print(precision_score(y_train, pred))\n",
    "print(recall_score(y_train, pred))\n",
    "print(roc_auc_score(y_train, pred))"
   ]
  },
  {
   "cell_type": "code",
   "execution_count": 91,
   "metadata": {},
   "outputs": [
    {
     "name": "stdout",
     "output_type": "stream",
     "text": [
      "0.7131906915186942\n",
      "0.706916158378993\n",
      "0.47469628601180147\n",
      "0.6725125760663225\n"
     ]
    }
   ],
   "source": [
    "print(accuracy_score(y_test, pred_t))\n",
    "print(precision_score(y_test, pred_t))\n",
    "print(recall_score(y_test, pred_t))\n",
    "print(roc_auc_score(y_test, pred_t))"
   ]
  },
  {
   "cell_type": "markdown",
   "metadata": {},
   "source": [
    "***"
   ]
  },
  {
   "cell_type": "code",
   "execution_count": 43,
   "metadata": {},
   "outputs": [
    {
     "data": {
      "text/plain": [
       "DecisionTreeClassifier(ccp_alpha=0.0, class_weight=None, criterion='entropy',\n",
       "                       max_depth=8, max_features=None, max_leaf_nodes=None,\n",
       "                       min_impurity_decrease=0.0, min_impurity_split=None,\n",
       "                       min_samples_leaf=1, min_samples_split=2,\n",
       "                       min_weight_fraction_leaf=0.0, presort='deprecated',\n",
       "                       random_state=0, splitter='best')"
      ]
     },
     "execution_count": 43,
     "metadata": {},
     "output_type": "execute_result"
    }
   ],
   "source": [
    "dt = DecisionTreeClassifier(random_state=0, max_depth=8, criterion=\"entropy\", splitter='best')\n",
    "dt.fit(X_train, y_train)"
   ]
  },
  {
   "cell_type": "code",
   "execution_count": 44,
   "metadata": {},
   "outputs": [],
   "source": [
    "pred = dt.predict(X_train)\n",
    "pred_t = dt.predict(X_test)"
   ]
  },
  {
   "cell_type": "code",
   "execution_count": 45,
   "metadata": {},
   "outputs": [
    {
     "name": "stdout",
     "output_type": "stream",
     "text": [
      "0.6913371210695965\n",
      "0.6330175758959141\n",
      "0.37896283137469255\n",
      "0.6257564112282805\n"
     ]
    }
   ],
   "source": [
    "print(accuracy_score(y_train, pred))\n",
    "print(precision_score(y_train, pred))\n",
    "print(recall_score(y_train, pred))\n",
    "print(roc_auc_score(y_train, pred))"
   ]
  },
  {
   "cell_type": "code",
   "execution_count": 46,
   "metadata": {},
   "outputs": [
    {
     "name": "stdout",
     "output_type": "stream",
     "text": [
      "0.6761288812150654\n",
      "0.5785599571734475\n",
      "0.3531574217792664\n",
      "0.6047820852626383\n"
     ]
    }
   ],
   "source": [
    "print(accuracy_score(y_test, pred_t))\n",
    "print(precision_score(y_test, pred_t))\n",
    "print(recall_score(y_test, pred_t))\n",
    "print(roc_auc_score(y_test, pred_t))"
   ]
  },
  {
   "cell_type": "markdown",
   "metadata": {},
   "source": [
    "***"
   ]
  },
  {
   "cell_type": "code",
   "execution_count": 47,
   "metadata": {},
   "outputs": [
    {
     "data": {
      "text/plain": [
       "RandomForestClassifier(bootstrap=True, ccp_alpha=0.0, class_weight=None,\n",
       "                       criterion='gini', max_depth=10, max_features='auto',\n",
       "                       max_leaf_nodes=None, max_samples=None,\n",
       "                       min_impurity_decrease=0.0, min_impurity_split=None,\n",
       "                       min_samples_leaf=1, min_samples_split=2,\n",
       "                       min_weight_fraction_leaf=0.0, n_estimators=20,\n",
       "                       n_jobs=None, oob_score=False, random_state=0, verbose=0,\n",
       "                       warm_start=False)"
      ]
     },
     "execution_count": 47,
     "metadata": {},
     "output_type": "execute_result"
    }
   ],
   "source": [
    "rf = RandomForestClassifier(max_depth=10, random_state=0, n_estimators=20)\n",
    "rf.fit(X_test, y_test)"
   ]
  },
  {
   "cell_type": "code",
   "execution_count": 48,
   "metadata": {},
   "outputs": [],
   "source": [
    "pred = rf.predict(X_train)\n",
    "pred_t = rf.predict(X_test)"
   ]
  },
  {
   "cell_type": "code",
   "execution_count": 49,
   "metadata": {},
   "outputs": [
    {
     "name": "stdout",
     "output_type": "stream",
     "text": [
      "0.6825199734105931\n",
      "0.6658011558757014\n",
      "0.27155643618474995\n",
      "0.5962411682102925\n"
     ]
    }
   ],
   "source": [
    "print(accuracy_score(y_train, pred))\n",
    "print(precision_score(y_train, pred))\n",
    "print(recall_score(y_train, pred))\n",
    "print(roc_auc_score(y_train, pred))"
   ]
  },
  {
   "cell_type": "code",
   "execution_count": 50,
   "metadata": {},
   "outputs": [
    {
     "name": "stdout",
     "output_type": "stream",
     "text": [
      "0.7767405109595856\n",
      "0.8929788684389911\n",
      "0.42806960215668655\n",
      "0.6997165156246269\n"
     ]
    }
   ],
   "source": [
    "print(accuracy_score(y_test, pred_t))\n",
    "print(precision_score(y_test, pred_t))\n",
    "print(recall_score(y_test, pred_t))\n",
    "print(roc_auc_score(y_test, pred_t))"
   ]
  },
  {
   "cell_type": "markdown",
   "metadata": {},
   "source": [
    "***"
   ]
  },
  {
   "cell_type": "code",
   "execution_count": 11,
   "metadata": {},
   "outputs": [],
   "source": [
    "eta=[0.1, 0.3, 0.5, 0.7]\n",
    "gamma=[0, 1]\n",
    "subsample=[1, 0.8, 0.6, 0.4]\n",
    "max_depth=[5,6,7,8]\n",
    "colsample_bytree=[1, 0.8, 0.6]"
   ]
  },
  {
   "cell_type": "code",
   "execution_count": null,
   "metadata": {},
   "outputs": [],
   "source": [
    "results = {}\n",
    "param = {}\n",
    "param['objective'] = \"binary:logistic\"\n",
    "param['booster'] = 'gbtree'\n",
    "param[\"eval_metric\"] = \"auc\"\n",
    "param['seed'] = 0\n",
    "for e in eta:\n",
    "    for g in gamma:\n",
    "        for s in subsample:\n",
    "            for m in max_depth:\n",
    "                for c in colsample_bytree:\n",
    "                    param['eta'] = e\n",
    "                    param['gamma'] = g\n",
    "                    param['subsample'] = s\n",
    "                    param['max_depth'] = m\n",
    "                    param['colsample_bytree']= c\n",
    "                    xgb = XGBClassifier(**param)\n",
    "                    xgb.fit(X_train, y_train)\n",
    "                    pred = xgb.predict(X_train)\n",
    "                    pred_t = xgb.predict(X_test)\n",
    "                    results[(e, g, s, m, c)] = ([accuracy_score(y_train, pred), precision_score(y_train, pred), \n",
    "                                                recall_score(y_train, pred), roc_auc_score(y_train, pred)], \n",
    "                                              [accuracy_score(y_test, pred_t), precision_score(y_test, pred_t), \n",
    "                                              recall_score(y_test, pred_t), roc_auc_score(y_test, pred_t)])\n",
    "                    print(f'{e}, {g}, {s}, {m}, {c}')"
   ]
  },
  {
   "cell_type": "code",
   "execution_count": 20,
   "metadata": {},
   "outputs": [
    {
     "name": "stdout",
     "output_type": "stream",
     "text": [
      "([0.7400885477417818, 0.7209843354184976, 0.4764279857884668, 0.6847349306853113], [0.7117438763864096, 0.6479762346825102, 0.42766113879585, 0.6489878881393751]), (0.1, 0, 1, 5, 1)\n",
      "([0.7390977160702863, 0.7176706414473685, 0.4770087455588959, 0.6840740432049418], [0.7105440285622311, 0.6434676434676435, 0.43052038232170575, 0.648684723764592]), (0.1, 0, 1, 5, 0.8)\n",
      "([0.7395743186464487, 0.7184002464318718, 0.47803361574200604, 0.6846657505769622], [0.7113049076702467, 0.6448780487804878, 0.4319908504207173, 0.6496023563549095]), (0.1, 0, 1, 5, 0.6)\n",
      "([0.7664396533343367, 0.7598575053679485, 0.5319417873735993, 0.7172085321655647], [0.7123584325890375, 0.6408878504672897, 0.448165999509844, 0.6539963604480364]), (0.1, 0, 1, 6, 1)\n",
      "([0.7650349299519634, 0.7582589942162533, 0.5284913910904618, 0.7153743346383561], [0.7127096075619678, 0.6422535211267606, 0.44702230209950167, 0.6540173070005032]), (0.1, 0, 1, 6, 0.8)\n",
      "([0.7636302065695902, 0.7560161084372852, 0.5258950532932495, 0.713719440477656], [0.7148751865617043, 0.6474964572508266, 0.44792092149334206, 0.6559030052063153]), (0.1, 0, 1, 6, 0.6)\n",
      "([0.8023855213154231, 0.814091838631716, 0.5983875375785733, 0.7595576285566226], [0.715694594831875, 0.6442439470077661, 0.4608283636957765, 0.6593927500193428]), (0.1, 0, 1, 7, 1)\n",
      "([0.7999899662615545, 0.8112008968190948, 0.5932973490024597, 0.7565963547961226], [0.7148459219806268, 0.6427346518806448, 0.45927620292459764, 0.6583886714577388]), (0.1, 0, 1, 7, 0.8)\n",
      "([0.7976696642460273, 0.8092637921295425, 0.5873189396009839, 0.7535080597448032], [0.7149337157238594, 0.643843498273878, 0.4570705007760804, 0.6579698149115241]), (0.1, 0, 1, 7, 0.6)\n",
      "([0.8461451631109606, 0.873555643425157, 0.6792497950259634, 0.8111066946155797], [0.7167481197506658, 0.6420492348636061, 0.4730005718487052, 0.6629024747068423]), (0.1, 0, 1, 8, 1)\n",
      "([0.8445648493057907, 0.8737434126035162, 0.6740229570921017, 0.8087608195952195], [0.7147288636563167, 0.6396951697859464, 0.46630177273098605, 0.6598494727768017]), (0.1, 0, 1, 8, 0.8)\n",
      "([0.8378046180281196, 0.8668612483161203, 0.6595039628313747, 0.800371692468225], [0.7162798864534254, 0.6434527834122155, 0.46646515807532063, 0.6610939561466435]), (0.1, 0, 1, 8, 0.6)\n",
      "([0.7407658250868545, 0.7195875236101894, 0.4815523367040175, 0.6863458387775028], [0.7109244681162389, 0.6429522081064731, 0.4341148598970672, 0.6497751682066275]), (0.1, 0, 0.8, 5, 1)\n",
      "([0.738746535224693, 0.7147435897435898, 0.4799467067504783, 0.6844133938041022], [0.7101343244271459, 0.6420578934565799, 0.4312556163712115, 0.6485279449845114]), (0.1, 0, 0.8, 5, 0.8)\n",
      "([0.7388468726091483, 0.7181433292028088, 0.4751639792292976, 0.6834885672321204], [0.7105732931433086, 0.6437568790509967, 0.4300302262887019, 0.6485992444713004]), (0.1, 0, 0.8, 5, 0.6)\n",
      "([0.7657372916431501, 0.756687342508238, 0.5334449303088276, 0.716969200127362], [0.7128266658862779, 0.6404767414950243, 0.452168940446042, 0.6552454369352874]), (0.1, 0, 0.8, 6, 1)\n",
      "([0.7620749771105342, 0.7512682926829268, 0.5261341896693086, 0.7125409250730657], [0.7149337157238594, 0.6462672595366253, 0.4511886283800343, 0.656670465580806]), (0.1, 0, 0.8, 6, 0.8)\n",
      "([0.7614854949768597, 0.7506722072842825, 0.5245627220552064, 0.7117452822309563], [0.7152263615346346, 0.647093295827473, 0.4510252430356997, 0.6568623707198562]), (0.1, 0, 0.8, 6, 0.6)\n",
      "([0.7993879419548231, 0.8065290668144249, 0.5967135829461602, 0.7568379345793643], [0.7154897427643323, 0.6424934947392239, 0.46393268523813413, 0.659918918998456]), (0.1, 0, 0.8, 7, 1)\n",
      "([0.7971428929776373, 0.8021592691704347, 0.5939464334517628, 0.7544832743964655], [0.7140557782915338, 0.6397058823529411, 0.46197206110611877, 0.6583686114924119]), (0.1, 0, 0.8, 7, 0.8)\n",
      "([0.7922639876585017, 0.7978160003749356, 0.58154550423613, 0.7480251748771367], [0.7165432676831232, 0.6457168928938063, 0.4624622171391226, 0.6604148750994291]), (0.1, 0, 0.8, 7, 0.6)\n",
      "([0.8400622091783623, 0.8646477132262052, 0.669103580213173, 0.8041706886182494], [0.7162506218723479, 0.640251295051251, 0.474552732619884, 0.6628577616587792]), (0.1, 0, 0.8, 8, 1)\n",
      "([0.8404510165431263, 0.8668705944939487, 0.6680103853511888, 0.8042483603959218], [0.716367680196658, 0.6421322627411621, 0.47038640633935136, 0.6620285884865932]), (0.1, 0, 0.8, 8, 0.8)\n",
      "([0.8342677252260726, 0.8572572750734182, 0.6581716315933315, 0.797297631330069], [0.7133826929267507, 0.635718247365502, 0.4681807041908341, 0.6592157510922251]), (0.1, 0, 0.8, 8, 0.6)\n",
      "([0.7406278611832287, 0.7148644593378013, 0.4882823175731074, 0.6876497499199492], [0.7123584325890375, 0.6440171960831144, 0.44056858099828444, 0.6523180342291924]), (0.1, 0, 0.6, 5, 1)\n",
      "([0.7389472099936035, 0.7136937847397675, 0.4825088822082536, 0.685109848464558], [0.7119194638728746, 0.643653362099964, 0.4386896495384364, 0.65156096704008]), (0.1, 0, 0.6, 5, 0.8)\n",
      "([0.7367021610164177, 0.7111451160418261, 0.47629133643071875, 0.682030802680965], [0.7123584325890375, 0.6457577955039884, 0.43648394738991914, 0.6514157083050827]), (0.1, 0, 0.6, 5, 0.6)\n",
      "([0.7636302065695902, 0.7495930288231352, 0.5348455862257447, 0.7155985397586639], [0.714962980304937, 0.6426697090701654, 0.46017482231843804, 0.6586783824314489]), (0.1, 0, 0.6, 6, 1)\n",
      "([0.7611593984773802, 0.7457830746311692, 0.5301653457228751, 0.7126638774037392], [0.7140265137104562, 0.6413927385179247, 0.4574789641369169, 0.6573532531582897]), (0.1, 0, 0.6, 6, 0.8)\n",
      "([0.758839096461853, 0.743455497382199, 0.5239136376059033, 0.709518205275137], [0.7152263615346346, 0.6446185757086886, 0.45698880810391307, 0.6581797665690564]), (0.1, 0, 0.6, 6, 0.6)\n",
      "([0.7930792289072005, 0.7928741746148202, 0.5907010112052473, 0.7505913942448877], [0.7126510783998127, 0.6349453978159126, 0.46548484600931295, 0.6580502205422761]), (0.1, 0, 0.6, 7, 1)\n",
      "([0.7908592642761285, 0.7915297384864615, 0.5842101667122165, 0.7474747894541285], [0.7154019490210998, 0.6389134275618374, 0.47267380116003593, 0.6617814970232465]), (0.1, 0, 0.6, 7, 0.8)\n",
      "([0.7888525165870238, 0.7882805618654676, 0.580896419786827, 0.7451936467827692], [0.7152556261157121, 0.6399197592778335, 0.46907932358467447, 0.6608734511220226]), (0.1, 0, 0.6, 7, 0.6)\n",
      "([0.829526783810563, 0.844373188087499, 0.6567026509975403, 0.793243614287688], [0.7146703344941617, 0.6356015242242787, 0.4769218201127359, 0.662149920544284]), (0.1, 0, 0.6, 8, 1)\n",
      "([0.8289122173307747, 0.8433724353060059, 0.6557802678327412, 0.7925644239340088], [0.7147581282373943, 0.6348399653979239, 0.479617678294257, 0.6628138551070009]), (0.1, 0, 0.6, 8, 0.8)\n",
      "([0.8256763366820935, 0.8403063709213264, 0.6484012025143482, 0.7884587118023691], [0.7152263615346346, 0.6356170304733089, 0.4805162976880974, 0.6633771638919284]), (0.1, 0, 0.6, 8, 0.6)\n",
      "([0.738357727859929, 0.709970542713066, 0.48578846679420606, 0.6853326487442165], [0.7138216616429136, 0.6450624558095687, 0.4471856874438363, 0.6549197931063231]), (0.1, 0, 0.4, 5, 1)\n",
      "([0.7373041853231491, 0.7087072033685899, 0.4829871549603717, 0.683912174757183], [0.7105147639811537, 0.6395390281573007, 0.4397516542766114, 0.6507011805354784]), (0.1, 0, 0.4, 5, 0.8)\n",
      "([0.736137763228857, 0.7072802336119223, 0.47991254441104125, 0.6823451423773432], [0.7118901992917971, 0.6424833491912464, 0.4413038150477902, 0.6521156558139087]), (0.1, 0, 0.4, 5, 0.6)\n",
      "([0.7595916268452673, 0.7392951875710496, 0.5332057939327686, 0.7120635680062385], [0.7130022533727429, 0.6366187696452626, 0.46327914386079566, 0.6578365623544745]), (0.1, 0, 0.4, 6, 1)\n",
      "([0.7574218309064229, 0.7377316033896683, 0.5264074883848046, 0.7089220501437687], [0.713119311697053, 0.6385857207821737, 0.45886773956376115, 0.6569532496268418]), (0.1, 0, 0.4, 6, 0.8)\n",
      "([0.7566693005230086, 0.7372494351776187, 0.5239477999453402, 0.7078111143447346], [0.7154019490210998, 0.6432475518105215, 0.46148190507311493, 0.6593091239911858]), (0.1, 0, 0.4, 6, 0.6)\n",
      "([0.7829827795963928, 0.7742792978596637, 0.5771385624487565, 0.7397672835629105], [0.7153141552778672, 0.6385183551978834, 0.4731639571930398, 0.6618213766813351]), (0.1, 0, 0.4, 7, 1)\n",
      "([0.7828824422119376, 0.7746750562623432, 0.5762161792839574, 0.7394943636466162], [0.711158584764859, 0.6306048253828357, 0.46760885548566294, 0.6573566393251389]), (0.1, 0, 0.4, 7, 0.8)\n",
      "([0.7800102845819067, 0.7739329410665919, 0.566172451489478, 0.7351165870281573], [0.7151385677914021, 0.6394482144843698, 0.4695694796176783, 0.6608905309625099]), (0.1, 0, 0.4, 7, 0.6)\n",
      "([0.8174612133298216, 0.8223390275952693, 0.6413637605903252, 0.780490834099241], [0.7130022533727429, 0.6301325919589392, 0.48141491708193773, 0.6618428894575216]), (0.1, 0, 0.4, 8, 1)\n",
      "([0.8129460310293362, 0.8156714449037024, 0.6337113965564362, 0.775317023314386], [0.7124462263322701, 0.6287450687706578, 0.481741687770607, 0.6614818789970226]), (0.1, 0, 0.4, 8, 0.8)\n",
      "([0.8111901268013696, 0.8152549889135255, 0.6280404482098935, 0.7727391840526271], [0.7139972491293787, 0.6339266333839809, 0.4771668981292378, 0.6616796642948971]), (0.1, 0, 0.4, 8, 0.6)\n",
      "([0.7403519333759767, 0.719495953283475, 0.47984421973216723, 0.6856602338875665], [0.7101928535893008, 0.6436117936117937, 0.42798790948451926, 0.6478516838804265]), (0.1, 1, 1, 5, 1)\n",
      "([0.7395116077811642, 0.718350367212778, 0.47782864170538397, 0.6845731725937095], [0.710426970237921, 0.6434336023477623, 0.4298668409443673, 0.6484491523463287]), (0.1, 1, 1, 5, 0.8)\n",
      "([0.7396495716847901, 0.7184869636624923, 0.47823858977862804, 0.6847682375952733], [0.7100172661028358, 0.6432432432432432, 0.42774283146801734, 0.6476607454193712]), (0.1, 1, 1, 5, 0.6)\n",
      "([0.7657874603353777, 0.7584121720472057, 0.5312927029242962, 0.7165569917839936], [0.7125925492376577, 0.642252527627557, 0.4462870680499959, 0.6537636890637577]), (0.1, 1, 1, 6, 1)\n",
      "([0.7641946043571509, 0.7580716715137773, 0.5253826182016944, 0.7140577650353682], [0.7141435720347663, 0.646314045675068, 0.4462053753778286, 0.6549540328781528]), (0.1, 1, 1, 6, 0.8)\n",
      "([0.7639939295882404, 0.756766049413036, 0.5263391637059306, 0.7141000402449271], [0.7162798864534254, 0.6496590641899835, 0.45143370639653624, 0.6577733967459196]), (0.1, 1, 1, 6, 0.6)\n",
      "([0.8019340030853745, 0.8149827086643612, 0.595757037441924, 0.7586486489256827], [0.7147581282373943, 0.6422866271109082, 0.45984805162976883, 0.6584465976343099]), (0.1, 1, 1, 7, 1)\n",
      "([0.8004665688377168, 0.8132589432228421, 0.5925799398742826, 0.756822283300466], [0.7150800386292471, 0.6443138610438991, 0.4568254227595785, 0.6580296744440847]), (0.1, 1, 1, 7, 0.8)\n",
      "([0.7976445798999134, 0.8098877252570997, 0.5864990434544958, 0.7533161104428387], [0.7153434198589447, 0.6436899862825789, 0.4600114369741034, 0.6589386870233034]), (0.1, 1, 1, 7, 0.6)\n",
      "([0.8464210909182125, 0.8741704390629808, 0.6794889314020224, 0.8113748983294817], [0.7147288636563167, 0.6383923614966137, 0.4697328649620129, 0.6606074265530539]), (0.1, 1, 1, 8, 1)\n",
      "([0.844138415421856, 0.8736193053275961, 0.6727931128723695, 0.8081657155554698], [0.7151678323724796, 0.6415669451343419, 0.46425945592680334, 0.6597403070787689]), (0.1, 1, 1, 8, 0.8)\n",
      "([0.8394727270446878, 0.8668983028197247, 0.6648332877835474, 0.8028084471379736], [0.7153726844400222, 0.6406127697640612, 0.46801731884649944, 0.66073004565216]), (0.1, 1, 1, 8, 0.6)\n",
      "([0.7406027768371148, 0.7192445125063808, 0.4813473626673955, 0.6861739885137845], [0.7107196160486963, 0.6425114928623276, 0.4338697818805653, 0.6495614299279707]), (0.1, 1, 0.8, 5, 1)\n",
      "([0.7393234751853106, 0.716530612244898, 0.47977589505329327, 0.6848333487434762], [0.7114804951567119, 0.644084200338737, 0.4349317866187403, 0.6503888299258772]), (0.1, 1, 0.8, 5, 0.8)\n",
      "([0.7389848365127742, 0.717026624942287, 0.4774870183110139, 0.6840852717746632], [0.7105732931433086, 0.6433361785148153, 0.4310105383547096, 0.6488158026930867]), (0.1, 1, 0.8, 5, 0.6)\n",
      "([0.7665149063726782, 0.7584901998835629, 0.5340940147581307, 0.7177198308595149], [0.7112463785080917, 0.6393192488262911, 0.444979985295319, 0.6524261531583755]), (0.1, 1, 0.8, 6, 1)\n",
      "([0.7631034353012003, 0.7526520681265206, 0.5283889040721509, 0.7138268268354175], [0.7138216616429136, 0.6445174923691007, 0.4484927701985132, 0.6552085374020382]), (0.1, 1, 0.8, 6, 0.8)\n",
      "([0.7619119288607944, 0.7507188459476583, 0.5262366766876195, 0.7124336240212906], [0.7158116531561851, 0.6470246397024639, 0.4547831059553958, 0.6581485069220663]), (0.1, 1, 0.8, 6, 0.6)\n",
      "([0.7961269769600281, 0.8014450465471724, 0.5911451216179284, 0.7530925275146064], [0.7154312136021773, 0.6425739209244364, 0.463360836532963, 0.6597469937338778]), (0.1, 1, 0.8, 7, 1)\n",
      "([0.7980459294377343, 0.8051153739227134, 0.5936048100573927, 0.7551250035740501], [0.7154604781832548, 0.6421314066380673, 0.4646679192876399, 0.6600585378471944]), (0.1, 1, 0.8, 7, 0.8)\n",
      "([0.7928283854460624, 0.7983531393281557, 0.5829461601530472, 0.7487651389758281], [0.7146703344941617, 0.6419373219373219, 0.46017482231843804, 0.6584503842554343]), (0.1, 1, 0.8, 7, 0.6)\n",
      "([0.8411032095420853, 0.8619577065620231, 0.6753552883301448, 0.8063056391709188], [0.7134119575078283, 0.635069521077025, 0.47014132832284944, 0.6596716673533992]), (0.1, 1, 0.8, 8, 1)\n",
      "([0.8375036058747538, 0.8608457183297947, 0.6648674501229844, 0.8012599007685018], [0.7171578238857511, 0.6418502202643172, 0.4761048933910628, 0.6639074398555861]), (0.1, 1, 0.8, 8, 0.8)\n",
      "([0.8327250379400735, 0.8540639025907657, 0.6565660016397923, 0.7957417296888789], [0.7159287114804952, 0.6404967842093591, 0.4718568744383629, 0.6620114285552507]), (0.1, 1, 0.8, 8, 0.6)\n",
      "([0.7407783672599114, 0.7150569886022795, 0.48865810330691445, 0.6878475518219108], [0.7124462263322701, 0.6444550783586553, 0.4400784249652806, 0.6522781545711035]), (0.1, 1, 0.6, 5, 1)\n",
      "([0.7394739812619935, 0.7143433528343757, 0.4838753757857338, 0.6858129133234145], [0.7125340200755026, 0.6440314510364546, 0.4416305857364594, 0.6526894378750696]), (0.1, 1, 0.6, 5, 0.8)\n",
      "([0.7368652092661575, 0.7115521992040004, 0.4763938234490298, 0.6821811365407022], [0.712504755494425, 0.6461836216281601, 0.4364022547177518, 0.6515116608746079]), (0.1, 1, 0.6, 5, 0.6)\n",
      "([0.7620498927644204, 0.7466002681478644, 0.5326591965017764, 0.7138909847230736], [0.7136460741564484, 0.63951374687571, 0.45984805162976883, 0.6575802045654544]), (0.1, 1, 0.6, 6, 1)\n",
      "([0.7615858323613149, 0.7467423186036447, 0.5305411314566821, 0.7130796780769807], [0.7154604781832548, 0.6439515206951749, 0.46009312964627075, 0.6590479328121914]), (0.1, 1, 0.6, 6, 0.8)\n",
      "([0.7573591200411384, 0.7420739440054629, 0.5197458321945887, 0.7074739387097123], [0.7147288636563167, 0.6442875332793148, 0.4547014132832285, 0.6572868671523302]), (0.1, 1, 0.6, 6, 0.6)\n",
      "([0.7936812532139318, 0.7931680995061277, 0.5925457775348456, 0.7514543231993379], [0.7119487284539522, 0.6328973620039903, 0.46646515807532063, 0.6577195831416276]), (0.1, 1, 0.6, 7, 1)\n",
      "([0.7908216377569578, 0.790505628344713, 0.5853716862530746, 0.7476889149274053], [0.7145825407509292, 0.6385918003565062, 0.46826239686300136, 0.6601685901323671]), (0.1, 1, 0.6, 7, 0.8)\n",
      "([0.7877613475310732, 0.7871558779761905, 0.5782659196501776, 0.7437793063638628], [0.7145825407509292, 0.6383759733036708, 0.46883424556817255, 0.6602949157617425]), (0.1, 1, 0.6, 7, 0.6)\n",
      "([0.8304298202706601, 0.8447430622428433, 0.6592989887947527, 0.7945021470460614], [0.7138801908050686, 0.6340004350663476, 0.4761865860632301, 0.661371906802705]), (0.1, 1, 0.6, 8, 1)\n",
      "([0.8276203735059137, 0.8425697140840099, 0.6523640338890407, 0.790826579856984], [0.7134412220889058, 0.6335478241902062, 0.474552732619884, 0.6606689791690391]), (0.1, 1, 0.6, 8, 0.8)\n",
      "([0.8246353363183705, 0.8377363491783001, 0.6478204427439191, 0.7875143356033157], [0.7175967926019139, 0.6414146927191354, 0.48002614165509355, 0.6651156700067533]), (0.1, 1, 0.6, 8, 0.6)\n",
      "([0.7382699326485307, 0.7108590927338418, 0.48394370046460783, 0.6848759902271512], [0.7121828451025723, 0.6435903556934829, 0.44048688832611715, 0.6521631888051015]), (0.1, 1, 0.4, 5, 1)\n",
      "([0.736664534497247, 0.7072108162243365, 0.4824747198688166, 0.6832992319493115], [0.711714611805332, 0.6406213226641563, 0.4447349072788171, 0.6527368106845522]), (0.1, 1, 0.4, 5, 0.8)\n",
      "([0.7355357389221256, 0.7075768333502384, 0.4766329598250888, 0.681180983767159], [0.7120657867782623, 0.6436259268117676, 0.4396699616044441, 0.6518915243498736]), (0.1, 1, 0.4, 5, 0.6)\n",
      "([0.7588140121157392, 0.7396429935089729, 0.529413774255261, 0.7106531008853348], [0.7118316701296421, 0.6355605889014723, 0.4584592762029246, 0.6558598250599665]), (0.1, 1, 0.4, 6, 1)\n",
      "([0.75727132482974, 0.7393696606979101, 0.5233328778354742, 0.7081576496036405], [0.7147288636563167, 0.6429308565531475, 0.45805081284208804, 0.6580267744101]), (0.1, 1, 0.4, 6, 0.8)\n",
      "([0.7554276253903751, 0.7354698795180723, 0.5213514621481279, 0.7062850376397906], [0.7142313657779988, 0.6415827996340348, 0.45829589085858996, 0.657693317066322]), (0.1, 1, 0.4, 6, 0.6)\n",
      "([0.7828824422119376, 0.772472550002278, 0.5792224651544138, 0.7401255114967258], [0.7140557782915338, 0.6360431813174708, 0.47169348909402825, 0.660516147191793]), (0.1, 1, 0.4, 7, 1)\n",
      "([0.7829326109041652, 0.7737109392871849, 0.5777193222191855, 0.7398495737119036], [0.7122706388458049, 0.6328736900165471, 0.4686708602238379, 0.6584576371342628]), (0.1, 1, 0.4, 7, 0.8)\n",
      "([0.7795211398326874, 0.7708844924245934, 0.5683930035528832, 0.7351963234138106], [0.7137631324807585, 0.6372767857142857, 0.46646515807532063, 0.659133171832918]), (0.1, 1, 0.4, 7, 0.6)\n",
      "([0.8176744302717889, 0.8236612045863902, 0.6405097021044001, 0.7804799843287216], [0.7119487284539522, 0.6270127118644068, 0.48353892655828773, 0.661491305504406]), (0.1, 1, 0.4, 8, 1)\n",
      "([0.8130212840676776, 0.8182100132919805, 0.6308759223831648, 0.7747811903479271], [0.7114804951567119, 0.6297951176983435, 0.4721019524548648, 0.6585999958352756]), (0.1, 1, 0.4, 8, 0.8)\n",
      "([0.8119802837039546, 0.8186442947030211, 0.6267081169718502, 0.7730837400095384], [0.7156360656697199, 0.6369060533738338, 0.479617678294257, 0.6634978496350445]), (0.1, 1, 0.4, 8, 0.6)\n",
      "([0.7768621991446238, 0.759434175441768, 0.574063951899426, 0.7342861823350953], [0.7136460741564484, 0.6312807355142185, 0.4823952291479454, 0.6625610436665399]), (0.3, 0, 1, 5, 1)\n",
      "([0.7764733917798597, 0.7551247771836007, 0.5788808417600437, 0.7349902732353994], [0.709812414035293, 0.6235781864568938, 0.47920921493342045, 0.6588704533399432]), (0.3, 0, 1, 5, 0.8)\n",
      "([0.7744290175715844, 0.7527657096788641, 0.5741664389177371, 0.732385345937792], [0.7130315179538205, 0.6299775808690082, 0.4820684584592762, 0.6620100614229806]), (0.3, 0, 1, 5, 0.6)\n",
      "([0.814664308738132, 0.8105051197463691, 0.6462831374692539, 0.7793139066723586], [0.711158584764859, 0.6216271673335385, 0.49497590066171065, 0.6634022230166737]), (0.3, 0, 1, 6, 1)\n",
      "([0.8148022726417579, 0.8113410027472527, 0.6457023776988248, 0.7793009797687727], [0.7080272745895643, 0.6176470588235294, 0.4854995506903031, 0.6588692463893832]), (0.3, 0, 1, 6, 0.8)\n",
      "([0.8123941754148324, 0.8090508679506002, 0.6400655916917191, 0.7762150428186494], [0.709080799508355, 0.6198665832812175, 0.4858263213789723, 0.6597622258969644]), (0.3, 0, 1, 6, 0.6)\n",
      "([0.8672034716735022, 0.8791703872067538, 0.7399904345449576, 0.8404960199043184], [0.7072078663193936, 0.6143851033353795, 0.4905644963646761, 0.6593497356424383]), (0.3, 0, 1, 7, 1)\n",
      "([0.8637418319097967, 0.875765493590267, 0.7328163432631867, 0.836254977949594], [0.7074419829680139, 0.6143264723863868, 0.49252512049669145, 0.6599652506268227]), (0.3, 0, 1, 7, 0.8)\n",
      "([0.8582358179378159, 0.8710610002891009, 0.720517901065865, 0.8293229430813382], [0.7076468350355565, 0.6146714212939378, 0.49285189118536066, 0.6601970354239617]), (0.3, 0, 1, 7, 0.6)\n",
      "([0.9259760946181536, 0.9432180245789713, 0.8495148947799945, 0.9099236219079228], [0.7038424394954786, 0.6060606060606061, 0.49505759333387794, 0.6577203151347913]), (0.3, 0, 1, 8, 1)\n",
      "([0.9211473579912456, 0.9394669419907461, 0.8393003552883301, 0.9039641751470882], [0.7050715519007346, 0.6083124687030546, 0.49620129074422026, 0.6589305587328033]), (0.3, 0, 1, 8, 0.8)\n",
      "([0.915478295769525, 0.9310226098932629, 0.831374692538945, 0.8978213560595992], [0.7014427438471218, 0.6029486014339089, 0.48778694551098767, 0.6542445899465562]), (0.3, 0, 1, 8, 0.6)\n",
      "([0.7741656319373895, 0.7501998756329396, 0.5770019130910085, 0.7327725433783784], [0.7099002077785257, 0.6220893643801133, 0.4845192386242954, 0.6601118764940902]), (0.3, 0, 0.8, 5, 1)\n",
      "([0.770703992173684, 0.7438320908768193, 0.5726632959825089, 0.729126788600462], [0.709812414035293, 0.6233683540273798, 0.4798627563107589, 0.6590148254878008]), (0.3, 0, 0.8, 5, 0.8)\n",
      "([0.7719080407871468, 0.746882237662569, 0.5728682700191309, 0.7301210887740079], [0.7126510783998127, 0.628692879914984, 0.4832938485417858, 0.6619843615713946]), (0.3, 0, 0.8, 5, 0.6)\n",
      "([0.811403343743337, 0.8035569582462575, 0.6436526373326046, 0.7761853031883895], [0.7078516871030991, 0.6158899609936358, 0.49015603300383953, 0.6597610990372594]), (0.3, 0, 0.8, 6, 1)\n",
      "([0.8072518844615018, 0.7969417392790022, 0.6374009292156327, 0.7715929119412951], [0.7089344766029674, 0.6173192925058787, 0.4932603545461972, 0.6612904599908369]), (0.3, 0, 0.8, 6, 0.8)\n",
      "([0.806837992750624, 0.7955426769506115, 0.6377767149494398, 0.7713448072656393], [0.7082321266571069, 0.6162588307566295, 0.4917081937750184, 0.66040038051724]), (0.3, 0, 0.8, 6, 0.6)\n",
      "([0.8584114083606126, 0.8651963770764795, 0.727726154687073, 0.8309749899854835], [0.7027011208334553, 0.6038093338651775, 0.49464912997304145, 0.6567408896559235]), (0.3, 0, 0.8, 7, 1)\n",
      "([0.8552633229233297, 0.8590927501012555, 0.7246173817983056, 0.8278351579317932], [0.7039302332387112, 0.6066479212693312, 0.49350543256269913, 0.6574458307364339]), (0.3, 0, 0.8, 7, 0.8)\n",
      "([0.8512122010259497, 0.8562891408456469, 0.7146761410221372, 0.8225474484218476], [0.7072956600626262, 0.6116708229426434, 0.500939465729924, 0.6617100429424814]), (0.3, 0, 0.8, 7, 0.6)\n",
      "([0.9131956202731686, 0.9261066839516529, 0.8297690625854058, 0.8956808213499772], [0.7007696584823389, 0.599940511600238, 0.4943223592843722, 0.6551639156202983]), (0.3, 0, 0.8, 8, 1)\n",
      "([0.9104238000275928, 0.9221993284493285, 0.8256695818529652, 0.8926302684428822], [0.6993649585906178, 0.5965273690406121, 0.4967731394493914, 0.6546109199298941]), (0.3, 0, 0.8, 8, 0.8)\n",
      "([0.9034503518079543, 0.9173243577839678, 0.8100232303908171, 0.8838360072761077], [0.7015890667525094, 0.6007094994087505, 0.497998529531901, 0.6566144038448378]), (0.3, 0, 0.8, 8, 0.6)\n",
      "([0.769662991809961, 0.7374700631395602, 0.5785733807051107, 0.7295451179868724], [0.7097538848731381, 0.6213815445710106, 0.485744628706805, 0.6602685751833159]), (0.3, 0, 0.6, 5, 1)\n",
      "([0.769525027906335, 0.7389054551833012, 0.5756354195135283, 0.7288193150204436], [0.710368441075766, 0.6223382045929019, 0.4870517114614819, 0.6610361156486616]), (0.3, 0, 0.6, 5, 0.8)\n",
      "([0.7648844238752807, 0.7327113547930668, 0.566104126810604, 0.7231519464786883], [0.7097831494542156, 0.621598995395563, 0.4852544726738012, 0.6601830958900242]), (0.3, 0, 0.6, 5, 0.6)\n",
      "([0.8006923279527411, 0.7806300071305734, 0.6357952992620934, 0.7660733962768383], [0.7075005121301688, 0.6116968370797693, 0.5024099338289355, 0.6621944789983711]), (0.3, 0, 0.6, 6, 1)\n",
      "([0.8011814727019604, 0.781554212823095, 0.6363077343536485, 0.7665674306640119], [0.7044569956981066, 0.6082255456750202, 0.4917081937750184, 0.6574592040466519]), (0.3, 0, 0.6, 6, 0.8)\n",
      "([0.7990743876284006, 0.7804537374079404, 0.6299193768789286, 0.7635615235927571], [0.709636826548828, 0.617370179167932, 0.4982436075484029, 0.6629384932406857]), (0.3, 0, 0.6, 6, 0.6)\n",
      "([0.844401801056051, 0.8416659914107447, 0.7096884394643345, 0.8161197107248543], [0.7005648064147961, 0.5985286905345758, 0.49848868556490483, 0.65592468933968]), (0.3, 0, 0.6, 7, 1)\n",
      "([0.8423574268477756, 0.8365776004513763, 0.7091418420333424, 0.814389783855808], [0.7026133270902227, 0.6017023774581743, 0.5024099338289355, 0.6583869094589274]), (0.3, 0, 0.6, 7, 0.8)\n",
      "([0.8368639550488518, 0.830119748325553, 0.698619841486745, 0.8078406090249476], [0.7010915688741916, 0.6005955334987593, 0.4943223592843722, 0.6554147136139143]), (0.3, 0, 0.6, 7, 0.6)\n",
      "([0.8967653735686245, 0.9017451407186772, 0.8067094834654277, 0.8778587945280527], [0.693658365280501, 0.5852649802827739, 0.4970999101380606, 0.6502371415715383]), (0.3, 0, 0.6, 8, 1)\n",
      "([0.8891146480039132, 0.8920142752983614, 0.794103580213173, 0.8691677654529072], [0.6957361505370051, 0.5885346648742078, 0.5006943877134221, 0.6526499754344584]), (0.3, 0, 0.6, 8, 0.8)\n",
      "([0.8889641419272303, 0.8953033646958609, 0.7899357748018584, 0.8681738566036483], [0.696965262942261, 0.591429125460539, 0.4983253002205702, 0.653084218737736]), (0.3, 0, 0.6, 8, 0.6)\n",
      "([0.7603817837478521, 0.7197510050577097, 0.5688029516261274, 0.7201612015309734], [0.7085833016300371, 0.6159236315629125, 0.4954660566947145, 0.6615041181786386]), (0.3, 0, 0.4, 5, 1)\n",
      "([0.7584879156162597, 0.7153793222088423, 0.5682563541951353, 0.7185501830826249], [0.7071493371572386, 0.6146111225117997, 0.4893391062821665, 0.6590334382300025]), (0.3, 0, 0.4, 5, 0.8)\n",
      "([0.7561676136007325, 0.7124702831208126, 0.5630978409401476, 0.7156340192631534], [0.706944485089696, 0.6140764265956357, 0.4896658769708357, 0.6589460255807211]), (0.3, 0, 0.4, 5, 0.6)\n",
      "([0.7893165769901294, 0.7585820895522388, 0.625068324678874, 0.7548338511957362], [0.7017353896578971, 0.6016268227358397, 0.4954660566947145, 0.6561689608598972]), (0.3, 0, 0.4, 6, 1)\n",
      "([0.784525466882392, 0.7532037859117179, 0.6144096747745286, 0.7488108937894917], [0.6995405460770829, 0.5981698826337776, 0.49129973041418185, 0.6535386020971957]), (0.3, 0, 0.4, 6, 0.8)\n",
      "([0.7840864908254004, 0.7515753453240412, 0.6152637332604537, 0.7486433809289645], [0.7003599543472535, 0.5996614894464357, 0.4920349644636876, 0.6543394156563764]), (0.3, 0, 0.4, 6, 0.6)\n",
      "([0.8232180707629404, 0.8042824491759895, 0.6852282044274391, 0.7942481020948112], [0.6931901319832606, 0.5840750311034548, 0.4985703782370721, 0.6501971818225944]), (0.3, 0, 0.4, 7, 1)\n",
      "([0.8206092987671044, 0.7998717897351657, 0.6820169445203608, 0.791512842144641], [0.6932779257264933, 0.5835707502374169, 0.5020014704680991, 0.651023535051651]), (0.3, 0, 0.4, 7, 0.8)\n",
      "([0.8155422608521152, 0.7930465574825962, 0.6732713856244875, 0.7856735255080959], [0.6951215943343771, 0.5869337148307106, 0.5027367045176048, 0.6526223422268826]), (0.3, 0, 0.4, 7, 0.6)\n",
      "([0.8683071829025097, 0.8587371961473781, 0.7675594424706204, 0.8471559276603284], [0.6826256182142753, 0.5652946679139382, 0.49366881790703376, 0.640883656559536]), (0.3, 0, 0.4, 8, 1)\n",
      "([0.867103134289047, 0.8596518256046835, 0.7625034162339437, 0.8451431843650148], [0.6893857364431828, 0.5765071005360669, 0.5007760803855894, 0.647720461533424]), (0.3, 0, 0.4, 8, 0.8)\n",
      "([0.864607241850723, 0.8554499634488861, 0.7595654550423613, 0.8425544828076509], [0.68552281174095, 0.5707257072570726, 0.49277019851319337, 0.6429423267987764]), (0.3, 0, 0.4, 8, 0.6)\n",
      "([0.77789065733529, 0.758761133240836, 0.5791541404755398, 0.736167371274255], [0.7134119575078283, 0.6299915038232795, 0.4846009312964627, 0.6628659011247475]), (0.3, 1, 1, 5, 1)\n",
      "([0.777225922163274, 0.7574713672154617, 0.5784025690079256, 0.7354844054536448], [0.7140265137104562, 0.6313437599744653, 0.48476431664079733, 0.6633807903313426]), (0.3, 1, 1, 5, 0.8)\n",
      "([0.77383953543791, 0.7531987745539737, 0.5711259907078436, 0.7312813013052883], [0.7147288636563167, 0.6335583413693346, 0.4830487705252839, 0.6635490090656515]), (0.3, 1, 1, 5, 0.6)\n",
      "([0.8168215625039195, 0.8133304849391155, 0.6503142935228204, 0.7818645725922829], [0.7093734453191303, 0.6193675072343944, 0.4895841842986684, 0.66082036392316]), (0.3, 1, 1, 6, 1)\n",
      "([0.8146392243920182, 0.8104356766482457, 0.6462831374692539, 0.7792940886022423], [0.711158584764859, 0.6239673742549409, 0.48746017482231846, 0.661741943316312]), (0.3, 1, 1, 6, 0.8)\n",
      "([0.811654187204475, 0.8083762384805088, 0.6382891500409948, 0.77525745874788], [0.7095197682245179, 0.6204098616456881, 0.48721509680581654, 0.6604110139751838]), (0.3, 1, 1, 6, 0.6)\n",
      "([0.8686458215750461, 0.8805619660715008, 0.7429967204154141, 0.8422667067861174], [0.7047789060899593, 0.6099479113471555, 0.48786863818315496, 0.6568618156716048]), (0.3, 1, 1, 7, 1)\n",
      "([0.8618605059512611, 0.8761433868974042, 0.7264279857884668, 0.8334274335093863], [0.7063006643059905, 0.6124885215794307, 0.49040111102034145, 0.6586068482598287]), (0.3, 1, 1, 7, 0.8)\n",
      "([0.8586497096486937, 0.8701069078947369, 0.7229092648264553, 0.8301519906644811], [0.7051593456439671, 0.6108268522308636, 0.48762356016665304, 0.6571040737449773]), (0.3, 1, 1, 7, 0.6)\n",
      "([0.9242703590824146, 0.9398046490497464, 0.8480459141842034, 0.9082675913496178], [0.6994820169149278, 0.5981680605336519, 0.490809574381178, 0.6533847233510996]), (0.3, 1, 1, 8, 1)\n",
      "([0.9212853218948716, 0.9386540515794293, 0.8405301995080623, 0.9043313713805001], [0.7036375874279359, 0.6051950636942676, 0.4967731394493914, 0.657939693299707]), (0.3, 1, 1, 8, 0.8)\n",
      "([0.9137976445798999, 0.9328643759904147, 0.8245422246515441, 0.8950591184297376], [0.7052764039682772, 0.6087392262978553, 0.49620129074422026, 0.6590901574560135]), (0.3, 1, 1, 8, 0.6)\n",
      "([0.775532728800592, 0.7520719762442938, 0.5797007379065319, 0.7344192268378851], [0.7101050598460683, 0.6241889160727582, 0.4793726002777551, 0.6591345445529223]), (0.3, 1, 0.8, 5, 1)\n",
      "([0.7717951612296347, 0.7461446157948536, 0.573551516807871, 0.730175350151691], [0.7124754909133476, 0.6262541806020067, 0.4895024916265011, 0.6632190980704326]), (0.3, 1, 0.8, 5, 0.8)\n",
      "([0.7690609675032296, 0.7400627846310297, 0.5718092374965837, 0.7276494016413337], [0.7119487284539522, 0.6263967952772507, 0.48541785801813575, 0.6619063754294965]), (0.3, 1, 0.8, 5, 0.6)\n",
      "([0.8083430535174524, 0.7991191687689743, 0.6384599617381799, 0.7726773341658258], [0.7105440285622311, 0.6217112077895173, 0.49031941834817416, 0.6618947752935581]), (0.3, 1, 0.8, 6, 1)\n",
      "([0.8064993540780876, 0.7965724078834618, 0.6351462148127904, 0.7705250089502228], [0.7095782973866729, 0.6186866099784858, 0.4933420472183645, 0.6618101024965511]), (0.3, 1, 0.8, 6, 0.8)\n",
      "([0.8051949680801695, 0.7943696974890736, 0.6333356108226291, 0.7691143461671759], [0.7102806473325335, 0.6207572474981946, 0.49154480843068377, 0.661960274712378]), (0.3, 1, 0.8, 6, 0.6)\n",
      "([0.8576588779771983, 0.863004820350792, 0.727828641705384, 0.8304019642859746], [0.700272160604021, 0.6008882608256788, 0.48631647741197614, 0.6530077599098184]), (0.3, 1, 0.8, 7, 1)\n",
      "([0.8549999372891347, 0.8602579227858915, 0.7223968297349003, 0.8271608794426497], [0.7048959644142694, 0.607388230608384, 0.4983253002205702, 0.6592629693077314]), (0.3, 1, 0.8, 7, 0.8)\n",
      "([0.852353538774128, 0.8580489401751371, 0.7163500956545504, 0.8238006052104972], [0.7050130227385795, 0.6089323520516181, 0.49342373989053184, 0.6582713774692057]), (0.3, 1, 0.8, 7, 0.6)\n",
      "([0.9157291392306631, 0.9299576772028825, 0.8332194588685433, 0.8984068320324207], [0.7009745105498815, 0.5997829732662523, 0.4966914467772241, 0.6558468633794922]), (0.3, 1, 0.8, 8, 1)\n",
      "([0.9061469190151886, 0.9200046262384826, 0.8152500683246788, 0.887063786416645], [0.6997746627257031, 0.5975585745225438, 0.495874520055551, 0.6547316056730104]), (0.3, 1, 0.8, 8, 0.8)\n",
      "([0.9006659893893216, 0.9139267990074442, 0.8052746652090735, 0.8806392747754082], [0.7017646542389746, 0.6011247040252565, 0.49775345151539907, 0.6566970631950001]), (0.3, 1, 0.8, 8, 0.6)\n",
      "([0.7698762087519283, 0.7381616813464725, 0.5783342443290517, 0.7296633666402387], [0.709080799508355, 0.6191216076237829, 0.4882771015439915, 0.6603036214514302]), (0.3, 1, 0.6, 5, 1)\n",
      "([0.7680575936586773, 0.7362054608406013, 0.573858977862804, 0.7272870069163007], [0.708466243305727, 0.6182176574333437, 0.48680663344498, 0.6594999879491202]), (0.3, 1, 0.6, 5, 0.8)\n",
      "([0.7653986529706137, 0.7343327271920876, 0.565625854058486, 0.7234578070308284], [0.7077638933598666, 0.6180751911194889, 0.4821501511314435, 0.6579241407732]), (0.3, 1, 0.6, 5, 0.6)\n",
      "([0.8027868708532441, 0.7831939799331104, 0.6399972670128451, 0.7686103776947735], [0.7066225746978432, 0.6107778444311138, 0.49906053427007596, 0.6607705772125574]), (0.3, 1, 0.6, 6, 1)\n",
      "([0.8027241599879595, 0.7847680726691618, 0.6375034162339437, 0.7680372666892781], [0.7071493371572386, 0.6119014225606091, 0.4989788415979087, 0.6611629274109014]), (0.3, 1, 0.6, 6, 0.8)\n",
      "([0.7972683147082064, 0.778159748747984, 0.6263664935774802, 0.7613887205397062], [0.7037253811711686, 0.60819789430645, 0.4860713993954742, 0.6556439988313439]), (0.3, 1, 0.6, 6, 0.6)\n",
      "([0.8443140058446527, 0.8372474494898979, 0.7149152773981963, 0.8171476840824787], [0.6984284919961371, 0.5953882538431218, 0.4935871252348664, 0.6531775115458418]), (0.3, 1, 0.6, 7, 1)\n",
      "([0.8392595101027204, 0.8313733387031816, 0.705213172998087, 0.8111174567105023], [0.7007111293201838, 0.5986094790442616, 0.4993873049587452, 0.6562372001309914]), (0.3, 1, 0.6, 7, 0.8)\n",
      "([0.8392093414104927, 0.8321757389759328, 0.7040174911177918, 0.8108267958571578], [0.7029059729009979, 0.6037136332042499, 0.4966914467772241, 0.6573516513411884]), (0.3, 1, 0.6, 7, 0.6)\n",
      "([0.8966399518380554, 0.9022915949347718, 0.8057187756217545, 0.8775517122723212], [0.6961458546720903, 0.589967073406934, 0.4976717588432318, 0.6523014516970377]), (0.3, 1, 0.6, 8, 1)\n",
      "([0.8916983356536353, 0.8972473532242541, 0.7961874829188302, 0.87164652688917], [0.6950923297532996, 0.5875961538461538, 0.4992239196144106, 0.6518235421145469]), (0.3, 1, 0.6, 8, 0.8)\n",
      "([0.8914474921924973, 0.8952191082314152, 0.7976906258540585, 0.8717639201130616], [0.6967896754557958, 0.5899693721286371, 0.5035536312392779, 0.6541023970149878]), (0.3, 1, 0.6, 8, 0.6)\n",
      "([0.7600933137675434, 0.720119781268987, 0.5668556982782181, 0.7195244820489963], [0.7089344766029674, 0.6172953081876725, 0.4933420472183645, 0.661308506509319]), (0.3, 1, 0.4, 5, 1)\n",
      "([0.7595665424991535, 0.7197806979375163, 0.5651134189669309, 0.7187425237088761], [0.7051300810628895, 0.6106511295103751, 0.4880320235274896, 0.6571715065197867]), (0.3, 1, 0.4, 5, 0.8)\n",
      "([0.7571584452722279, 0.7144279037562749, 0.5639860617655097, 0.7166033085339172], [0.7060665476573703, 0.6129795330659261, 0.4868883261171473, 0.6576484494242827]), (0.3, 1, 0.4, 5, 0.6)\n",
      "([0.7892789504709586, 0.75765464237015, 0.6264006559169172, 0.7550838373423148], [0.7015305375903544, 0.6005317053958251, 0.4982436075484029, 0.6566229437650816]), (0.3, 1, 0.4, 6, 1)\n",
      "([0.7857295154958548, 0.7534098469727212, 0.6189532659196502, 0.7507160550649004], [0.6998331918878581, 0.5973885725505595, 0.4970999101380606, 0.6550479030854461]), (0.3, 1, 0.4, 6, 0.8)\n",
      "([0.7819543214057267, 0.7470796092288505, 0.6139314020224105, 0.7466791317173231], [0.7011793626174241, 0.5989664586583463, 0.5018380851237644, 0.6571433927670806]), (0.3, 1, 0.4, 6, 0.6)\n",
      "([0.8224655403795261, 0.801700395162256, 0.6861505875922383, 0.7938472076271504], [0.6919902841590823, 0.5827705961798186, 0.49350543256269913, 0.6481435051550385]), (0.3, 1, 0.4, 7, 1)\n",
      "([0.8186652619432843, 0.7964222826956939, 0.6798647171358294, 0.7895250972270241], [0.6940388048345087, 0.5857664233576643, 0.4982436075484029, 0.650786190459108]), (0.3, 1, 0.4, 7, 0.8)\n",
      "([0.8158558151785378, 0.795511626022847, 0.6708800218638973, 0.7854192019583265], [0.6967604108747183, 0.591222448781435, 0.49742668082672986, 0.6527261083112217]), (0.3, 1, 0.4, 7, 0.6)\n",
      "([0.8672410981926728, 0.8568264273438991, 0.7664662476086362, 0.8460841513712536], [0.6849375201193995, 0.5687389318669028, 0.49848868556490483, 0.6437495867405006]), (0.3, 1, 0.4, 8, 1)\n",
      "([0.8617977950859766, 0.8505204132580558, 0.7565250068324679, 0.8396965389698517], [0.6860788387814228, 0.5709067066316973, 0.4979168368597337, 0.6445124539975823]), (0.3, 1, 0.4, 8, 0.8)\n",
      "([0.8562416124217682, 0.844647418530846, 0.7455588958731894, 0.8330045812131163], [0.687600596997454, 0.5741056218057922, 0.4955477493668818, 0.6451746954768744]), (0.3, 1, 0.4, 8, 0.6)\n",
      "([0.7966286638823042, 0.7753363417822952, 0.6280404482098935, 0.7612347943500963], [0.705656843522285, 0.6111620327935635, 0.4902377256760069, 0.6580691592356323]), (0.5, 0, 1, 5, 1)\n",
      "([0.7918500959476239, 0.769449876711164, 0.618304181470347, 0.7554153936147391], [0.7039302332387112, 0.6065195586760281, 0.493995588595703, 0.6575541098473271]), (0.5, 0, 1, 5, 0.8)\n",
      "([0.7907714690647302, 0.7672809103260869, 0.617347635966111, 0.7543623968292474], [0.7025547979280676, 0.6045504882714186, 0.4905644963646761, 0.6557245646438064]), (0.5, 0, 1, 5, 0.6)\n",
      "([0.8436994393648644, 0.8383655394524959, 0.7114307187756218, 0.8159305836292743], [0.6961751192531679, 0.5909936368086148, 0.4931786618740299, 0.6513316929981184]), (0.5, 0, 1, 6, 1)\n",
      "([0.8409150769462317, 0.8347054075867635, 0.7066138289150041, 0.812719506859254], [0.697755406631354, 0.5933990821208867, 0.4964463687607222, 0.6532847438878849]), (0.5, 0, 1, 6, 0.8)\n",
      "([0.8379551241048024, 0.8322496749024707, 0.6996447116698552, 0.8089178591148183], [0.6971993795908812, 0.5929707441586491, 0.49342373989053184, 0.6521838261696161]), (0.5, 0, 1, 6, 0.6)\n",
      "([0.9007161580815493, 0.9079932752559988, 0.8118338343809784, 0.8820559607704255], [0.6937754236048111, 0.5854080553686437, 0.49750837349889715, 0.650418573434355]), (0.5, 0, 1, 7, 1)\n",
      "([0.8996124468525417, 0.9054754823457637, 0.8112530746105493, 0.881062039396081], [0.6907904363349039, 0.5797391221555745, 0.49742668082672986, 0.648074945520524]), (0.5, 0, 1, 7, 0.8)\n",
      "([0.8953606501862512, 0.8984502912843163, 0.8060945613555617, 0.876619884177652], [0.6925755757806327, 0.5838323353293413, 0.49383220325136834, 0.6486716875809966]), (0.5, 0, 1, 7, 0.6)\n",
      "([0.9564034064542023, 0.9639902151233902, 0.9154482098934135, 0.9478051608534824], [0.686254426267888, 0.5721610330421573, 0.49228004248018953, 0.6434040431279198]), (0.5, 0, 1, 8, 1)\n",
      "([0.9538071766314231, 0.9618119473019311, 0.9103238589778628, 0.9446781703973918], [0.6881566240379269, 0.5756707724625226, 0.49252512049669145, 0.6449401708274611]), (0.5, 0, 1, 8, 0.8)\n",
      "([0.9522143206531963, 0.9611678620589726, 0.9064635146214812, 0.9426092717283866], [0.6880688302946943, 0.5756648172948153, 0.49162650110285105, 0.6446732596713526]), (0.5, 0, 1, 8, 0.6)\n",
      "([0.7880372753383251, 0.7578144536134034, 0.6211738179830555, 0.7530055062685249], [0.7005940709958737, 0.5993475682087782, 0.49530267135037986, 0.6552436749364758]), (0.5, 0, 0.8, 5, 1)\n",
      "([0.784788852516587, 0.7551501874710368, 0.6123599344083083, 0.7485886554460932], [0.7039009686576336, 0.6049224078284077, 0.49995915366391636, 0.6588487058789257]), (0.5, 0, 0.8, 5, 0.8)\n",
      "([0.7837980208450916, 0.7540533693632833, 0.610105220005466, 0.7473324807889159], [0.7038424394954786, 0.6061030515257628, 0.4948942079895433, 0.6576842220978268]), (0.5, 0, 0.8, 5, 0.6)\n",
      "([0.8302667720209204, 0.8137133745266095, 0.6973216725881388, 0.8023559154672596], [0.6935120423751134, 0.5843994653427534, 0.5000408463360837, 0.65077281714889]), (0.5, 0, 0.8, 6, 1)\n",
      "([0.8337284117846258, 0.8202871885124595, 0.7006012571740913, 0.8057793340707056], [0.694946006847912, 0.5872132091773064, 0.49971407564741444, 0.6518178221374328]), (0.5, 0, 0.8, 6, 0.8)\n",
      "([0.8285359521390676, 0.8132605116260391, 0.691821535938781, 0.7998337549489184], [0.6944777735506716, 0.585753737739263, 0.5024916265011029, 0.652066606684204]), (0.5, 0, 0.8, 6, 0.6)\n",
      "([0.8878980572173935, 0.8866661595801324, 0.7964607816343263, 0.8687014663438284], [0.685581340903105, 0.5704072994073934, 0.49538436402254715, 0.6435654150254095]), (0.5, 0, 0.8, 7, 1)\n",
      "([0.8837215135894445, 0.8826477903194949, 0.7880568461328232, 0.8636374125430164], [0.6857276638084926, 0.5705164319248827, 0.49636467608855483, 0.643895972335203]), (0.5, 0, 0.8, 7, 0.8)\n",
      "([0.8807615607480151, 0.8799354119411018, 0.7819076250341623, 0.8600078960304287], [0.688215153200082, 0.5753203607024205, 0.49513928600604523, 0.6455632590540942]), (0.5, 0, 0.8, 7, 0.6)\n",
      "([0.9464449210470206, 0.95, 0.9015783000819896, 0.9370255003452022], [0.6840888472681513, 0.5671309192200558, 0.4989788415979087, 0.6431966711409516]), (0.5, 0, 0.8, 8, 1)\n",
      "([0.9406002684025034, 0.9467263855509431, 0.8881866630226838, 0.929596413221245], [0.6819817974305697, 0.5634935304990758, 0.4980802222040683, 0.6413565725703424]), (0.5, 0, 0.8, 8, 0.8)\n",
      "([0.9406378949216742, 0.9460825304490093, 0.888972396829735, 0.9297910994236073], [0.6813087120657868, 0.5626914153132251, 0.49530267135037986, 0.6402185951371142]), (0.5, 0, 0.8, 8, 0.6)\n",
      "([0.7803238389083292, 0.7411890206375907, 0.617142661929489, 0.7460651378178331], [0.7006818647391062, 0.597444089456869, 0.504125479944449, 0.6572610983853572]), (0.5, 0, 0.6, 5, 1)\n",
      "([0.7780160790658589, 0.7379806703680856, 0.6130090188576114, 0.7433740470732298], [0.7026133270902227, 0.6012467127690659, 0.5042888652887836, 0.6588019793840179]), (0.5, 0, 0.6, 5, 0.8)\n",
      "([0.7747300297249502, 0.734950770636866, 0.6043659469800492, 0.7389633298189252], [0.6967604108747183, 0.5916495951614477, 0.4954660566947145, 0.652292991867649]), (0.5, 0, 0.6, 5, 0.6)\n",
      "([0.8187530571546826, 0.7923389482819835, 0.6861505875922383, 0.7909141332499332], [0.6908782300781364, 0.5788237504697482, 0.5033085532227759, 0.6494426943040464]), (0.5, 0, 0.6, 6, 1)\n",
      "([0.8166334299080659, 0.7896568084769888, 0.6822902432358567, 0.7884290551084852], [0.6895027947674929, 0.5765224734916018, 0.5019197777959317, 0.6480643120625805]), (0.5, 0, 0.6, 6, 0.8)\n",
      "([0.8111023315899712, 0.7819530970993215, 0.6732030609456136, 0.7821513828281843], [0.6926926341049428, 0.5816441441441441, 0.5063311820929662, 0.6515240041791781]), (0.5, 0, 0.6, 6, 0.6)\n",
      "([0.8724586421843449, 0.8605836384914493, 0.7787646898059579, 0.8527882784331718], [0.6775335811067864, 0.5558194774346793, 0.4970182174658933, 0.637656395554652]), (0.5, 0, 0.6, 7, 1)\n",
      "([0.8682319298641683, 0.8563886356730477, 0.7702582672861438, 0.8476630720881462], [0.6794650434579029, 0.5586414132216354, 0.501184543746426, 0.6400815559589403]), (0.5, 0, 0.6, 7, 0.8)\n",
      "([0.8605937464725139, 0.8442868519852857, 0.7605561628860344, 0.8395915834941875], [0.6819232682684148, 0.5627860150100678, 0.5023282411567682, 0.6422493918962136]), (0.5, 0, 0.6, 7, 0.6)\n",
      "([0.9240069734482197, 0.9227771099697665, 0.8654345449576387, 0.9117101181555073], [0.6725878669046853, 0.5469795663424646, 0.5007760803855894, 0.6346333662301864]), (0.5, 0, 0.6, 8, 1)\n",
      "([0.923693419121797, 0.9213854764846987, 0.8660494670675047, 0.9115914907029392], [0.6730561002019256, 0.5476934059070224, 0.5014296217629278, 0.6351425354596673]), (0.5, 0, 0.6, 8, 0.8)\n",
      "([0.9146128858285987, 0.9113080415995313, 0.8501639792292977, 0.9010823067037708], [0.6785578414444997, 0.5568418196617527, 0.5029817825341066, 0.6397717850199032]), (0.5, 0, 0.6, 8, 0.6)\n",
      "([0.7637305439540455, 0.7112316786784355, 0.6000956545504236, 0.7293765892403717], [0.6893857364431828, 0.5764064994834226, 0.5013479290907605, 0.6478467871627992]), (0.5, 0, 0.4, 5, 1)\n",
      "([0.7626519170711518, 0.7096604262906232, 0.5982850505602624, 0.7281442890883715], [0.6904392613619736, 0.5799596115011059, 0.4926885058410261, 0.6467546496373394]), (0.5, 0, 0.4, 5, 0.8)\n",
      "([0.757409288733366, 0.7015834348355664, 0.5903252254714403, 0.7223312050581997], [0.6921073424833923, 0.5824544582933845, 0.49628298341638755, 0.648848286053839]), (0.5, 0, 0.4, 5, 0.6)\n",
      "([0.7924772046004691, 0.7477032077234507, 0.6561560535665483, 0.7638575705713], [0.6780018144040268, 0.5569038426181283, 0.4948942079895433, 0.6375519831557384]), (0.5, 0, 0.4, 6, 1)\n",
      "([0.7883257453186339, 0.7418536585365854, 0.6494260726974583, 0.7591647694389608], [0.6821573849170349, 0.562466051059207, 0.5075565721754759, 0.6435867676198858]), (0.5, 0, 0.4, 6, 0.8)\n",
      "([0.7879620222999837, 0.7430997876857749, 0.6456682153593878, 0.758088472609637], [0.6866348658218958, 0.5701345045292342, 0.5090270402744874, 0.6473999770455885]), (0.5, 0, 0.4, 6, 0.6)\n",
      "([0.8344182313027555, 0.8006660679538992, 0.7309715769335884, 0.8127003587119437], [0.6702467004184836, 0.5428068631764188, 0.5039620946001143, 0.6335131950428753]), (0.5, 0, 0.4, 7, 1)\n",
      "([0.8327752066323011, 0.7986509274873524, 0.728067778081443, 0.8107926436731954], [0.6690468525943051, 0.5414812177318854, 0.496936524793726, 0.6310264019317467]), (0.5, 0, 0.4, 7, 0.8)\n",
      "([0.8255132884323538, 0.7920152091254753, 0.7116015304728068, 0.8015983434682353], [0.6695150858915455, 0.5422158888493053, 0.4973449881545625, 0.631481431605781]), (0.5, 0, 0.4, 7, 0.6)\n",
      "([0.8837591401086152, 0.8622600507062659, 0.8133028149767696, 0.8689673471621794], [0.6590676304468701, 0.5254719420739591, 0.497998529531901, 0.6234862688699176]), (0.5, 0, 0.4, 8, 1)\n",
      "([0.8814262959200311, 0.8585281134669658, 0.8106039901612463, 0.866557668003194], [0.660852769892599, 0.5279396640383957, 0.5032268605506086, 0.6260320349264671]), (0.5, 0, 0.4, 8, 0.8)\n",
      "([0.8771243305615131, 0.8546712802768166, 0.801619294889314, 0.8612725975625745], [0.6651253987299172, 0.5345753899480069, 0.5039620946001143, 0.6295232269626199]), (0.5, 0, 0.4, 8, 0.6)\n",
      "([0.7950232657310206, 0.7723155988036564, 0.6263323312380432, 0.7596078311296343], [0.7054812560358198, 0.6100272920246639, 0.4930152765296953, 0.658545941958418]), (0.5, 1, 1, 5, 1)\n",
      "([0.7936060001755905, 0.7698559757432831, 0.6245217272478819, 0.7581079870310636], [0.7037839103333235, 0.605960596059606, 0.49497590066171065, 0.6576566689811062]), (0.5, 1, 1, 5, 0.8)\n",
      "([0.7917246742170548, 0.768188362835606, 0.6197048373872642, 0.7556103607852312], [0.7058616955898276, 0.6101166532582462, 0.4956294420390491, 0.6594198281786672]), (0.5, 1, 1, 5, 0.6)\n",
      "([0.8417177760218736, 0.8361052801550137, 0.7075703744192402, 0.8135545048734659], [0.6976676128881215, 0.5937929679827146, 0.4939138959235357, 0.6526569023621325]), (0.5, 1, 1, 6, 1)\n",
      "([0.842570643789743, 0.8377231962511109, 0.7084244329051653, 0.8144076226239297], [0.6969067337801059, 0.591884510339446, 0.4957111347112164, 0.652461130511103]), (0.5, 1, 1, 6, 0.8)\n",
      "([0.832260977536968, 0.8236299975572022, 0.691104126810604, 0.8026261235333267], [0.6983992274150596, 0.5944178784034352, 0.49759006617106444, 0.6540389911338679]), (0.5, 1, 1, 6, 0.6)\n",
      "([0.9017697006183292, 0.9076975735909333, 0.8153525553429899, 0.8836270495853259], [0.6912001404699891, 0.5807747489239599, 0.4960379053998856, 0.6480873521527472]), (0.5, 1, 1, 7, 1)\n",
      "([0.889265154080596, 0.8942415242797084, 0.7920538398469528, 0.8688563457939852], [0.6899124989025782, 0.5787156665709637, 0.493995588595703, 0.6466329972162281]), (0.5, 1, 1, 7, 0.8)\n",
      "([0.8946833728411785, 0.9005026668201527, 0.801721781907625, 0.875166763047988], [0.6925170466184777, 0.5825242718446602, 0.49995915366391636, 0.6499795768319583]), (0.5, 1, 1, 7, 0.6)\n",
      "([0.9567169607806248, 0.9629908552985476, 0.9173613009018857, 0.9484545262709156], [0.6862836908489655, 0.5716034271725826, 0.49595621272771834, 0.6442389362772198]), (0.5, 1, 1, 8, 1)\n",
      "([0.9521265254417981, 0.9587313029374662, 0.9087182290243235, 0.9430132693705616], [0.6900002926458108, 0.5791698693312837, 0.49244342782452416, 0.6463585128178708]), (0.5, 1, 1, 8, 0.8)\n",
      "([0.9481255722366457, 0.9563212548108344, 0.8998018584312654, 0.9379803600406589], [0.6891516197945626, 0.5766064162013816, 0.49775345151539907, 0.6468703418087712]), (0.5, 1, 1, 8, 0.6)\n",
      "([0.7896050469704381, 0.7607779308042235, 0.6227452855971577, 0.7545740538451711], [0.7005062772526411, 0.5992483433883888, 0.49497590066171065, 0.6551030894097427]), (0.5, 1, 0.8, 5, 1)\n",
      "([0.7864444193600983, 0.7568485967193859, 0.6163227657830008, 0.7507286156943701], [0.7026718562523777, 0.6041020510255127, 0.4932603545461972, 0.6564112990241245]), (0.5, 1, 0.8, 5, 0.8)\n",
      "([0.7843247921134816, 0.7531656184486373, 0.6136581033069145, 0.7484945622660338], [0.7019402417254397, 0.6028, 0.49244342782452416, 0.6556608383992661]), (0.5, 1, 0.8, 5, 0.6)\n",
      "([0.8339792552457639, 0.8203284190339206, 0.7014211533205794, 0.806149646003717], [0.6940388048345087, 0.5847570235383447, 0.5033085532227759, 0.651905074605004]), (0.5, 1, 0.8, 6, 1)\n",
      "([0.830041012905896, 0.8156700534115096, 0.6938712763050013, 0.8014531672355185], [0.6921951362266249, 0.5824007651841224, 0.49742668082672986, 0.6491693367653941]), (0.5, 1, 0.8, 6, 0.8)\n",
      "([0.8266671683535889, 0.8117585344201437, 0.6872437824542225, 0.7973962426807667], [0.6967604108747183, 0.5906066158742406, 0.5002859243525856, 0.6533577364580985]), (0.5, 1, 0.8, 6, 0.6)\n",
      "([0.8901054796754085, 0.8889773934152633, 0.8006627493850779, 0.871327629077287], [0.6872201574434462, 0.5726176002992612, 0.5002042316804183, 0.6459069494015407]), (0.5, 1, 0.8, 7, 1)\n",
      "([0.8889014310619457, 0.8878628970968232, 0.7982030609456136, 0.8698599680161586], [0.685698399227415, 0.5703703703703704, 0.496936524793726, 0.6439994981469771]), (0.5, 1, 0.8, 7, 0.8)\n",
      "([0.8826052601873801, 0.8799709945805664, 0.7876810603990161, 0.8626766149415759], [0.6899417634836558, 0.5773496240601503, 0.5018380851237644, 0.6483882628081201]), (0.5, 1, 0.8, 7, 0.6)\n",
      "([0.9482635361402717, 0.9540972949546751, 0.9025006832467888, 0.9386559580644653], [0.6803429808902286, 0.5606478925087429, 0.4976717588432318, 0.6399895501922497]), (0.5, 1, 0.8, 8, 1)\n",
      "([0.945867981086403, 0.9503717606294665, 0.8995285597157693, 0.9361393566529064], [0.6820695911738024, 0.5632638059358632, 0.5007760803855894, 0.6420205071330592]), (0.5, 1, 0.8, 8, 0.8)\n",
      "([0.9382423398678055, 0.9430775949919931, 0.8852145394916644, 0.9271095389148606], [0.6813379766468644, 0.5632366697848457, 0.491871579119353, 0.6394834411784636]), (0.5, 1, 0.8, 8, 0.6)\n",
      "([0.7784174286036799, 0.7396637891867333, 0.6117791746378792, 0.743432939347319], [0.7009745105498815, 0.5990986577838738, 0.4995506903030798, 0.656478491526369]), (0.5, 1, 0.6, 5, 1)\n",
      "([0.7786431877187041, 0.7384205128205128, 0.6148879475266467, 0.7442639662324567], [0.6995698106581604, 0.5962381834129227, 0.4997957683195817, 0.6554382398369455]), (0.5, 1, 0.6, 5, 0.8)\n",
      "([0.7745669814752104, 0.7343594424161964, 0.6047075703744192, 0.7389062337097725], [0.6984577565772147, 0.5946447767028242, 0.4970999101380606, 0.6539763116581776]), (0.5, 1, 0.6, 5, 0.6)\n",
      "([0.820007274460373, 0.7937783028155149, 0.6886444383711396, 0.7924286025859542], [0.6910538175646016, 0.5777757251062258, 0.5109876644065028, 0.6512758659469814]), (0.5, 1, 0.6, 6, 1)\n",
      "([0.818176117194065, 0.7934691931831724, 0.6823585679147308, 0.7896622106899601], [0.6895905885107255, 0.5760141421659843, 0.5057593333877951, 0.648980897884048]), (0.5, 1, 0.6, 6, 0.8)\n",
      "([0.8108013194366056, 0.7812537171404782, 0.6731347362667396, 0.7818992217174678], [0.6905563196862837, 0.5786988952884524, 0.5006943877134221, 0.648614407719]), (0.5, 1, 0.6, 6, 0.6)\n",
      "([0.8704393523221834, 0.855464644948206, 0.7786622027876469, 0.8511714073848261], [0.680313716309151, 0.5593724641601299, 0.5068213381259701, 0.641987960444654]), (0.5, 1, 0.6, 7, 1)\n",
      "([0.8679183755377456, 0.8538307593550579, 0.7724788193495491, 0.8478815349646138], [0.680928272511779, 0.56067476872846, 0.5050240993382894, 0.6420697332076764]), (0.5, 1, 0.6, 7, 0.8)\n",
      "([0.8660245074061532, 0.8525908504665807, 0.7678327411861164, 0.8454098603570249], [0.6800795996605309, 0.5594081873468276, 0.5034719385671105, 0.6410656546460723]), (0.5, 1, 0.6, 7, 0.6)\n",
      "([0.9231917321995209, 0.9207503271775483, 0.8652637332604537, 0.9110301702034248], [0.6732316876883907, 0.5481846705513223, 0.4995506903030798, 0.6348642644401855]), (0.5, 1, 0.6, 8, 1)\n",
      "([0.9221005631435703, 0.9166696780255122, 0.8665960644984969, 0.9104477974051176], [0.673524333499166, 0.5482093663911846, 0.5039620946001143, 0.6360667746142387]), (0.5, 1, 0.6, 8, 0.8)\n",
      "([0.9240069734482197, 0.9220085081627459, 0.8662886034435638, 0.9118894215220159], [0.6764800561879957, 0.5532602838153404, 0.5032268605506086, 0.6382071375256464]), (0.5, 1, 0.6, 8, 0.6)\n",
      "([0.7630407244359158, 0.7092455949356881, 0.6009155506969117, 0.7290037235440205], [0.6909952884024465, 0.5794145420207744, 0.5012662364185932, 0.6490827306123975]), (0.5, 1, 0.4, 5, 1)\n",
      "([0.7611468563043233, 0.7072459069541255, 0.5962011478546051, 0.7265177046671112], [0.6912294050510667, 0.5809231947902701, 0.4955477493668818, 0.6480018728594555]), (0.5, 1, 0.4, 5, 0.8)\n",
      "([0.7584126625779183, 0.70390287623238, 0.5902569007925663, 0.7231095835935325], [0.6899124989025782, 0.5789574733608525, 0.4926885058410261, 0.6463442529205131]), (0.5, 1, 0.4, 5, 0.6)\n",
      "([0.7889277696253653, 0.7414522451197267, 0.6526714949439738, 0.7603217559144848], [0.6796991601065231, 0.5589519650655022, 0.5019197777959317, 0.6404263731660917]), (0.5, 1, 0.4, 6, 1)\n",
      "([0.7917873850823394, 0.7457620543853524, 0.6567709756764143, 0.7634416720669869], [0.6780018144040268, 0.5562522719011269, 0.5000408463360837, 0.6386889138201166]), (0.5, 1, 0.4, 6, 0.8)\n",
      "([0.788313203145577, 0.7418813427010148, 0.6493235856791473, 0.7591333439999217], [0.6856691346463375, 0.568393215393033, 0.509190425618822, 0.6466836761017046]), (0.5, 1, 0.4, 6, 0.6)\n",
      "([0.8337033274385119, 0.7985606145355558, 0.7315864990434545, 0.8122646421375144], [0.6721488981885224, 0.5457995058242147, 0.5052691773547913, 0.6352839274826851]), (0.5, 1, 0.4, 7, 1)\n",
      "([0.829275940349425, 0.7918157423971377, 0.7258130636786007, 0.8075546620043849], [0.6685200901349098, 0.5398500174398326, 0.5057593333877951, 0.6325650292109973]), (0.5, 1, 0.4, 7, 0.8)\n",
      "([0.8256763366820935, 0.7910560793668825, 0.7136854331784641, 0.8021646611382719], [0.6743730063504141, 0.5500089782725803, 0.5004493096969201, 0.6359519690299467]), (0.5, 1, 0.4, 7, 0.6)\n",
      "([0.8802347894796252, 0.8553309552120492, 0.8109456135556163, 0.8656880310192715], [0.6621111468789325, 0.5298770527039808, 0.5034719385671105, 0.6270665666387765]), (0.5, 1, 0.4, 8, 1)\n",
      "([0.8782280417905206, 0.8542609829415813, 0.8057871003006286, 0.8630195930762543], [0.6606186532439788, 0.527956242403195, 0.4967731394493914, 0.624423961425562]), (0.5, 1, 0.4, 8, 0.8)\n",
      "([0.866576363020657, 0.8406083205381297, 0.7855288330144848, 0.8495610236536385], [0.664832752919142, 0.5342668290137416, 0.5018380851237644, 0.6288260193060683]), (0.5, 1, 0.4, 8, 0.6)\n",
      "([0.8060352936749822, 0.7780642042937125, 0.6599139109046187, 0.7753581722818145], [0.6930730736589505, 0.5834682411198934, 0.5005310023690875, 0.6505390989957613]), (0.7, 0, 1, 5, 1)\n",
      "([0.8017709548356349, 0.7752299202942979, 0.6479229297622301, 0.7694716810962601], [0.6957068859559276, 0.5891113045160042, 0.4976717588432318, 0.6519594544330157]), (0.7, 0, 1, 5, 0.8)\n",
      "([0.7995509902045629, 0.7702318015453437, 0.647034708936868, 0.7675313063897959], [0.6969359983611835, 0.5906511493700106, 0.5016746997794298, 0.6538013261779047]), (0.7, 0, 1, 5, 0.6)\n",
      "([0.8596530834932461, 0.8488309283123698, 0.7515714676141022, 0.8369621344491566], [0.6844107576600041, 0.56745994999537, 0.5006126950412548, 0.6438083995042115]), (0.7, 0, 1, 6, 1)\n",
      "([0.8535575873875908, 0.8421482460916232, 0.7397854605083356, 0.8296719569530718], [0.686312955430043, 0.5707775297619048, 0.5013479290907605, 0.6454528063146461]), (0.7, 0, 1, 6, 0.8)\n",
      "([0.8509738997378686, 0.8369893806681653, 0.7377698824815523, 0.8272075397861299], [0.6884200052676246, 0.5751744953782305, 0.4981619148762356, 0.6463905789611457]), (0.7, 0, 1, 6, 0.6)\n",
      "([0.9242076482171301, 0.9255174940465287, 0.8630090188576114, 0.9113594411555541], [0.6799040121740657, 0.5598420134104896, 0.4979168368597337, 0.6397016924836745]), (0.7, 0, 1, 7, 1)\n",
      "([0.9224392018161066, 0.9232912877676738, 0.860207707023777, 0.9093741521702052], [0.680313716309151, 0.5598364379827351, 0.5033085532227759, 0.6412119601499197]), (0.7, 0, 1, 7, 0.8)\n",
      "([0.913396295042079, 0.9125078381468776, 0.845142115332058, 0.8990668265080591], [0.6806941558631588, 0.5607861060329068, 0.501184543746426, 0.6410391482982015]), (0.7, 0, 1, 7, 0.6)\n",
      "([0.976646473768045, 0.9802368771462612, 0.9556572834107679, 0.9722399459325783], [0.6757777062421352, 0.5529143897996357, 0.49595621272771834, 0.6360538017582961]), (0.7, 0, 1, 8, 1)\n",
      "([0.972219086678958, 0.9754014829391714, 0.9482440557529379, 0.9671857033357527], [0.6768019665798484, 0.5540308747855918, 0.5013479290907605, 0.6380428655941719]), (0.7, 0, 1, 8, 0.8)\n",
      "([0.9666252774955789, 0.9676308297894773, 0.9405575293796119, 0.9611525434012349], [0.6783529893769571, 0.5569631790010937, 0.4992239196144106, 0.6387820464465122]), (0.7, 0, 1, 8, 0.6)\n",
      "([0.7947849644429393, 0.759904976646803, 0.6447458321945887, 0.7632853400454502], [0.6902636738755085, 0.5781677516746863, 0.5006126950412548, 0.6483683630245034]), (0.7, 0, 0.8, 5, 1)\n",
      "([0.7929036384844038, 0.7549960031974421, 0.6453265919650177, 0.7619209110759511], [0.691024552983524, 0.5793344018101254, 0.5020014704680991, 0.6492679490963387]), (0.7, 0, 0.8, 5, 0.8)\n",
      "([0.789228781778731, 0.7531781812274075, 0.6335064225198141, 0.756536005211432], [0.6932779257264933, 0.5833491191513545, 0.5031451678784413, 0.6512761863104017]), (0.7, 0, 0.8, 5, 0.6)\n",
      "([0.8436367284995798, 0.8216760460931817, 0.7332262913364307, 0.8204568603672779], [0.6782651956337244, 0.5567798925416628, 0.4994689976309125, 0.6387677865491544]), (0.7, 0, 0.8, 6, 1)\n",
      "([0.8446651866902459, 0.8240396054802932, 0.7335337523913638, 0.8213339504539907], [0.6834157619033684, 0.5657517789483412, 0.500122539008251, 0.6429249265948689]), (0.7, 0, 0.8, 6, 0.8)\n",
      "([0.8380303771431438, 0.8155478395061728, 0.7221576933588412, 0.8137037500663288], [0.6835620848087559, 0.5653487095002746, 0.5046156359774528, 0.6440314841993967]), (0.7, 0, 0.8, 6, 0.6)\n",
      "([0.909871944413089, 0.9059926470588235, 0.8418625307461055, 0.8955938627293222], [0.670217435837406, 0.5431156848828956, 0.500122539008251, 0.6326422088566107]), (0.7, 0, 0.8, 7, 1)\n",
      "([0.9047045691136446, 0.8988003238389637, 0.8343809784094015, 0.889940642794744], [0.6704222879049486, 0.5434686084717165, 0.49995915366391636, 0.6327657145428565]), (0.7, 0, 0.8, 7, 0.8)\n",
      "([0.899311434699176, 0.8909746760895171, 0.8269335884121345, 0.8841162323637795], [0.6720611044452899, 0.5464417122857399, 0.49742668082672986, 0.6334830622555901]), (0.7, 0, 0.8, 7, 0.6)\n",
      "([0.9625490712520851, 0.9624234747730631, 0.9344766329598251, 0.9566554670377913], [0.6751338854584297, 0.5508202567760342, 0.5046973286496201, 0.6374831832486586]), (0.7, 0, 0.8, 8, 1)\n",
      "([0.9653334336707178, 0.9658699472759227, 0.9387469253894507, 0.9597517896532461], [0.6698369962833982, 0.5420946361162321, 0.5044522506331182, 0.633302276707348]), (0.7, 0, 0.8, 8, 0.8)\n",
      "([0.9582094793743964, 0.9588876309085763, 0.9258677234216999, 0.951419562973261], [0.6719440461209798, 0.5459242761692651, 0.5006126950412548, 0.6340956772059899]), (0.7, 0, 0.8, 8, 0.6)\n",
      "([0.7812143331953695, 0.732486830725686, 0.6365468707297076, 0.7508424517940339], [0.687600596997454, 0.5719801434087148, 0.5082918062249816, 0.6479899523600968]), (0.7, 0, 0.6, 5, 1)\n",
      "([0.780098079793305, 0.7297889832830913, 0.6368201694452036, 0.7500179247511398], [0.6820110620116473, 0.5635808748728383, 0.49783514418756636, 0.6413252328324973]), (0.7, 0, 0.6, 5, 0.8)\n",
      "([0.7761222109342665, 0.7258562050146325, 0.6270155780267833, 0.7448183579901848], [0.685698399227415, 0.5701729780271155, 0.4981619148762356, 0.64427019592421]), (0.7, 0, 0.6, 5, 0.6)\n",
      "([0.8245224567608583, 0.7883098750990528, 0.7136854331784641, 0.8012530299129206], [0.6728512481343829, 0.5470327723649248, 0.5045339433052856, 0.6356687044387804]), (0.7, 0, 0.6, 6, 1)\n",
      "([0.8211486122085513, 0.7861827055055666, 0.7044274391910358, 0.7966438509893229], [0.6717391940534371, 0.5454142274259358, 0.5023282411567682, 0.6343150553709058]), (0.7, 0, 0.6, 6, 0.8)\n",
      "([0.8178625628676425, 0.7812094867688554, 0.6999180103853512, 0.7931009620289188], [0.6715343419858945, 0.5457984328559848, 0.49505759333387794, 0.6325493165027802]), (0.7, 0, 0.6, 6, 0.6)\n",
      "([0.879105993904504, 0.8578615435091684, 0.8039081716315933, 0.8633187581240073], [0.66225746978432, 0.5302820557189826, 0.5006943877134221, 0.6265669840983891]), (0.7, 0, 0.6, 7, 1)\n",
      "([0.8748416550651565, 0.8518694145540763, 0.7978272752118065, 0.858673046234691], [0.6607064469872114, 0.5279095850228626, 0.49987746099174907, 0.6251781285806899]), (0.7, 0, 0.6, 7, 0.8)\n",
      "([0.8698749545346227, 0.8461369381250687, 0.7890475539764963, 0.8529058297439508], [0.6641889321354365, 0.5327294479576141, 0.5092721182909893, 0.6299666565007158]), (0.7, 0, 0.6, 7, 0.6)\n",
      "([0.9447642698573955, 0.9378785744471052, 0.9098114238863078, 0.937426174100549], [0.6587457200550174, 0.5249312242090785, 0.49881545625357404, 0.6234159360611236]), (0.7, 0, 0.6, 8, 1)\n",
      "([0.9383803037714314, 0.9302950008832361, 0.8995627220552064, 0.9302308348578415], [0.6542389745690791, 0.518078424715668, 0.49865207090923946, 0.6198686711135345]), (0.7, 0, 0.6, 8, 0.8)\n",
      "([0.9321593859352071, 0.9240803269948463, 0.8881866630226838, 0.9229276326270993], [0.6542975037312341, 0.5184450956731598, 0.49138142308634913, 0.6183081306038221]), (0.7, 0, 0.6, 8, 0.6)\n",
      "([0.757007939195545, 0.6908452876754589, 0.6120183110139382, 0.7265684214456519], [0.6743730063504141, 0.5494320198793042, 0.5057593333877951, 0.6371249927312893]), (0.7, 0, 0.4, 5, 1)\n",
      "([0.7565940474846672, 0.6901723406716274, 0.6115400382618201, 0.7261410134034878], [0.6792016622282052, 0.5575038215987771, 0.5064945674373009, 0.6410493813018698]), (0.7, 0, 0.4, 5, 0.8)\n",
      "([0.7528941064328806, 0.6874265569917744, 0.5995490571194315, 0.7207004287955507], [0.6800503350794533, 0.5594221333817917, 0.5029817825341066, 0.6409345757175777]), (0.7, 0, 0.4, 5, 0.6)\n",
      "([0.7851651177082941, 0.7256476009960233, 0.6670196775075157, 0.7603613419543761], [0.6637792280003512, 0.5327640292784942, 0.4994689976309125, 0.6274818768364321]), (0.7, 0, 0.4, 6, 1)\n",
      "([0.7836600569414657, 0.7232517547443087, 0.6653115605356655, 0.7588136510143794], [0.6654765737028474, 0.5352664576802508, 0.5021648558124336, 0.6293998013672292]), (0.7, 0, 0.4, 6, 0.8)\n",
      "([0.7797343567746547, 0.7201127819548873, 0.6543796119158239, 0.7534170399498658], [0.6657984840947002, 0.5357609547870024, 0.5024099338289355, 0.6297047389162919]), (0.7, 0, 0.4, 6, 0.6)\n",
      "([0.8262031079504835, 0.7781787995813333, 0.7365742006012572, 0.8073861708331401], [0.6533317725556759, 0.5163778091052326, 0.5087002695858182, 0.6213815985411991]), (0.7, 0, 0.4, 7, 1)\n",
      "([0.8228041790520626, 0.7746463547334059, 0.7296050833561082, 0.8032377068616685], [0.656141172339118, 0.5207400523781364, 0.5035536312392779, 0.622433450366561]), (0.7, 0, 0.4, 7, 0.8)\n",
      "([0.8194554188458693, 0.7708750591748298, 0.7231825635419513, 0.799243633184995], [0.6571654326768313, 0.5218438538205981, 0.5132750592271873, 0.625378979681993]), (0.7, 0, 0.4, 7, 0.6)\n",
      "([0.8690095445936963, 0.8324622121768611, 0.8052746652090735, 0.855628870288597], [0.6483860583535747, 0.5092079530638852, 0.5104975083734989, 0.6179254527731607]), (0.7, 0, 0.4, 8, 1)\n",
      "([0.86761736338438, 0.8300708919691038, 0.8040106586499044, 0.8542635984147081], [0.6455181294079775, 0.5053006460162333, 0.49840699289273754, 0.613020185912853]), (0.7, 0, 0.4, 8, 0.8)\n",
      "([0.8659617965408687, 0.8277430959686806, 0.8017559442470621, 0.8524822448994481], [0.644757250299962, 0.5041463414634146, 0.5065762601094682, 0.6142320425034344]), (0.7, 0, 0.4, 8, 0.6)\n",
      "([0.8052827632915679, 0.7776610785699859, 0.6576591965017764, 0.7742902692907423], [0.6947996839425243, 0.5871656725033674, 0.4985703782370721, 0.6514511717906747]), (0.7, 1, 1, 5, 1)\n",
      "([0.8020343404698298, 0.7719574159206387, 0.6539696638425799, 0.7709492386673611], [0.6959410026045477, 0.5884038590123221, 0.5032268605506086, 0.6533690162306167]), (0.7, 1, 1, 5, 0.8)\n",
      "([0.7991120141475712, 0.7708086462632289, 0.6444383711396556, 0.7666394079285744], [0.6973164379151913, 0.5908481715489182, 0.5042071726166163, 0.6546571658796715]), (0.7, 1, 1, 5, 0.6)\n",
      "([0.8594649508973925, 0.8474556713719759, 0.7526988248155234, 0.8370501793670753], [0.6830353223493606, 0.5657771972382907, 0.49538436402254715, 0.6415818308940825]), (0.7, 1, 1, 6, 1)\n",
      "([0.85510027467359, 0.8424755498859638, 0.7445340256900792, 0.831887694983013], [0.6881566240379269, 0.5741139062938371, 0.5015113144350952, 0.6469252878605024]), (0.7, 1, 1, 6, 0.8)\n",
      "([0.8495942607016091, 0.8369734789391575, 0.7331238043181197, 0.8251421356159259], [0.6875420678352989, 0.5733033370828646, 0.49963238297524715, 0.6460314217657813]), (0.7, 1, 1, 6, 0.6)\n",
      "([0.9216741292596355, 0.923026049895286, 0.8582262913364307, 0.9083537172213575], [0.67890901641743, 0.5581203627370157, 0.49775345151539907, 0.6388904056482605]), (0.7, 1, 1, 7, 1)\n",
      "([0.914186451944664, 0.9143268804492389, 0.845483738726428, 0.899762817063327], [0.6780896081472594, 0.5563425043130845, 0.5005310023690875, 0.6388655923838142]), (0.7, 1, 1, 7, 0.8)\n",
      "([0.9110007399882104, 0.9097258147956544, 0.8410426345996174, 0.8963135446527091], [0.680986801673934, 0.5616488774383511, 0.49865207090923946, 0.6407077044012681]), (0.7, 1, 1, 7, 0.6)\n",
      "([0.9737617739649572, 0.9763406940063092, 0.9515919650177644, 0.9691073838446201], [0.6752509437827398, 0.5517740767559739, 0.497998529531901, 0.6360945680035246]), (0.7, 1, 1, 8, 1)\n",
      "([0.9721814601597872, 0.9747981747981748, 0.948756490844493, 0.9672635582504833], [0.6740510959585614, 0.5503239346655717, 0.4926885058410261, 0.6339867517805222]), (0.7, 1, 1, 8, 0.8)\n",
      "([0.9669764583411722, 0.9704376081658602, 0.9386444383711396, 0.9610283568418848], [0.6744315355125692, 0.5509682133723054, 0.49277019851319337, 0.6343011959278233]), (0.7, 1, 1, 8, 0.6)\n",
      "([0.7964656156325645, 0.7613818531580635, 0.6490161246242143, 0.7655096675757866], [0.6923414591320125, 0.5811877466641608, 0.5052691773547913, 0.651015801627692]), (0.7, 1, 0.8, 5, 1)\n",
      "([0.7930917710802574, 0.7556124694865741, 0.6450532932495218, 0.762012169524541], [0.6935120423751134, 0.5829579579579579, 0.5074748795033086, 0.6524150503307696]), (0.7, 1, 0.8, 5, 0.8)\n",
      "([0.7915867103134289, 0.7557082238836128, 0.6388357474719869, 0.7595177568093797], [0.6919610195780047, 0.5813181602655287, 0.5007760803855894, 0.6497268454823524]), (0.7, 1, 0.8, 5, 0.6)\n",
      "([0.8470858260902284, 0.8290690505548706, 0.735036895326592, 0.8235619681452715], [0.6789968101606626, 0.557619133901069, 0.5028183971897721, 0.6400776892469608]), (0.7, 1, 0.8, 6, 1)\n",
      "([0.8452922953430911, 0.8236328199640769, 0.7362667395463242, 0.8224031729797259], [0.6835328202276785, 0.5650113895216401, 0.5065762601094682, 0.644441800825368]), (0.7, 1, 0.8, 6, 0.8)\n",
      "([0.838920871430184, 0.8162220425761251, 0.7243440830828095, 0.81486630817372], [0.6808990079307015, 0.5614260773683727, 0.4991422269422433, 0.640747584059357]), (0.7, 1, 0.8, 6, 0.6)\n",
      "([0.9058082803426522, 0.8986006300827899, 0.838002186389724, 0.8915728841538584], [0.671563606566972, 0.5445163547315025, 0.5086185769136509, 0.635567838388426]), (0.7, 1, 0.8, 7, 1)\n",
      "([0.9044662678255635, 0.8965100523675248, 0.8363282317573107, 0.8901611828042781], [0.6756313833367475, 0.551656397892669, 0.5046973286496201, 0.6378707801478835]), (0.7, 1, 0.8, 7, 0.8)\n",
      "([0.9002520976784437, 0.8917637546400088, 0.8289150040994807, 0.8852753938034413], [0.6731146293640806, 0.5477230193387399, 0.5020831631402664, 0.6353325072427278]), (0.7, 1, 0.8, 7, 0.6)\n",
      "([0.9635022764044098, 0.9624912280701754, 0.9371071330964744, 0.9579608080710578], [0.6717391940534371, 0.5452456698480028, 0.5040437872722817, 0.6346940322590319]), (0.7, 1, 0.8, 8, 1)\n",
      "([0.9592504797381194, 0.9589108736288929, 0.9288056846132823, 0.9528588164638777], [0.6725586023236078, 0.5463763004761065, 0.506249489420799, 0.635819683150892]), (0.7, 1, 0.8, 8, 0.8)\n",
      "([0.9578206720096324, 0.9585501398180596, 0.9251161519540858, 0.9509545959239305], [0.6693102338240028, 0.5415379182484329, 0.5011028510742587, 0.6321519727327517]), (0.7, 1, 0.8, 8, 0.6)\n",
      "([0.7789441998720699, 0.7293167946446151, 0.6327206887127631, 0.7482456373665483], [0.684352228497849, 0.5666391865897225, 0.5053508700269586, 0.6448094979409758]), (0.7, 1, 0.6, 5, 1)\n",
      "([0.7794208024482322, 0.731193858573068, 0.6312517081169718, 0.7483137789083641], [0.6852886950923297, 0.5693240093240093, 0.49881545625357404, 0.644095370625647]), (0.7, 1, 0.6, 5, 0.8)\n",
      "([0.7776648982202656, 0.7273980697262162, 0.6308075977042907, 0.7468332762496365], [0.6873957449299113, 0.5731444121234869, 0.4989788415979087, 0.6457730505299164]), (0.7, 1, 0.6, 5, 0.6)\n",
      "([0.824045854184696, 0.7888792025167721, 0.7110207707023777, 0.800317060077204], [0.6725878669046853, 0.5460026212319791, 0.5104975083734989, 0.6367809019295675]), (0.7, 1, 0.6, 6, 1)\n",
      "([0.8223024921297865, 0.7869518960407326, 0.7075362120798032, 0.7982081464687647], [0.6735828626613211, 0.5479150136648153, 0.5077199575198105, 0.6369425140996224]), (0.7, 1, 0.6, 6, 0.8)\n",
      "([0.8172354542147973, 0.7804273178176269, 0.6987906531839301, 0.7923688298322196], [0.6787919580931199, 0.5562972852692479, 0.5105792010456662, 0.641632509779559]), (0.7, 1, 0.6, 6, 0.6)\n",
      "([0.8833577905707943, 0.8628897448942511, 0.8111847499316753, 0.8682055856913773], [0.6634573176084985, 0.5320640415404587, 0.5022465484846009, 0.6278446604712107]), (0.7, 1, 0.6, 7, 1)\n",
      "([0.8802473316526821, 0.8581233205025782, 0.8072902432358567, 0.8649305216456737], [0.6637792280003512, 0.5323802962452635, 0.5050240993382894, 0.6287090400932213]), (0.7, 1, 0.6, 7, 0.8)\n",
      "([0.8715932322434184, 0.8487613603048959, 0.7912339437004646, 0.8547223841651811], [0.6672324485674987, 0.5375647668393783, 0.5085368842414836, 0.6321754188649278]), (0.7, 1, 0.6, 7, 0.6)\n",
      "([0.9385308098481143, 0.9313298644295778, 0.8988453129270293, 0.9301991284506725], [0.6603260074332036, 0.52728524703047, 0.5004493096969201, 0.6250080565812463]), (0.7, 1, 0.6, 8, 1)\n",
      "([0.9351193387766364, 0.9258526241385404, 0.8949508062312107, 0.926686247563573], [0.6600626262035059, 0.5264987704570508, 0.5072298014868066, 0.6263007192568553]), (0.7, 1, 0.6, 8, 0.8)\n",
      "([0.9275814927694372, 0.9168381465976017, 0.882823175731074, 0.9181848096891959], [0.6573117555822189, 0.5229492609560031, 0.4942406666122049, 0.6212881399636493]), (0.7, 1, 0.6, 8, 0.6)\n",
      "([0.7567947222535777, 0.6912328236887942, 0.610071057666029, 0.725991156174024], [0.6764507916069181, 0.5531247198063302, 0.5039620946001143, 0.6383467563743846]), (0.7, 1, 0.4, 5, 1)\n",
      "([0.7553523723520337, 0.6892488954344624, 0.6075430445476906, 0.72432087917747], [0.6749582979719645, 0.5505167498218104, 0.5047790213217874, 0.6373644308615322]), (0.7, 1, 0.4, 5, 0.8)\n",
      "([0.753107323374848, 0.6868301048446818, 0.6020087455588958, 0.7213852760870838], [0.6770946123906236, 0.5549085615503594, 0.4982436075484029, 0.6375850960678632]), (0.7, 1, 0.4, 5, 0.6)\n",
      "([0.7844878403632213, 0.7252804591703627, 0.6647991254441105, 0.7593600653083135], [0.6643645196219016, 0.5334720776968436, 0.5025733191732702, 0.6286236408907846]), (0.7, 1, 0.4, 6, 1)\n",
      "([0.7847261416513025, 0.7257439033484973, 0.6649016124624214, 0.7595698533783994], [0.6639255509057388, 0.53271108806499, 0.5035536312392779, 0.6284982018485491]), (0.7, 1, 0.4, 6, 0.8)\n",
      "([0.7767869461062824, 0.7170418006430869, 0.6475471440284231, 0.7496539897791296], [0.666793479851336, 0.5374901341752171, 0.5006943877134221, 0.6301009558266153]), (0.7, 1, 0.4, 6, 0.6)\n",
      "([0.8249990593370208, 0.7763865333958792, 0.735036895326592, 0.806112157407841], [0.6511369289748618, 0.5133645172068159, 0.5020831631402664, 0.618209844224032]), (0.7, 1, 0.4, 7, 1)\n",
      "([0.824698047183655, 0.7756153818430821, 0.735207707023777, 0.8059102012397468], [0.6506686956776214, 0.5126730031682508, 0.5023282411567682, 0.6178991866978552]), (0.7, 1, 0.4, 7, 0.8)\n",
      "([0.817925273732927, 0.7665185506303963, 0.7248565181743646, 0.7983861655062553], [0.6516051622721021, 0.5140656396517079, 0.5015930071072625, 0.6184663621947621]), (0.7, 1, 0.4, 7, 0.6)\n",
      "([0.8736626907978077, 0.8379748618103722, 0.8130978409401476, 0.8609475411323937], [0.6386116882736823, 0.4955961507095091, 0.4964463687607222, 0.607206312515336]), (0.7, 1, 0.4, 8, 1)\n",
      "([0.8681943033449976, 0.8306022482996793, 0.8052063405301995, 0.8549704387404956], [0.6467472418132334, 0.5069626474442989, 0.5055959480434605, 0.6155658718785475]), (0.7, 1, 0.4, 8, 0.8)\n",
      "([0.8593019026476527, 0.8187725121830638, 0.7920880021863898, 0.8451908331746869], [0.6461326856106054, 0.5061221135672611, 0.5031451678784413, 0.614545680154451]), (0.7, 1, 0.4, 8, 0.6)\n"
     ]
    }
   ],
   "source": [
    "for key in results:\n",
    "    print(f\"{results[key]}, {key}\")"
   ]
  },
  {
   "cell_type": "code",
   "execution_count": 19,
   "metadata": {},
   "outputs": [
    {
     "name": "stdout",
     "output_type": "stream",
     "text": [
      "0.42766113879585, (0.1, 0, 1, 5, 1)\n",
      "0.43052038232170575, (0.1, 0, 1, 5, 0.8)\n",
      "0.4319908504207173, (0.1, 0, 1, 5, 0.6)\n",
      "0.448165999509844, (0.1, 0, 1, 6, 1)\n",
      "0.44702230209950167, (0.1, 0, 1, 6, 0.8)\n",
      "0.44792092149334206, (0.1, 0, 1, 6, 0.6)\n",
      "0.4608283636957765, (0.1, 0, 1, 7, 1)\n",
      "0.45927620292459764, (0.1, 0, 1, 7, 0.8)\n",
      "0.4570705007760804, (0.1, 0, 1, 7, 0.6)\n",
      "0.4730005718487052, (0.1, 0, 1, 8, 1)\n",
      "0.46630177273098605, (0.1, 0, 1, 8, 0.8)\n",
      "0.46646515807532063, (0.1, 0, 1, 8, 0.6)\n",
      "0.4341148598970672, (0.1, 0, 0.8, 5, 1)\n",
      "0.4312556163712115, (0.1, 0, 0.8, 5, 0.8)\n",
      "0.4300302262887019, (0.1, 0, 0.8, 5, 0.6)\n",
      "0.452168940446042, (0.1, 0, 0.8, 6, 1)\n",
      "0.4511886283800343, (0.1, 0, 0.8, 6, 0.8)\n",
      "0.4510252430356997, (0.1, 0, 0.8, 6, 0.6)\n",
      "0.46393268523813413, (0.1, 0, 0.8, 7, 1)\n",
      "0.46197206110611877, (0.1, 0, 0.8, 7, 0.8)\n",
      "0.4624622171391226, (0.1, 0, 0.8, 7, 0.6)\n",
      "0.474552732619884, (0.1, 0, 0.8, 8, 1)\n",
      "0.47038640633935136, (0.1, 0, 0.8, 8, 0.8)\n",
      "0.4681807041908341, (0.1, 0, 0.8, 8, 0.6)\n",
      "0.44056858099828444, (0.1, 0, 0.6, 5, 1)\n",
      "0.4386896495384364, (0.1, 0, 0.6, 5, 0.8)\n",
      "0.43648394738991914, (0.1, 0, 0.6, 5, 0.6)\n",
      "0.46017482231843804, (0.1, 0, 0.6, 6, 1)\n",
      "0.4574789641369169, (0.1, 0, 0.6, 6, 0.8)\n",
      "0.45698880810391307, (0.1, 0, 0.6, 6, 0.6)\n",
      "0.46548484600931295, (0.1, 0, 0.6, 7, 1)\n",
      "0.47267380116003593, (0.1, 0, 0.6, 7, 0.8)\n",
      "0.46907932358467447, (0.1, 0, 0.6, 7, 0.6)\n",
      "0.4769218201127359, (0.1, 0, 0.6, 8, 1)\n",
      "0.479617678294257, (0.1, 0, 0.6, 8, 0.8)\n",
      "0.4805162976880974, (0.1, 0, 0.6, 8, 0.6)\n",
      "0.4471856874438363, (0.1, 0, 0.4, 5, 1)\n",
      "0.4397516542766114, (0.1, 0, 0.4, 5, 0.8)\n",
      "0.4413038150477902, (0.1, 0, 0.4, 5, 0.6)\n",
      "0.46327914386079566, (0.1, 0, 0.4, 6, 1)\n",
      "0.45886773956376115, (0.1, 0, 0.4, 6, 0.8)\n",
      "0.46148190507311493, (0.1, 0, 0.4, 6, 0.6)\n",
      "0.4731639571930398, (0.1, 0, 0.4, 7, 1)\n",
      "0.46760885548566294, (0.1, 0, 0.4, 7, 0.8)\n",
      "0.4695694796176783, (0.1, 0, 0.4, 7, 0.6)\n",
      "0.48141491708193773, (0.1, 0, 0.4, 8, 1)\n",
      "0.481741687770607, (0.1, 0, 0.4, 8, 0.8)\n",
      "0.4771668981292378, (0.1, 0, 0.4, 8, 0.6)\n",
      "0.42798790948451926, (0.1, 1, 1, 5, 1)\n",
      "0.4298668409443673, (0.1, 1, 1, 5, 0.8)\n",
      "0.42774283146801734, (0.1, 1, 1, 5, 0.6)\n",
      "0.4462870680499959, (0.1, 1, 1, 6, 1)\n",
      "0.4462053753778286, (0.1, 1, 1, 6, 0.8)\n",
      "0.45143370639653624, (0.1, 1, 1, 6, 0.6)\n",
      "0.45984805162976883, (0.1, 1, 1, 7, 1)\n",
      "0.4568254227595785, (0.1, 1, 1, 7, 0.8)\n",
      "0.4600114369741034, (0.1, 1, 1, 7, 0.6)\n",
      "0.4697328649620129, (0.1, 1, 1, 8, 1)\n",
      "0.46425945592680334, (0.1, 1, 1, 8, 0.8)\n",
      "0.46801731884649944, (0.1, 1, 1, 8, 0.6)\n",
      "0.4338697818805653, (0.1, 1, 0.8, 5, 1)\n",
      "0.4349317866187403, (0.1, 1, 0.8, 5, 0.8)\n",
      "0.4310105383547096, (0.1, 1, 0.8, 5, 0.6)\n",
      "0.444979985295319, (0.1, 1, 0.8, 6, 1)\n",
      "0.4484927701985132, (0.1, 1, 0.8, 6, 0.8)\n",
      "0.4547831059553958, (0.1, 1, 0.8, 6, 0.6)\n",
      "0.463360836532963, (0.1, 1, 0.8, 7, 1)\n",
      "0.4646679192876399, (0.1, 1, 0.8, 7, 0.8)\n",
      "0.46017482231843804, (0.1, 1, 0.8, 7, 0.6)\n",
      "0.47014132832284944, (0.1, 1, 0.8, 8, 1)\n",
      "0.4761048933910628, (0.1, 1, 0.8, 8, 0.8)\n",
      "0.4718568744383629, (0.1, 1, 0.8, 8, 0.6)\n",
      "0.4400784249652806, (0.1, 1, 0.6, 5, 1)\n",
      "0.4416305857364594, (0.1, 1, 0.6, 5, 0.8)\n",
      "0.4364022547177518, (0.1, 1, 0.6, 5, 0.6)\n",
      "0.45984805162976883, (0.1, 1, 0.6, 6, 1)\n",
      "0.46009312964627075, (0.1, 1, 0.6, 6, 0.8)\n",
      "0.4547014132832285, (0.1, 1, 0.6, 6, 0.6)\n",
      "0.46646515807532063, (0.1, 1, 0.6, 7, 1)\n",
      "0.46826239686300136, (0.1, 1, 0.6, 7, 0.8)\n",
      "0.46883424556817255, (0.1, 1, 0.6, 7, 0.6)\n",
      "0.4761865860632301, (0.1, 1, 0.6, 8, 1)\n",
      "0.474552732619884, (0.1, 1, 0.6, 8, 0.8)\n",
      "0.48002614165509355, (0.1, 1, 0.6, 8, 0.6)\n",
      "0.44048688832611715, (0.1, 1, 0.4, 5, 1)\n",
      "0.4447349072788171, (0.1, 1, 0.4, 5, 0.8)\n",
      "0.4396699616044441, (0.1, 1, 0.4, 5, 0.6)\n",
      "0.4584592762029246, (0.1, 1, 0.4, 6, 1)\n",
      "0.45805081284208804, (0.1, 1, 0.4, 6, 0.8)\n",
      "0.45829589085858996, (0.1, 1, 0.4, 6, 0.6)\n",
      "0.47169348909402825, (0.1, 1, 0.4, 7, 1)\n",
      "0.4686708602238379, (0.1, 1, 0.4, 7, 0.8)\n",
      "0.46646515807532063, (0.1, 1, 0.4, 7, 0.6)\n",
      "0.48353892655828773, (0.1, 1, 0.4, 8, 1)\n",
      "0.4721019524548648, (0.1, 1, 0.4, 8, 0.8)\n",
      "0.479617678294257, (0.1, 1, 0.4, 8, 0.6)\n",
      "0.4823952291479454, (0.3, 0, 1, 5, 1)\n",
      "0.47920921493342045, (0.3, 0, 1, 5, 0.8)\n",
      "0.4820684584592762, (0.3, 0, 1, 5, 0.6)\n",
      "0.49497590066171065, (0.3, 0, 1, 6, 1)\n",
      "0.4854995506903031, (0.3, 0, 1, 6, 0.8)\n",
      "0.4858263213789723, (0.3, 0, 1, 6, 0.6)\n",
      "0.4905644963646761, (0.3, 0, 1, 7, 1)\n",
      "0.49252512049669145, (0.3, 0, 1, 7, 0.8)\n",
      "0.49285189118536066, (0.3, 0, 1, 7, 0.6)\n",
      "0.49505759333387794, (0.3, 0, 1, 8, 1)\n",
      "0.49620129074422026, (0.3, 0, 1, 8, 0.8)\n",
      "0.48778694551098767, (0.3, 0, 1, 8, 0.6)\n",
      "0.4845192386242954, (0.3, 0, 0.8, 5, 1)\n",
      "0.4798627563107589, (0.3, 0, 0.8, 5, 0.8)\n",
      "0.4832938485417858, (0.3, 0, 0.8, 5, 0.6)\n",
      "0.49015603300383953, (0.3, 0, 0.8, 6, 1)\n",
      "0.4932603545461972, (0.3, 0, 0.8, 6, 0.8)\n",
      "0.4917081937750184, (0.3, 0, 0.8, 6, 0.6)\n",
      "0.49464912997304145, (0.3, 0, 0.8, 7, 1)\n",
      "0.49350543256269913, (0.3, 0, 0.8, 7, 0.8)\n",
      "0.500939465729924, (0.3, 0, 0.8, 7, 0.6)\n",
      "0.4943223592843722, (0.3, 0, 0.8, 8, 1)\n",
      "0.4967731394493914, (0.3, 0, 0.8, 8, 0.8)\n",
      "0.497998529531901, (0.3, 0, 0.8, 8, 0.6)\n",
      "0.485744628706805, (0.3, 0, 0.6, 5, 1)\n",
      "0.4870517114614819, (0.3, 0, 0.6, 5, 0.8)\n",
      "0.4852544726738012, (0.3, 0, 0.6, 5, 0.6)\n",
      "0.5024099338289355, (0.3, 0, 0.6, 6, 1)\n",
      "0.4917081937750184, (0.3, 0, 0.6, 6, 0.8)\n",
      "0.4982436075484029, (0.3, 0, 0.6, 6, 0.6)\n",
      "0.49848868556490483, (0.3, 0, 0.6, 7, 1)\n",
      "0.5024099338289355, (0.3, 0, 0.6, 7, 0.8)\n",
      "0.4943223592843722, (0.3, 0, 0.6, 7, 0.6)\n",
      "0.4970999101380606, (0.3, 0, 0.6, 8, 1)\n",
      "0.5006943877134221, (0.3, 0, 0.6, 8, 0.8)\n",
      "0.4983253002205702, (0.3, 0, 0.6, 8, 0.6)\n",
      "0.4954660566947145, (0.3, 0, 0.4, 5, 1)\n",
      "0.4893391062821665, (0.3, 0, 0.4, 5, 0.8)\n",
      "0.4896658769708357, (0.3, 0, 0.4, 5, 0.6)\n",
      "0.4954660566947145, (0.3, 0, 0.4, 6, 1)\n",
      "0.49129973041418185, (0.3, 0, 0.4, 6, 0.8)\n",
      "0.4920349644636876, (0.3, 0, 0.4, 6, 0.6)\n",
      "0.4985703782370721, (0.3, 0, 0.4, 7, 1)\n",
      "0.5020014704680991, (0.3, 0, 0.4, 7, 0.8)\n",
      "0.5027367045176048, (0.3, 0, 0.4, 7, 0.6)\n",
      "0.49366881790703376, (0.3, 0, 0.4, 8, 1)\n",
      "0.5007760803855894, (0.3, 0, 0.4, 8, 0.8)\n",
      "0.49277019851319337, (0.3, 0, 0.4, 8, 0.6)\n",
      "0.4846009312964627, (0.3, 1, 1, 5, 1)\n",
      "0.48476431664079733, (0.3, 1, 1, 5, 0.8)\n",
      "0.4830487705252839, (0.3, 1, 1, 5, 0.6)\n",
      "0.4895841842986684, (0.3, 1, 1, 6, 1)\n",
      "0.48746017482231846, (0.3, 1, 1, 6, 0.8)\n",
      "0.48721509680581654, (0.3, 1, 1, 6, 0.6)\n",
      "0.48786863818315496, (0.3, 1, 1, 7, 1)\n",
      "0.49040111102034145, (0.3, 1, 1, 7, 0.8)\n",
      "0.48762356016665304, (0.3, 1, 1, 7, 0.6)\n",
      "0.490809574381178, (0.3, 1, 1, 8, 1)\n",
      "0.4967731394493914, (0.3, 1, 1, 8, 0.8)\n",
      "0.49620129074422026, (0.3, 1, 1, 8, 0.6)\n",
      "0.4793726002777551, (0.3, 1, 0.8, 5, 1)\n",
      "0.4895024916265011, (0.3, 1, 0.8, 5, 0.8)\n",
      "0.48541785801813575, (0.3, 1, 0.8, 5, 0.6)\n",
      "0.49031941834817416, (0.3, 1, 0.8, 6, 1)\n",
      "0.4933420472183645, (0.3, 1, 0.8, 6, 0.8)\n",
      "0.49154480843068377, (0.3, 1, 0.8, 6, 0.6)\n",
      "0.48631647741197614, (0.3, 1, 0.8, 7, 1)\n",
      "0.4983253002205702, (0.3, 1, 0.8, 7, 0.8)\n",
      "0.49342373989053184, (0.3, 1, 0.8, 7, 0.6)\n",
      "0.4966914467772241, (0.3, 1, 0.8, 8, 1)\n",
      "0.495874520055551, (0.3, 1, 0.8, 8, 0.8)\n",
      "0.49775345151539907, (0.3, 1, 0.8, 8, 0.6)\n",
      "0.4882771015439915, (0.3, 1, 0.6, 5, 1)\n",
      "0.48680663344498, (0.3, 1, 0.6, 5, 0.8)\n",
      "0.4821501511314435, (0.3, 1, 0.6, 5, 0.6)\n",
      "0.49906053427007596, (0.3, 1, 0.6, 6, 1)\n",
      "0.4989788415979087, (0.3, 1, 0.6, 6, 0.8)\n",
      "0.4860713993954742, (0.3, 1, 0.6, 6, 0.6)\n",
      "0.4935871252348664, (0.3, 1, 0.6, 7, 1)\n",
      "0.4993873049587452, (0.3, 1, 0.6, 7, 0.8)\n",
      "0.4966914467772241, (0.3, 1, 0.6, 7, 0.6)\n",
      "0.4976717588432318, (0.3, 1, 0.6, 8, 1)\n",
      "0.4992239196144106, (0.3, 1, 0.6, 8, 0.8)\n",
      "0.5035536312392779, (0.3, 1, 0.6, 8, 0.6)\n",
      "0.4933420472183645, (0.3, 1, 0.4, 5, 1)\n",
      "0.4880320235274896, (0.3, 1, 0.4, 5, 0.8)\n",
      "0.4868883261171473, (0.3, 1, 0.4, 5, 0.6)\n",
      "0.4982436075484029, (0.3, 1, 0.4, 6, 1)\n",
      "0.4970999101380606, (0.3, 1, 0.4, 6, 0.8)\n",
      "0.5018380851237644, (0.3, 1, 0.4, 6, 0.6)\n",
      "0.49350543256269913, (0.3, 1, 0.4, 7, 1)\n",
      "0.4982436075484029, (0.3, 1, 0.4, 7, 0.8)\n",
      "0.49742668082672986, (0.3, 1, 0.4, 7, 0.6)\n",
      "0.49848868556490483, (0.3, 1, 0.4, 8, 1)\n",
      "0.4979168368597337, (0.3, 1, 0.4, 8, 0.8)\n",
      "0.4955477493668818, (0.3, 1, 0.4, 8, 0.6)\n",
      "0.4902377256760069, (0.5, 0, 1, 5, 1)\n",
      "0.493995588595703, (0.5, 0, 1, 5, 0.8)\n",
      "0.4905644963646761, (0.5, 0, 1, 5, 0.6)\n",
      "0.4931786618740299, (0.5, 0, 1, 6, 1)\n",
      "0.4964463687607222, (0.5, 0, 1, 6, 0.8)\n",
      "0.49342373989053184, (0.5, 0, 1, 6, 0.6)\n",
      "0.49750837349889715, (0.5, 0, 1, 7, 1)\n",
      "0.49742668082672986, (0.5, 0, 1, 7, 0.8)\n",
      "0.49383220325136834, (0.5, 0, 1, 7, 0.6)\n",
      "0.49228004248018953, (0.5, 0, 1, 8, 1)\n",
      "0.49252512049669145, (0.5, 0, 1, 8, 0.8)\n",
      "0.49162650110285105, (0.5, 0, 1, 8, 0.6)\n",
      "0.49530267135037986, (0.5, 0, 0.8, 5, 1)\n",
      "0.49995915366391636, (0.5, 0, 0.8, 5, 0.8)\n",
      "0.4948942079895433, (0.5, 0, 0.8, 5, 0.6)\n",
      "0.5000408463360837, (0.5, 0, 0.8, 6, 1)\n",
      "0.49971407564741444, (0.5, 0, 0.8, 6, 0.8)\n",
      "0.5024916265011029, (0.5, 0, 0.8, 6, 0.6)\n",
      "0.49538436402254715, (0.5, 0, 0.8, 7, 1)\n",
      "0.49636467608855483, (0.5, 0, 0.8, 7, 0.8)\n",
      "0.49513928600604523, (0.5, 0, 0.8, 7, 0.6)\n",
      "0.4989788415979087, (0.5, 0, 0.8, 8, 1)\n",
      "0.4980802222040683, (0.5, 0, 0.8, 8, 0.8)\n",
      "0.49530267135037986, (0.5, 0, 0.8, 8, 0.6)\n",
      "0.504125479944449, (0.5, 0, 0.6, 5, 1)\n",
      "0.5042888652887836, (0.5, 0, 0.6, 5, 0.8)\n",
      "0.4954660566947145, (0.5, 0, 0.6, 5, 0.6)\n",
      "0.5033085532227759, (0.5, 0, 0.6, 6, 1)\n",
      "0.5019197777959317, (0.5, 0, 0.6, 6, 0.8)\n",
      "0.5063311820929662, (0.5, 0, 0.6, 6, 0.6)\n",
      "0.4970182174658933, (0.5, 0, 0.6, 7, 1)\n",
      "0.501184543746426, (0.5, 0, 0.6, 7, 0.8)\n",
      "0.5023282411567682, (0.5, 0, 0.6, 7, 0.6)\n",
      "0.5007760803855894, (0.5, 0, 0.6, 8, 1)\n",
      "0.5014296217629278, (0.5, 0, 0.6, 8, 0.8)\n",
      "0.5029817825341066, (0.5, 0, 0.6, 8, 0.6)\n",
      "0.5013479290907605, (0.5, 0, 0.4, 5, 1)\n",
      "0.4926885058410261, (0.5, 0, 0.4, 5, 0.8)\n",
      "0.49628298341638755, (0.5, 0, 0.4, 5, 0.6)\n",
      "0.4948942079895433, (0.5, 0, 0.4, 6, 1)\n",
      "0.5075565721754759, (0.5, 0, 0.4, 6, 0.8)\n",
      "0.5090270402744874, (0.5, 0, 0.4, 6, 0.6)\n",
      "0.5039620946001143, (0.5, 0, 0.4, 7, 1)\n",
      "0.496936524793726, (0.5, 0, 0.4, 7, 0.8)\n",
      "0.4973449881545625, (0.5, 0, 0.4, 7, 0.6)\n",
      "0.497998529531901, (0.5, 0, 0.4, 8, 1)\n",
      "0.5032268605506086, (0.5, 0, 0.4, 8, 0.8)\n",
      "0.5039620946001143, (0.5, 0, 0.4, 8, 0.6)\n",
      "0.4930152765296953, (0.5, 1, 1, 5, 1)\n",
      "0.49497590066171065, (0.5, 1, 1, 5, 0.8)\n",
      "0.4956294420390491, (0.5, 1, 1, 5, 0.6)\n",
      "0.4939138959235357, (0.5, 1, 1, 6, 1)\n",
      "0.4957111347112164, (0.5, 1, 1, 6, 0.8)\n",
      "0.49759006617106444, (0.5, 1, 1, 6, 0.6)\n",
      "0.4960379053998856, (0.5, 1, 1, 7, 1)\n",
      "0.493995588595703, (0.5, 1, 1, 7, 0.8)\n",
      "0.49995915366391636, (0.5, 1, 1, 7, 0.6)\n",
      "0.49595621272771834, (0.5, 1, 1, 8, 1)\n",
      "0.49244342782452416, (0.5, 1, 1, 8, 0.8)\n",
      "0.49775345151539907, (0.5, 1, 1, 8, 0.6)\n",
      "0.49497590066171065, (0.5, 1, 0.8, 5, 1)\n",
      "0.4932603545461972, (0.5, 1, 0.8, 5, 0.8)\n",
      "0.49244342782452416, (0.5, 1, 0.8, 5, 0.6)\n",
      "0.5033085532227759, (0.5, 1, 0.8, 6, 1)\n",
      "0.49742668082672986, (0.5, 1, 0.8, 6, 0.8)\n",
      "0.5002859243525856, (0.5, 1, 0.8, 6, 0.6)\n",
      "0.5002042316804183, (0.5, 1, 0.8, 7, 1)\n",
      "0.496936524793726, (0.5, 1, 0.8, 7, 0.8)\n",
      "0.5018380851237644, (0.5, 1, 0.8, 7, 0.6)\n",
      "0.4976717588432318, (0.5, 1, 0.8, 8, 1)\n",
      "0.5007760803855894, (0.5, 1, 0.8, 8, 0.8)\n",
      "0.491871579119353, (0.5, 1, 0.8, 8, 0.6)\n",
      "0.4995506903030798, (0.5, 1, 0.6, 5, 1)\n",
      "0.4997957683195817, (0.5, 1, 0.6, 5, 0.8)\n",
      "0.4970999101380606, (0.5, 1, 0.6, 5, 0.6)\n",
      "0.5109876644065028, (0.5, 1, 0.6, 6, 1)\n",
      "0.5057593333877951, (0.5, 1, 0.6, 6, 0.8)\n",
      "0.5006943877134221, (0.5, 1, 0.6, 6, 0.6)\n",
      "0.5068213381259701, (0.5, 1, 0.6, 7, 1)\n",
      "0.5050240993382894, (0.5, 1, 0.6, 7, 0.8)\n",
      "0.5034719385671105, (0.5, 1, 0.6, 7, 0.6)\n",
      "0.4995506903030798, (0.5, 1, 0.6, 8, 1)\n",
      "0.5039620946001143, (0.5, 1, 0.6, 8, 0.8)\n",
      "0.5032268605506086, (0.5, 1, 0.6, 8, 0.6)\n",
      "0.5012662364185932, (0.5, 1, 0.4, 5, 1)\n",
      "0.4955477493668818, (0.5, 1, 0.4, 5, 0.8)\n",
      "0.4926885058410261, (0.5, 1, 0.4, 5, 0.6)\n",
      "0.5019197777959317, (0.5, 1, 0.4, 6, 1)\n",
      "0.5000408463360837, (0.5, 1, 0.4, 6, 0.8)\n",
      "0.509190425618822, (0.5, 1, 0.4, 6, 0.6)\n",
      "0.5052691773547913, (0.5, 1, 0.4, 7, 1)\n",
      "0.5057593333877951, (0.5, 1, 0.4, 7, 0.8)\n",
      "0.5004493096969201, (0.5, 1, 0.4, 7, 0.6)\n",
      "0.5034719385671105, (0.5, 1, 0.4, 8, 1)\n",
      "0.4967731394493914, (0.5, 1, 0.4, 8, 0.8)\n",
      "0.5018380851237644, (0.5, 1, 0.4, 8, 0.6)\n",
      "0.5005310023690875, (0.7, 0, 1, 5, 1)\n",
      "0.4976717588432318, (0.7, 0, 1, 5, 0.8)\n",
      "0.5016746997794298, (0.7, 0, 1, 5, 0.6)\n",
      "0.5006126950412548, (0.7, 0, 1, 6, 1)\n",
      "0.5013479290907605, (0.7, 0, 1, 6, 0.8)\n",
      "0.4981619148762356, (0.7, 0, 1, 6, 0.6)\n",
      "0.4979168368597337, (0.7, 0, 1, 7, 1)\n",
      "0.5033085532227759, (0.7, 0, 1, 7, 0.8)\n",
      "0.501184543746426, (0.7, 0, 1, 7, 0.6)\n",
      "0.49595621272771834, (0.7, 0, 1, 8, 1)\n",
      "0.5013479290907605, (0.7, 0, 1, 8, 0.8)\n",
      "0.4992239196144106, (0.7, 0, 1, 8, 0.6)\n",
      "0.5006126950412548, (0.7, 0, 0.8, 5, 1)\n",
      "0.5020014704680991, (0.7, 0, 0.8, 5, 0.8)\n",
      "0.5031451678784413, (0.7, 0, 0.8, 5, 0.6)\n",
      "0.4994689976309125, (0.7, 0, 0.8, 6, 1)\n",
      "0.500122539008251, (0.7, 0, 0.8, 6, 0.8)\n",
      "0.5046156359774528, (0.7, 0, 0.8, 6, 0.6)\n",
      "0.500122539008251, (0.7, 0, 0.8, 7, 1)\n",
      "0.49995915366391636, (0.7, 0, 0.8, 7, 0.8)\n",
      "0.49742668082672986, (0.7, 0, 0.8, 7, 0.6)\n",
      "0.5046973286496201, (0.7, 0, 0.8, 8, 1)\n",
      "0.5044522506331182, (0.7, 0, 0.8, 8, 0.8)\n",
      "0.5006126950412548, (0.7, 0, 0.8, 8, 0.6)\n",
      "0.5082918062249816, (0.7, 0, 0.6, 5, 1)\n",
      "0.49783514418756636, (0.7, 0, 0.6, 5, 0.8)\n",
      "0.4981619148762356, (0.7, 0, 0.6, 5, 0.6)\n",
      "0.5045339433052856, (0.7, 0, 0.6, 6, 1)\n",
      "0.5023282411567682, (0.7, 0, 0.6, 6, 0.8)\n",
      "0.49505759333387794, (0.7, 0, 0.6, 6, 0.6)\n",
      "0.5006943877134221, (0.7, 0, 0.6, 7, 1)\n",
      "0.49987746099174907, (0.7, 0, 0.6, 7, 0.8)\n",
      "0.5092721182909893, (0.7, 0, 0.6, 7, 0.6)\n",
      "0.49881545625357404, (0.7, 0, 0.6, 8, 1)\n",
      "0.49865207090923946, (0.7, 0, 0.6, 8, 0.8)\n",
      "0.49138142308634913, (0.7, 0, 0.6, 8, 0.6)\n",
      "0.5057593333877951, (0.7, 0, 0.4, 5, 1)\n",
      "0.5064945674373009, (0.7, 0, 0.4, 5, 0.8)\n",
      "0.5029817825341066, (0.7, 0, 0.4, 5, 0.6)\n",
      "0.4994689976309125, (0.7, 0, 0.4, 6, 1)\n",
      "0.5021648558124336, (0.7, 0, 0.4, 6, 0.8)\n",
      "0.5024099338289355, (0.7, 0, 0.4, 6, 0.6)\n",
      "0.5087002695858182, (0.7, 0, 0.4, 7, 1)\n",
      "0.5035536312392779, (0.7, 0, 0.4, 7, 0.8)\n",
      "0.5132750592271873, (0.7, 0, 0.4, 7, 0.6)\n",
      "0.5104975083734989, (0.7, 0, 0.4, 8, 1)\n",
      "0.49840699289273754, (0.7, 0, 0.4, 8, 0.8)\n",
      "0.5065762601094682, (0.7, 0, 0.4, 8, 0.6)\n",
      "0.4985703782370721, (0.7, 1, 1, 5, 1)\n",
      "0.5032268605506086, (0.7, 1, 1, 5, 0.8)\n",
      "0.5042071726166163, (0.7, 1, 1, 5, 0.6)\n",
      "0.49538436402254715, (0.7, 1, 1, 6, 1)\n",
      "0.5015113144350952, (0.7, 1, 1, 6, 0.8)\n",
      "0.49963238297524715, (0.7, 1, 1, 6, 0.6)\n",
      "0.49775345151539907, (0.7, 1, 1, 7, 1)\n",
      "0.5005310023690875, (0.7, 1, 1, 7, 0.8)\n",
      "0.49865207090923946, (0.7, 1, 1, 7, 0.6)\n",
      "0.497998529531901, (0.7, 1, 1, 8, 1)\n",
      "0.4926885058410261, (0.7, 1, 1, 8, 0.8)\n",
      "0.49277019851319337, (0.7, 1, 1, 8, 0.6)\n",
      "0.5052691773547913, (0.7, 1, 0.8, 5, 1)\n",
      "0.5074748795033086, (0.7, 1, 0.8, 5, 0.8)\n",
      "0.5007760803855894, (0.7, 1, 0.8, 5, 0.6)\n",
      "0.5028183971897721, (0.7, 1, 0.8, 6, 1)\n",
      "0.5065762601094682, (0.7, 1, 0.8, 6, 0.8)\n",
      "0.4991422269422433, (0.7, 1, 0.8, 6, 0.6)\n",
      "0.5086185769136509, (0.7, 1, 0.8, 7, 1)\n",
      "0.5046973286496201, (0.7, 1, 0.8, 7, 0.8)\n",
      "0.5020831631402664, (0.7, 1, 0.8, 7, 0.6)\n",
      "0.5040437872722817, (0.7, 1, 0.8, 8, 1)\n",
      "0.506249489420799, (0.7, 1, 0.8, 8, 0.8)\n",
      "0.5011028510742587, (0.7, 1, 0.8, 8, 0.6)\n",
      "0.5053508700269586, (0.7, 1, 0.6, 5, 1)\n",
      "0.49881545625357404, (0.7, 1, 0.6, 5, 0.8)\n",
      "0.4989788415979087, (0.7, 1, 0.6, 5, 0.6)\n",
      "0.5104975083734989, (0.7, 1, 0.6, 6, 1)\n",
      "0.5077199575198105, (0.7, 1, 0.6, 6, 0.8)\n",
      "0.5105792010456662, (0.7, 1, 0.6, 6, 0.6)\n",
      "0.5022465484846009, (0.7, 1, 0.6, 7, 1)\n",
      "0.5050240993382894, (0.7, 1, 0.6, 7, 0.8)\n",
      "0.5085368842414836, (0.7, 1, 0.6, 7, 0.6)\n",
      "0.5004493096969201, (0.7, 1, 0.6, 8, 1)\n",
      "0.5072298014868066, (0.7, 1, 0.6, 8, 0.8)\n",
      "0.4942406666122049, (0.7, 1, 0.6, 8, 0.6)\n",
      "0.5039620946001143, (0.7, 1, 0.4, 5, 1)\n",
      "0.5047790213217874, (0.7, 1, 0.4, 5, 0.8)\n",
      "0.4982436075484029, (0.7, 1, 0.4, 5, 0.6)\n",
      "0.5025733191732702, (0.7, 1, 0.4, 6, 1)\n",
      "0.5035536312392779, (0.7, 1, 0.4, 6, 0.8)\n",
      "0.5006943877134221, (0.7, 1, 0.4, 6, 0.6)\n",
      "0.5020831631402664, (0.7, 1, 0.4, 7, 1)\n",
      "0.5023282411567682, (0.7, 1, 0.4, 7, 0.8)\n",
      "0.5015930071072625, (0.7, 1, 0.4, 7, 0.6)\n",
      "0.4964463687607222, (0.7, 1, 0.4, 8, 1)\n",
      "0.5055959480434605, (0.7, 1, 0.4, 8, 0.8)\n",
      "0.5031451678784413, (0.7, 1, 0.4, 8, 0.6)\n"
     ]
    }
   ],
   "source": [
    "for key in results:\n",
    "    print(f\"{results[key][1][2]}, {key}\")"
   ]
  },
  {
   "cell_type": "code",
   "execution_count": 10,
   "metadata": {},
   "outputs": [
    {
     "data": {
      "text/plain": [
       "XGBClassifier(base_score=None, booster=None, callbacks=None,\n",
       "              colsample_bylevel=None, colsample_bynode=None,\n",
       "              colsample_bytree=None, early_stopping_rounds=None,\n",
       "              enable_categorical=False, eval_metric=None, feature_types=None,\n",
       "              gamma=None, gpu_id=None, grow_policy=None, importance_type=None,\n",
       "              interaction_constraints=None, learning_rate=None, max_bin=None,\n",
       "              max_cat_threshold=None, max_cat_to_onehot=None,\n",
       "              max_delta_step=None, max_depth=None, max_leaves=None,\n",
       "              min_child_weight=None, missing=nan, monotone_constraints=None,\n",
       "              n_estimators=100, n_jobs=None, num_parallel_tree=None,\n",
       "              objective='binary:logistic', predictor=None, ...)"
      ]
     },
     "execution_count": 10,
     "metadata": {},
     "output_type": "execute_result"
    }
   ],
   "source": [
    "param = {}\n",
    "param['objective'] = \"binary:logistic\"\n",
    "param['booster'] = 'gbtree'\n",
    "param[\"eval_metric\"] = \"auc\"\n",
    "param['eta'] = 0.2\n",
    "param['gamma'] = 0\n",
    "param['subsample'] = 1\n",
    "param['max_depth'] = 7\n",
    "param['colsample_bytree']=1\n",
    "param['seed'] = 0\n",
    "xgb = XGBClassifier()\n",
    "xgb.fit(X_train, y_train)"
   ]
  },
  {
   "cell_type": "code",
   "execution_count": 12,
   "metadata": {},
   "outputs": [],
   "source": [
    "pred = xgb.predict(X_train)\n",
    "pred_t = xgb.predict(X_test)"
   ]
  },
  {
   "cell_type": "code",
   "execution_count": 13,
   "metadata": {},
   "outputs": [
    {
     "name": "stdout",
     "output_type": "stream",
     "text": [
      "0.814664308738132\n",
      "0.8105051197463691\n",
      "0.6462831374692539\n",
      "0.7793139066723586\n"
     ]
    }
   ],
   "source": [
    "print(accuracy_score(y_train, pred))\n",
    "print(precision_score(y_train, pred))\n",
    "print(recall_score(y_train, pred))\n",
    "print(roc_auc_score(y_train, pred))"
   ]
  },
  {
   "cell_type": "code",
   "execution_count": 14,
   "metadata": {
    "scrolled": true
   },
   "outputs": [
    {
     "name": "stdout",
     "output_type": "stream",
     "text": [
      "0.711158584764859\n",
      "0.6216271673335385\n",
      "0.49497590066171065\n",
      "0.6634022230166737\n"
     ]
    }
   ],
   "source": [
    "print(accuracy_score(y_test, pred_t))\n",
    "print(precision_score(y_test, pred_t))\n",
    "print(recall_score(y_test, pred_t))\n",
    "print(roc_auc_score(y_test, pred_t))"
   ]
  },
  {
   "cell_type": "markdown",
   "metadata": {},
   "source": [
    "***"
   ]
  },
  {
   "cell_type": "markdown",
   "metadata": {},
   "source": [
    "***"
   ]
  },
  {
   "cell_type": "code",
   "execution_count": 109,
   "metadata": {},
   "outputs": [],
   "source": [
    "kfold = model_selection.KFold(n_splits=10, random_state=1, shuffle=True)"
   ]
  },
  {
   "cell_type": "code",
   "execution_count": 107,
   "metadata": {},
   "outputs": [],
   "source": [
    "estimators = []\n",
    "estimators.append(('random forest', rf))\n",
    "estimators.append(('xgb', xgb))"
   ]
  },
  {
   "cell_type": "code",
   "execution_count": null,
   "metadata": {},
   "outputs": [],
   "source": [
    "ensemble = VotingClassifier(estimators)\n",
    "results = model_selection.cross_val_score(ensemble, X_train, y_train, cv=kfold)"
   ]
  },
  {
   "cell_type": "code",
   "execution_count": 112,
   "metadata": {},
   "outputs": [
    {
     "data": {
      "text/plain": [
       "array([0.6996337 , 0.70695971, 0.69738863, 0.70412383, 0.70408887,\n",
       "       0.70137083, 0.70030726, 0.69995273, 0.69853463, 0.70137083])"
      ]
     },
     "execution_count": 112,
     "metadata": {},
     "output_type": "execute_result"
    }
   ],
   "source": [
    "results"
   ]
  }
 ],
 "metadata": {
  "kernelspec": {
   "display_name": "Python 3",
   "language": "python",
   "name": "python3"
  },
  "language_info": {
   "codemirror_mode": {
    "name": "ipython",
    "version": 3
   },
   "file_extension": ".py",
   "mimetype": "text/x-python",
   "name": "python",
   "nbconvert_exporter": "python",
   "pygments_lexer": "ipython3",
   "version": "3.8.3"
  }
 },
 "nbformat": 4,
 "nbformat_minor": 4
}
